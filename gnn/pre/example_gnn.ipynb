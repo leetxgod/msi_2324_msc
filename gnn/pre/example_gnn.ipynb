{
 "cells": [
  {
   "cell_type": "code",
   "execution_count": 1,
   "id": "00992143-e7e7-4263-972a-335f3a3e5d9a",
   "metadata": {},
   "outputs": [],
   "source": [
    "import torch"
   ]
  },
  {
   "cell_type": "code",
   "execution_count": 3,
   "id": "21d48695-9862-47e5-8a49-c28da122f8bc",
   "metadata": {},
   "outputs": [
    {
     "name": "stdout",
     "output_type": "stream",
     "text": [
      "torch version:  2.1.0\n"
     ]
    }
   ],
   "source": [
    "print(\"torch version: \", torch.__version__)"
   ]
  },
  {
   "cell_type": "code",
   "execution_count": 4,
   "id": "5ce23ab9-cd75-4fa8-88b3-ef4b23755489",
   "metadata": {},
   "outputs": [],
   "source": [
    "from torch_geometric.data import Data"
   ]
  },
  {
   "cell_type": "code",
   "execution_count": 5,
   "id": "fdd40776",
   "metadata": {},
   "outputs": [],
   "source": [
    "edge_index = torch.tensor([[0, 1, 1, 2],\n",
    "                           [1, 0, 2, 1]], dtype=torch.long)\n",
    "x = torch.tensor([[-1], [0], [1]], dtype=torch.float)\n",
    "\n",
    "data = Data(x=x, edge_index=edge_index)"
   ]
  },
  {
   "cell_type": "code",
   "execution_count": 6,
   "id": "5ca9050c-996d-48a4-8c3e-f169a9489e92",
   "metadata": {},
   "outputs": [
    {
     "name": "stdout",
     "output_type": "stream",
     "text": [
      "Data(x=[3, 1], edge_index=[2, 4])\n"
     ]
    }
   ],
   "source": [
    "print(data)"
   ]
  },
  {
   "cell_type": "code",
   "execution_count": 5,
   "id": "28dcaaa0-cd92-420d-ac32-9978f54fc88d",
   "metadata": {},
   "outputs": [],
   "source": [
    "from torch_geometric.datasets import TUDataset\n",
    "\n",
    "dataset = TUDataset(root='/tmp/ENZYMES', name='ENZYMES')"
   ]
  },
  {
   "cell_type": "code",
   "execution_count": 6,
   "id": "0cf2db18-1d53-4da5-aa91-b10c994021ed",
   "metadata": {},
   "outputs": [
    {
     "data": {
      "text/plain": [
       "600"
      ]
     },
     "execution_count": 6,
     "metadata": {},
     "output_type": "execute_result"
    }
   ],
   "source": [
    "len(dataset)"
   ]
  },
  {
   "cell_type": "code",
   "execution_count": null,
   "id": "a03e3358-0f72-4daf-bf54-383310a41d10",
   "metadata": {},
   "outputs": [],
   "source": [
    "train_dataset = dataset[:540]"
   ]
  },
  {
   "cell_type": "code",
   "execution_count": null,
   "id": "f476f092-c67e-4a5b-8c5a-1b7bbce47d64",
   "metadata": {},
   "outputs": [],
   "source": [
    "test_dataset = dataset[540:]"
   ]
  },
  {
   "cell_type": "code",
   "execution_count": null,
   "id": "93d76ab1-b628-4bbd-940d-c4daf0aee4be",
   "metadata": {},
   "outputs": [],
   "source": [
    "dataset = dataset.shuffle()"
   ]
  },
  {
   "cell_type": "code",
   "execution_count": null,
   "id": "d9e05d3d-6248-494d-9216-667b4c99a4bc",
   "metadata": {},
   "outputs": [],
   "source": [
    "perm = torch.randperm(len(dataset))\n",
    "dataset = dataset[perm]"
   ]
  },
  {
   "cell_type": "code",
   "execution_count": null,
   "id": "c1d84b52-eca3-4938-8855-62c8920c14f4",
   "metadata": {},
   "outputs": [],
   "source": [
    "from torch_geometric.datasets import TUDataset\n",
    "from torch_geometric.loader import DataLoader\n",
    "\n",
    "dataset = TUDataset(root='/tmp/ENZYMES', name='ENZYMES', use_node_attr=True)\n",
    "loader = DataLoader(dataset, batch_size=32, shuffle=True)"
   ]
  },
  {
   "cell_type": "code",
   "execution_count": null,
   "id": "99ff157d-17bd-4ac2-9066-4a37f0662e9a",
   "metadata": {},
   "outputs": [],
   "source": [
    "for batch in loader:\n",
    "    batch"
   ]
  },
  {
   "cell_type": "code",
   "execution_count": null,
   "id": "46096220-a128-43ac-a053-034a3109ad65",
   "metadata": {},
   "outputs": [],
   "source": [
    "for batch in loader:\n",
    "    print(batch)"
   ]
  },
  {
   "cell_type": "code",
   "execution_count": null,
   "id": "9bb8ec81-22a2-448a-ade4-01a68027c36b",
   "metadata": {},
   "outputs": [],
   "source": [
    "for data in loader:\n",
    "    data\n",
    "    >>> DataBatch(batch=[1082], edge_index=[2, 4066], x=[1082, 21], y=[32])\n",
    "\n",
    "    data.num_graphs\n",
    "    >>> 32\n",
    "\n",
    "    x = scatter(data.x, data.batch, dim=0, reduce='mean')\n",
    "    x.size()"
   ]
  },
  {
   "cell_type": "code",
   "execution_count": null,
   "id": "a1a31217-d497-462e-8f5e-a551faf8a17b",
   "metadata": {},
   "outputs": [],
   "source": [
    "from torch_geometric.utils import scatter\n",
    "from torch_geometric.datasets import TUDataset\n",
    "from torch_geometric.loader import DataLoader\n",
    "for data in loader:\n",
    "    print(data)\n",
    "\n",
    "    x = scatter(data.x, data.batch, dim=0, reduce='mean')\n",
    "    x.size()"
   ]
  },
  {
   "cell_type": "code",
   "execution_count": null,
   "id": "2b7de531-bc05-4fe0-8767-4de2232119a0",
   "metadata": {},
   "outputs": [],
   "source": []
  },
  {
   "cell_type": "code",
   "execution_count": null,
   "id": "7541f9bd-39e4-4530-ad4b-0bebcdc7e57a",
   "metadata": {},
   "outputs": [],
   "source": []
  }
 ],
 "metadata": {
  "kernelspec": {
   "display_name": "msi_thesis_kernel",
   "language": "python",
   "name": "msi_thesis_kernel"
  },
  "language_info": {
   "codemirror_mode": {
    "name": "ipython",
    "version": 3
   },
   "file_extension": ".py",
   "mimetype": "text/x-python",
   "name": "python",
   "nbconvert_exporter": "python",
   "pygments_lexer": "ipython3",
   "version": "3.11.5"
  }
 },
 "nbformat": 4,
 "nbformat_minor": 5
}
