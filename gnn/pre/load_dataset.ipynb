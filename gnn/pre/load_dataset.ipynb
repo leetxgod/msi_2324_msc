{
 "cells": [
  {
   "cell_type": "code",
   "execution_count": 2,
   "id": "3dede010-27f0-43a1-8ca5-e57198338c7f",
   "metadata": {},
   "outputs": [
    {
     "name": "stderr",
     "output_type": "stream",
     "text": [
      "/var/folders/vx/73cw951x6mnfpr8__d4t1psr0000gn/T/ipykernel_4560/3648170110.py:1: DeprecationWarning: \n",
      "Pyarrow will become a required dependency of pandas in the next major release of pandas (pandas 3.0),\n",
      "(to allow more performant data types, such as the Arrow string type, and better interoperability with other libraries)\n",
      "but was not found to be installed on your system.\n",
      "If this would cause problems for you,\n",
      "please provide us feedback at https://github.com/pandas-dev/pandas/issues/54466\n",
      "        \n",
      "  import pandas\n"
     ]
    }
   ],
   "source": [
    "import pandas"
   ]
  },
  {
   "cell_type": "code",
   "execution_count": 3,
   "id": "73c996fd-8197-456b-aa33-22a294702247",
   "metadata": {},
   "outputs": [
    {
     "data": {
      "text/plain": [
       "'2.2.0'"
      ]
     },
     "execution_count": 3,
     "metadata": {},
     "output_type": "execute_result"
    }
   ],
   "source": [
    "pandas.__version__"
   ]
  },
  {
   "cell_type": "code",
   "execution_count": 4,
   "id": "868125c9-ea0d-4302-b0c0-a3c4f8d87fe3",
   "metadata": {},
   "outputs": [],
   "source": [
    "df = pandas.read_csv(\"../datasets/authenticus/publications_raw_data_1000_records.csv\")"
   ]
  },
  {
   "cell_type": "code",
   "execution_count": 4,
   "id": "2382921d-7009-4df3-b2a2-e7f88deda633",
   "metadata": {},
   "outputs": [
    {
     "data": {
      "text/html": [
       "<div>\n",
       "<style scoped>\n",
       "    .dataframe tbody tr th:only-of-type {\n",
       "        vertical-align: middle;\n",
       "    }\n",
       "\n",
       "    .dataframe tbody tr th {\n",
       "        vertical-align: top;\n",
       "    }\n",
       "\n",
       "    .dataframe thead th {\n",
       "        text-align: right;\n",
       "    }\n",
       "</style>\n",
       "<table border=\"1\" class=\"dataframe\">\n",
       "  <thead>\n",
       "    <tr style=\"text-align: right;\">\n",
       "      <th></th>\n",
       "      <th>id</th>\n",
       "      <th>publication</th>\n",
       "      <th>source</th>\n",
       "      <th>source_version</th>\n",
       "      <th>source_id</th>\n",
       "      <th>create_date</th>\n",
       "      <th>last_update</th>\n",
       "      <th>removed_at_source</th>\n",
       "    </tr>\n",
       "  </thead>\n",
       "  <tbody>\n",
       "    <tr>\n",
       "      <th>0</th>\n",
       "      <td>1</td>\n",
       "      <td>{\"publication_type\":\"J\",\"authors\":\"Figueiredo,...</td>\n",
       "      <td>wos</td>\n",
       "      <td>1</td>\n",
       "      <td>WOS:000071028700052</td>\n",
       "      <td>2014-02-25 20:29:23</td>\n",
       "      <td>2014-02-25 20:29:23</td>\n",
       "      <td>0</td>\n",
       "    </tr>\n",
       "    <tr>\n",
       "      <th>1</th>\n",
       "      <td>2</td>\n",
       "      <td>{\"publication_type\":\"J\",\"authors\":\"Mendes, LF\"...</td>\n",
       "      <td>wos</td>\n",
       "      <td>1</td>\n",
       "      <td>WOS:000071030000006</td>\n",
       "      <td>2014-02-25 23:46:51</td>\n",
       "      <td>2014-02-25 23:46:51</td>\n",
       "      <td>0</td>\n",
       "    </tr>\n",
       "    <tr>\n",
       "      <th>2</th>\n",
       "      <td>3</td>\n",
       "      <td>{\"publication_type\":\"J\",\"authors\":\"Larkin, IA;...</td>\n",
       "      <td>wos</td>\n",
       "      <td>1</td>\n",
       "      <td>WOS:000071043700059</td>\n",
       "      <td>2014-02-26 00:04:18</td>\n",
       "      <td>2014-02-26 00:04:18</td>\n",
       "      <td>0</td>\n",
       "    </tr>\n",
       "    <tr>\n",
       "      <th>3</th>\n",
       "      <td>4</td>\n",
       "      <td>{\"publication_type\":\"B\",\"authors\":\"Neves, J; C...</td>\n",
       "      <td>wos</td>\n",
       "      <td>1</td>\n",
       "      <td>WOS:000071092500002</td>\n",
       "      <td>2014-02-25 20:58:16</td>\n",
       "      <td>2014-02-25 20:58:16</td>\n",
       "      <td>0</td>\n",
       "    </tr>\n",
       "    <tr>\n",
       "      <th>4</th>\n",
       "      <td>5</td>\n",
       "      <td>{\"publication_type\":\"J\",\"authors\":\"Collaco, P;...</td>\n",
       "      <td>wos</td>\n",
       "      <td>1</td>\n",
       "      <td>WOS:000071119500053</td>\n",
       "      <td>2014-02-25 20:26:23</td>\n",
       "      <td>2014-02-25 20:26:23</td>\n",
       "      <td>0</td>\n",
       "    </tr>\n",
       "    <tr>\n",
       "      <th>...</th>\n",
       "      <td>...</td>\n",
       "      <td>...</td>\n",
       "      <td>...</td>\n",
       "      <td>...</td>\n",
       "      <td>...</td>\n",
       "      <td>...</td>\n",
       "      <td>...</td>\n",
       "      <td>...</td>\n",
       "    </tr>\n",
       "    <tr>\n",
       "      <th>995</th>\n",
       "      <td>998</td>\n",
       "      <td>{\"publication_type\":\"J\",\"authors\":\"Silva, AMG;...</td>\n",
       "      <td>wos</td>\n",
       "      <td>1</td>\n",
       "      <td>WOS:000086892600014</td>\n",
       "      <td>2014-02-25 18:59:35</td>\n",
       "      <td>2014-02-25 18:59:35</td>\n",
       "      <td>0</td>\n",
       "    </tr>\n",
       "    <tr>\n",
       "      <th>996</th>\n",
       "      <td>999</td>\n",
       "      <td>{\"publication_type\":\"J\",\"authors\":\"Sousa, N; M...</td>\n",
       "      <td>wos</td>\n",
       "      <td>1</td>\n",
       "      <td>WOS:000086963900002</td>\n",
       "      <td>2014-02-25 21:43:48</td>\n",
       "      <td>2014-02-25 21:43:48</td>\n",
       "      <td>0</td>\n",
       "    </tr>\n",
       "    <tr>\n",
       "      <th>997</th>\n",
       "      <td>1000</td>\n",
       "      <td>{\"publication_type\":\"J\",\"authors\":\"Carneiro, A...</td>\n",
       "      <td>wos</td>\n",
       "      <td>1</td>\n",
       "      <td>WOS:000086966400018</td>\n",
       "      <td>2014-02-25 19:40:23</td>\n",
       "      <td>2014-02-25 19:40:23</td>\n",
       "      <td>0</td>\n",
       "    </tr>\n",
       "    <tr>\n",
       "      <th>998</th>\n",
       "      <td>1001</td>\n",
       "      <td>{\"publication_type\":\"J\",\"authors\":\"Goodwin, R;...</td>\n",
       "      <td>wos</td>\n",
       "      <td>1</td>\n",
       "      <td>WOS:000086999800007</td>\n",
       "      <td>2014-02-26 00:00:54</td>\n",
       "      <td>2014-02-26 00:00:54</td>\n",
       "      <td>0</td>\n",
       "    </tr>\n",
       "    <tr>\n",
       "      <th>999</th>\n",
       "      <td>1002</td>\n",
       "      <td>{\"publication_type\":\"J\",\"authors\":\"Sousa, N; L...</td>\n",
       "      <td>wos</td>\n",
       "      <td>1</td>\n",
       "      <td>WOS:000087064400007</td>\n",
       "      <td>2014-02-25 21:43:48</td>\n",
       "      <td>2014-02-25 21:43:48</td>\n",
       "      <td>0</td>\n",
       "    </tr>\n",
       "  </tbody>\n",
       "</table>\n",
       "<p>1000 rows × 8 columns</p>\n",
       "</div>"
      ],
      "text/plain": [
       "       id                                        publication source  \\\n",
       "0       1  {\"publication_type\":\"J\",\"authors\":\"Figueiredo,...    wos   \n",
       "1       2  {\"publication_type\":\"J\",\"authors\":\"Mendes, LF\"...    wos   \n",
       "2       3  {\"publication_type\":\"J\",\"authors\":\"Larkin, IA;...    wos   \n",
       "3       4  {\"publication_type\":\"B\",\"authors\":\"Neves, J; C...    wos   \n",
       "4       5  {\"publication_type\":\"J\",\"authors\":\"Collaco, P;...    wos   \n",
       "..    ...                                                ...    ...   \n",
       "995   998  {\"publication_type\":\"J\",\"authors\":\"Silva, AMG;...    wos   \n",
       "996   999  {\"publication_type\":\"J\",\"authors\":\"Sousa, N; M...    wos   \n",
       "997  1000  {\"publication_type\":\"J\",\"authors\":\"Carneiro, A...    wos   \n",
       "998  1001  {\"publication_type\":\"J\",\"authors\":\"Goodwin, R;...    wos   \n",
       "999  1002  {\"publication_type\":\"J\",\"authors\":\"Sousa, N; L...    wos   \n",
       "\n",
       "     source_version            source_id          create_date  \\\n",
       "0                 1  WOS:000071028700052  2014-02-25 20:29:23   \n",
       "1                 1  WOS:000071030000006  2014-02-25 23:46:51   \n",
       "2                 1  WOS:000071043700059  2014-02-26 00:04:18   \n",
       "3                 1  WOS:000071092500002  2014-02-25 20:58:16   \n",
       "4                 1  WOS:000071119500053  2014-02-25 20:26:23   \n",
       "..              ...                  ...                  ...   \n",
       "995               1  WOS:000086892600014  2014-02-25 18:59:35   \n",
       "996               1  WOS:000086963900002  2014-02-25 21:43:48   \n",
       "997               1  WOS:000086966400018  2014-02-25 19:40:23   \n",
       "998               1  WOS:000086999800007  2014-02-26 00:00:54   \n",
       "999               1  WOS:000087064400007  2014-02-25 21:43:48   \n",
       "\n",
       "             last_update  removed_at_source  \n",
       "0    2014-02-25 20:29:23                  0  \n",
       "1    2014-02-25 23:46:51                  0  \n",
       "2    2014-02-26 00:04:18                  0  \n",
       "3    2014-02-25 20:58:16                  0  \n",
       "4    2014-02-25 20:26:23                  0  \n",
       "..                   ...                ...  \n",
       "995  2014-02-25 18:59:35                  0  \n",
       "996  2014-02-25 21:43:48                  0  \n",
       "997  2014-02-25 19:40:23                  0  \n",
       "998  2014-02-26 00:00:54                  0  \n",
       "999  2014-02-25 21:43:48                  0  \n",
       "\n",
       "[1000 rows x 8 columns]"
      ]
     },
     "execution_count": 4,
     "metadata": {},
     "output_type": "execute_result"
    }
   ],
   "source": [
    "df"
   ]
  },
  {
   "cell_type": "code",
   "execution_count": 13,
   "id": "41f8ecdd-fd2a-4600-be68-b6aa7d7159e9",
   "metadata": {},
   "outputs": [],
   "source": [
    "import json\n",
    "\n",
    "pubs = []\n",
    "\n",
    "for i in df[\"publication\"]:\n",
    "    pubs.append(json.loads(i))"
   ]
  },
  {
   "cell_type": "code",
   "execution_count": 19,
   "id": "59b0b3bd-db36-4682-b538-02647ad3d306",
   "metadata": {},
   "outputs": [
    {
     "name": "stdout",
     "output_type": "stream",
     "text": [
      "{'publication_type': 'J', 'authors': 'Figueiredo, FM; Labrincha, JA; Frade, JR; Marques, FMB', 'book_series_editors': None, 'editors': None, 'book_group_authors': None, 'authors_full_name': 'Figueiredo, FM; Labrincha, JA; Frade, JR; Marques, FMB', 'book_authors_full_name': None, 'group_authors': None, 'document_title': 'Reactions between a zirconia-based electrolyte and LaCoO3-based electrode materials', 'publication_name': 'SOLID STATE IONICS', 'book_series_title': None, 'book_series_subtitle': None, 'language': 'English', 'document_type': 'Article; Proceedings Paper', 'conference_title': 'XIIIth International Symposium on the Reactivity of Solids', 'conference_date': 'SEP 08-12, 1996', 'conference_location': 'HAMBURG, GERMANY', 'conference_sponsors': 'Bayer AG, Leverkusen, Behorde Wissensch & Forsch, Hamburg, C Boysen, Hamburg, Deut Forschungsgemein, Bonn, DMT Gesell Forsch & Prufung mbH, Essen, Fonds Chem Ind, Frankfurt, Hoeschst AG, Frankfurt, Mercedes Benz AG, Stuttgart, Netzsch, Selb, Anton Paar GmbH, Graz, Philips, Kassel, Setaram, Dreieich, Tchibo Frischrost GmbH, Hamburg, Univ Hamburg', 'conference_host': None, 'author_keywords': 'yttria stabilized zirconia; lanthanum cobaltate; reaction kinetics; variable temperature', 'keywords_plus': 'OXIDE FUEL-CELLS; THERMODYNAMIC ANALYSIS', 'abstract': 'Thermodynamic calculations on high temperature reactions between an YSZ electrolyte and LaCoO3 cathode materials identify the limiting conditions of temperature and oxygen partial pressure ranges required to prevent formation of resistive reaction products. The time dependence of the fraction reacted was evaluated under isothermal conditions and as a function of temperature. Theoretical models for both diffusion or phase boundary controlled reactions fail to fit the experimental data. This failure is probably related to loss of contact at the LaCoO3\\\\La2Zr2O7 interface, when significant oxygen pressures are built up inside compact reacting mixtures of YSZ and LaCoO3.', 'author_address': 'Univ Aveiro, Dept Engn Ceram & Vidro, P-3810 Aveiro, Portugal', 'reprint_address': 'Frade, JR (reprint author), Univ Aveiro, Dept Engn Ceram & Vidro, P-3810 Aveiro, Portugal.', 'e_mail_address': None, 'RI': 'MARQUES, FERNANDO/I-4504-2012; Labrincha, Joao/B-3984-2010', 'OI': 'MARQUES, FERNANDO/0000-0001-8631-6783; Labrincha, Joao/0000-0003-4782-1685', 'funding': None, 'funding_text': None, 'cited_references': 'CARTER RE, 1961, J CHEM PHYS, V34, P2010, DOI 10.1063/1.1731812; FRADE JR, 1992, J AM CERAM SOC, V75, P1949, DOI 10.1111/j.1151-2916.1992.tb07222.x; GINSTLING A. M., 1950, J APPL CHEM-USSR, V23, P1327; IVERSTIFFEE E, 1991, P 2 INT S SOL OX FUE, P671; Jander W, 1927, Z ANORG ALLG CHEM, V163, P1, DOI 10.1002/zaac.19271630102; LABRINCHA JA, 1994, SILICATES IND LIZ, P59; LABRINCHA JA, 1993, MATER RES BULL, V28, P101, DOI 10.1016/0025-5408(93)90077-Q; LABRINCHA JA, 1993, J MATER SCI, V28, P3809, DOI 10.1007/BF00353183; LABRINCHA JA, 1991, P 2 INT S SOL OX FUE, P689; MILLIKEN C, 1990, P 1990 FUEL CELL SEM, P159; SCHMALZRIED H, 1976, TREATISE SOLID STATE, V4, P233; SHARP JH, 1966, J AM CERAM SOC, V49, P379, DOI 10.1111/j.1151-2916.1966.tb13289.x; TAGAWA H, 1991, P 2 INT S SOL OX FUE, P681; VALENSI G., 1936, CR HEBD ACAD SCI, V202, P309; YAMAMOTO O, 1990, P INT S SOL OX FUEL, P148; YAMAMOTO O, 1987, SOLID STATE IONICS, V22, P241, DOI 10.1016/0167-2738(87)90039-7; YOKOKAWA H, 1991, J ELECTROCHEM SOC, V138, P2719, DOI 10.1149/1.2086043; YOKOKAWA H, 1990, SOLID STATE IONICS, V40-1, P398, DOI 10.1016/0167-2738(90)90366-Y; YOKOKAWA H, 1990, DENKI KAGAKU, V58, P489', 'cited_reference_count': '19', 'times_cited': '27', 'total_time_cited': '27', 'publisher': 'ELSEVIER SCIENCE BV', 'publisher_city': 'AMSTERDAM', 'publisher_address': 'PO BOX 211, 1000 AE AMSTERDAM, NETHERLANDS', 'issn': '0167-2738', 'eissn': None, 'isbn': None, 'character_source_abbreviation': 'SOLID STATE IONICS', 'iso_source_abbreviation': 'Solid State Ion.', 'publication_date': 'NOV', 'year_published': '1997', 'volume': '101', 'issue': None, 'part_number': '1', 'supplement': None, 'special_issue': None, 'meeting_abstract': None, 'beginning_page': '343', 'ending_page': '349', 'article_number': None, 'digital_object_identifier': '10.1016/S0167-2738(97)84051-9', 'book_doi': None, 'page_count': '7', 'wos_categories': 'Chemistry, Physical; Physics, Condensed Matter', 'subject_category': 'Chemistry; Physics', 'document_delivery_number': 'YM103', 'unique_article_identifier': 'WOS:000071028700052'}\n"
     ]
    }
   ],
   "source": [
    "print(pubs[0])"
   ]
  },
  {
   "cell_type": "code",
   "execution_count": 5,
   "id": "3a8bc496-b337-4661-ae66-169cbbc63b84",
   "metadata": {},
   "outputs": [],
   "source": [
    "from torch_geometric.data import HeteroData"
   ]
  },
  {
   "cell_type": "code",
   "execution_count": 6,
   "id": "27efd7f9-0fed-4521-901d-9cc6bb10c5c4",
   "metadata": {},
   "outputs": [],
   "source": [
    "data = HeteroData()"
   ]
  },
  {
   "cell_type": "code",
   "execution_count": 7,
   "id": "5c8e536a-b422-4ff4-a37b-84f44ca8baf5",
   "metadata": {},
   "outputs": [
    {
     "data": {
      "text/plain": [
       "HeteroData()"
      ]
     },
     "execution_count": 7,
     "metadata": {},
     "output_type": "execute_result"
    }
   ],
   "source": [
    "data"
   ]
  }
 ],
 "metadata": {
  "kernelspec": {
   "display_name": "msi_thesis_kernel",
   "language": "python",
   "name": "msi_thesis_kernel"
  },
  "language_info": {
   "codemirror_mode": {
    "name": "ipython",
    "version": 3
   },
   "file_extension": ".py",
   "mimetype": "text/x-python",
   "name": "python",
   "nbconvert_exporter": "python",
   "pygments_lexer": "ipython3",
   "version": "3.11.5"
  }
 },
 "nbformat": 4,
 "nbformat_minor": 5
}
