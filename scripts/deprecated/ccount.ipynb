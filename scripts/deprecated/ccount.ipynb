{
 "cells": [
  {
   "cell_type": "code",
   "execution_count": 1,
   "metadata": {},
   "outputs": [],
   "source": [
    "from FAdo.fa import *\n",
    "from FAdo.reex import *\n",
    "from FAdo.fio import *\n",
    "\n",
    "import lark"
   ]
  },
  {
   "cell_type": "code",
   "execution_count": 78,
   "metadata": {},
   "outputs": [
    {
     "name": "stdout",
     "output_type": "stream",
     "text": [
      "((((@epsilon d*) d) + @epsilon) b) + @empty_set\n"
     ]
    }
   ],
   "source": [
    "r = \"d*db + b\"\n",
    "r = str2regexp(r)\n",
    "print(r.wordDerivative(\"d\"))"
   ]
  },
  {
   "cell_type": "code",
   "execution_count": null,
   "metadata": {},
   "outputs": [],
   "source": [
    "r = \"(ad + d*)db\"\n",
    "r = str2regexp(r)\n",
    "# print(r.wordDerivative(\"a\"))\n",
    "z = r.dfaPD()\n",
    "z.display()"
   ]
  },
  {
   "cell_type": "code",
   "execution_count": 31,
   "metadata": {},
   "outputs": [],
   "source": [
    "# class Counter(RegExp):\n",
    "# \tdef __init__(self, arg1, min, max, sigma=None):\n",
    "# \t\tsuper(Counter, self).__init__()\n",
    "# \t\tself.arg1 = arg1\n",
    "# \t\tself.min = min\n",
    "# \t\tself.max = max\n",
    "# \t\tself.Sigma = sigma\n",
    "\t\n",
    "# \tdef __repr__(self):\n",
    "# \t\treturn \"{}({}^|{},{}|)\".format(self.__class__.__name__, repr(self.arg1), self.min, self.max)\n",
    "\n",
    "# \tdef _setSigma(self, strict=False):\n",
    "# \t\tself.arg1.setSigma(self.Sigma, strict)\n",
    "\n"
   ]
  },
  {
   "cell_type": "code",
   "execution_count": 2,
   "metadata": {},
   "outputs": [
    {
     "name": "stdout",
     "output_type": "stream",
     "text": [
      "False\n"
     ]
    }
   ],
   "source": [
    "\n",
    "class CCount(Power):\n",
    "\tdef __init__(self, arg, n, sigma=None):\n",
    "\t\tself.arg = arg\n",
    "\t\tself.n = n\n",
    "\t\tself.sigma = sigma\n",
    "\t\tsuper().__init__(arg, n, sigma)\n",
    "\n",
    "\tdef derivative(self, sigma):\n",
    "\t\t#print(self.n)\n",
    "\t\treturn CCount(self.arg.derivative(sigma), self.n-1)\n",
    "\n",
    "#r = CStar(CDisj(CCount(CAtom(\"a\"),1), CConcat(CAtom(\"b\"), CAtom(\"a\"))))\n",
    "a = CCount(CAtom(\"a\"), 3)\n",
    "r = a.evalWordP(\"aaa\")\n",
    "print(r)"
   ]
  }
 ],
 "metadata": {
  "kernelspec": {
   "display_name": "Python 3",
   "language": "python",
   "name": "python3"
  },
  "language_info": {
   "codemirror_mode": {
    "name": "ipython",
    "version": 3
   },
   "file_extension": ".py",
   "mimetype": "text/x-python",
   "name": "python",
   "nbconvert_exporter": "python",
   "pygments_lexer": "ipython3",
   "version": "3.12.4"
  }
 },
 "nbformat": 4,
 "nbformat_minor": 2
}
