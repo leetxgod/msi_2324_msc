{
 "cells": [
  {
   "cell_type": "code",
   "execution_count": 1,
   "metadata": {},
   "outputs": [],
   "source": [
    "from FAdo.fa import *\n",
    "from FAdo.reex import *\n",
    "from FAdo.fio import *"
   ]
  },
  {
   "cell_type": "code",
   "execution_count": 2,
   "metadata": {},
   "outputs": [],
   "source": [
    "m3 = DFA()\n",
    "m3.setSigma(['0','1'])\n",
    "m3.addState('s1')\n",
    "m3.addState('s2')\n",
    "m3.addState('s3')\n",
    "m3.setInitial(0)\n",
    "m3.addFinal(0)\n",
    "m3.addTransition(0, '0', 0)\n",
    "m3.addTransition(0, '1', 1)\n",
    "m3.addTransition(1, '0', 2)\n",
    "m3.addTransition(1, '1', 0)\n",
    "m3.addTransition(2, '0', 1)\n",
    "m3.addTransition(2, '1', 2)"
   ]
  },
  {
   "cell_type": "code",
   "execution_count": 5,
   "metadata": {},
   "outputs": [
    {
     "data": {
      "text/plain": [
       "True"
      ]
     },
     "execution_count": 5,
     "metadata": {},
     "output_type": "execute_result"
    }
   ],
   "source": [
    "m3.evalWordP(\"0\"*11 + \"1\"*2*5)"
   ]
  },
  {
   "cell_type": "code",
   "execution_count": 3,
   "metadata": {},
   "outputs": [
    {
     "data": {
      "image/svg+xml": [
       "<svg xmlns=\"http://www.w3.org/2000/svg\" xmlns:xlink=\"http://www.w3.org/1999/xlink\" width=\"257pt\" height=\"89pt\" viewBox=\"0.00 0.00 256.75 88.72\">\n",
       "<g id=\"graph0\" class=\"graph\" transform=\"scale(1 1) rotate(0) translate(4 84.72)\">\n",
       "<title>finite_state_machine</title>\n",
       "<polygon fill=\"white\" stroke=\"none\" points=\"-4,4 -4,-84.72 252.75,-84.72 252.75,4 -4,4\"/>\n",
       "<!-- dummy -->\n",
       "<g id=\"node1\" class=\"node\">\n",
       "<title>dummy</title>\n",
       "<ellipse fill=\"black\" stroke=\"black\" cx=\"1.8\" cy=\"-23.11\" rx=\"1.8\" ry=\"1.8\"/>\n",
       "</g>\n",
       "<!-- s1 -->\n",
       "<g id=\"node2\" class=\"node\">\n",
       "<title>s1</title>\n",
       "<ellipse fill=\"none\" stroke=\"black\" cx=\"63.71\" cy=\"-23.11\" rx=\"19.11\" ry=\"19.11\"/>\n",
       "<ellipse fill=\"none\" stroke=\"black\" cx=\"63.71\" cy=\"-23.11\" rx=\"23.11\" ry=\"23.11\"/>\n",
       "<text text-anchor=\"middle\" x=\"63.71\" y=\"-18.06\" font-family=\"Times New Roman,serif\" font-size=\"14.00\">s1</text>\n",
       "</g>\n",
       "<!-- dummy&#45;&gt;s1 -->\n",
       "<g id=\"edge1\" class=\"edge\">\n",
       "<title>dummy-&gt;s1</title>\n",
       "<path fill=\"none\" stroke=\"black\" d=\"M3.84,-23.11C7.13,-23.11 17.74,-23.11 29.07,-23.11\"/>\n",
       "<polygon fill=\"black\" stroke=\"black\" points=\"28.88,-26.61 38.88,-23.11 28.88,-19.61 28.88,-26.61\"/>\n",
       "</g>\n",
       "<!-- s1&#45;&gt;s1 -->\n",
       "<g id=\"edge2\" class=\"edge\">\n",
       "<title>s1-&gt;s1</title>\n",
       "<path fill=\"none\" stroke=\"black\" d=\"M56.06,-45.1C55.23,-55.3 57.78,-64.22 63.71,-64.22 67.23,-64.22 69.56,-61.07 70.7,-56.38\"/>\n",
       "<polygon fill=\"black\" stroke=\"black\" points=\"74.18,-56.8 71.27,-46.61 67.19,-56.39 74.18,-56.8\"/>\n",
       "<text text-anchor=\"middle\" x=\"63.71\" y=\"-67.42\" font-family=\"Times New Roman,serif\" font-size=\"14.00\">0</text>\n",
       "</g>\n",
       "<!-- s2 -->\n",
       "<g id=\"node3\" class=\"node\">\n",
       "<title>s2</title>\n",
       "<ellipse fill=\"none\" stroke=\"black\" cx=\"148.67\" cy=\"-23.11\" rx=\"19.11\" ry=\"19.11\"/>\n",
       "<text text-anchor=\"middle\" x=\"148.67\" y=\"-18.06\" font-family=\"Times New Roman,serif\" font-size=\"14.00\">s2</text>\n",
       "</g>\n",
       "<!-- s1&#45;&gt;s2 -->\n",
       "<g id=\"edge3\" class=\"edge\">\n",
       "<title>s1-&gt;s2</title>\n",
       "<path fill=\"none\" stroke=\"black\" d=\"M86.94,-23.11C96.46,-23.11 107.72,-23.11 117.94,-23.11\"/>\n",
       "<polygon fill=\"black\" stroke=\"black\" points=\"117.79,-26.61 127.79,-23.11 117.79,-19.61 117.79,-26.61\"/>\n",
       "<text text-anchor=\"middle\" x=\"108.19\" y=\"-26.31\" font-family=\"Times New Roman,serif\" font-size=\"14.00\">1</text>\n",
       "</g>\n",
       "<!-- s2&#45;&gt;s1 -->\n",
       "<g id=\"edge5\" class=\"edge\">\n",
       "<title>s2-&gt;s1</title>\n",
       "<path fill=\"none\" stroke=\"black\" d=\"M132.62,-12.25C126.41,-8.41 118.95,-4.56 111.57,-2.61 105.34,-0.96 98.88,-1.9 92.83,-4.08\"/>\n",
       "<polygon fill=\"black\" stroke=\"black\" points=\"91.34,-0.91 83.85,-8.4 94.38,-7.21 91.34,-0.91\"/>\n",
       "<text text-anchor=\"middle\" x=\"108.19\" y=\"-5.81\" font-family=\"Times New Roman,serif\" font-size=\"14.00\">1</text>\n",
       "</g>\n",
       "<!-- s3 -->\n",
       "<g id=\"node4\" class=\"node\">\n",
       "<title>s3</title>\n",
       "<ellipse fill=\"none\" stroke=\"black\" cx=\"229.64\" cy=\"-23.11\" rx=\"19.11\" ry=\"19.11\"/>\n",
       "<text text-anchor=\"middle\" x=\"229.64\" y=\"-18.06\" font-family=\"Times New Roman,serif\" font-size=\"14.00\">s3</text>\n",
       "</g>\n",
       "<!-- s2&#45;&gt;s3 -->\n",
       "<g id=\"edge4\" class=\"edge\">\n",
       "<title>s2-&gt;s3</title>\n",
       "<path fill=\"none\" stroke=\"black\" d=\"M167.99,-23.11C177.09,-23.11 188.33,-23.11 198.64,-23.11\"/>\n",
       "<polygon fill=\"black\" stroke=\"black\" points=\"198.64,-26.61 208.64,-23.11 198.64,-19.61 198.64,-26.61\"/>\n",
       "<text text-anchor=\"middle\" x=\"189.16\" y=\"-26.31\" font-family=\"Times New Roman,serif\" font-size=\"14.00\">0</text>\n",
       "</g>\n",
       "<!-- s3&#45;&gt;s2 -->\n",
       "<g id=\"edge6\" class=\"edge\">\n",
       "<title>s3-&gt;s2</title>\n",
       "<path fill=\"none\" stroke=\"black\" d=\"M213.58,-12.25C207.38,-8.41 199.92,-4.56 192.53,-2.61 185.99,-0.88 179.24,-2.36 173.09,-5.18\"/>\n",
       "<polygon fill=\"black\" stroke=\"black\" points=\"171.61,-1.99 164.75,-10.07 175.15,-8.03 171.61,-1.99\"/>\n",
       "<text text-anchor=\"middle\" x=\"189.16\" y=\"-5.81\" font-family=\"Times New Roman,serif\" font-size=\"14.00\">0</text>\n",
       "</g>\n",
       "<!-- s3&#45;&gt;s3 -->\n",
       "<g id=\"edge7\" class=\"edge\">\n",
       "<title>s3-&gt;s3</title>\n",
       "<path fill=\"none\" stroke=\"black\" d=\"M222.41,-41.05C221.06,-51.03 223.47,-60.22 229.64,-60.22 233.3,-60.22 235.64,-56.98 236.65,-52.26\"/>\n",
       "<polygon fill=\"black\" stroke=\"black\" points=\"240.14,-52.63 236.84,-42.57 233.14,-52.5 240.14,-52.63\"/>\n",
       "<text text-anchor=\"middle\" x=\"229.64\" y=\"-63.42\" font-family=\"Times New Roman,serif\" font-size=\"14.00\">1</text>\n",
       "</g>\n",
       "</g>\n",
       "</svg>"
      ],
      "text/plain": [
       "<IPython.core.display.SVG object>"
      ]
     },
     "metadata": {},
     "output_type": "display_data"
    }
   ],
   "source": [
    "m3.display()"
   ]
  },
  {
   "cell_type": "code",
   "execution_count": 13,
   "metadata": {},
   "outputs": [
    {
     "data": {
      "image/svg+xml": [
       "<svg xmlns=\"http://www.w3.org/2000/svg\" xmlns:xlink=\"http://www.w3.org/1999/xlink\" width=\"275pt\" height=\"103pt\" viewBox=\"0.00 0.00 274.83 103.23\">\n",
       "<g id=\"graph0\" class=\"graph\" transform=\"scale(1 1) rotate(0) translate(4 99.23)\">\n",
       "<title>finite_state_machine</title>\n",
       "<polygon fill=\"white\" stroke=\"none\" points=\"-4,4 -4,-99.23 270.83,-99.23 270.83,4 -4,4\"/>\n",
       "<!-- dummy -->\n",
       "<g id=\"node1\" class=\"node\">\n",
       "<title>dummy</title>\n",
       "<ellipse fill=\"black\" stroke=\"black\" cx=\"1.8\" cy=\"-30.37\" rx=\"1.8\" ry=\"1.8\"/>\n",
       "</g>\n",
       "<!-- 0 -->\n",
       "<g id=\"node2\" class=\"node\">\n",
       "<title>0</title>\n",
       "<ellipse fill=\"none\" stroke=\"black\" cx=\"62.6\" cy=\"-30.37\" rx=\"18\" ry=\"18\"/>\n",
       "<ellipse fill=\"none\" stroke=\"black\" cx=\"62.6\" cy=\"-30.37\" rx=\"22\" ry=\"22\"/>\n",
       "<text text-anchor=\"middle\" x=\"62.6\" y=\"-25.32\" font-family=\"Times New Roman,serif\" font-size=\"14.00\">0</text>\n",
       "</g>\n",
       "<!-- dummy&#45;&gt;0 -->\n",
       "<g id=\"edge1\" class=\"edge\">\n",
       "<title>dummy-&gt;0</title>\n",
       "<path fill=\"none\" stroke=\"black\" d=\"M3.82,-30.37C7.09,-30.37 17.76,-30.37 29.06,-30.37\"/>\n",
       "<polygon fill=\"black\" stroke=\"black\" points=\"28.8,-33.87 38.8,-30.37 28.8,-26.87 28.8,-33.87\"/>\n",
       "</g>\n",
       "<!-- 0&#45;&gt;0 -->\n",
       "<g id=\"edge3\" class=\"edge\">\n",
       "<title>0-&gt;0</title>\n",
       "<path fill=\"none\" stroke=\"black\" d=\"M55.19,-51.36C54.28,-61.45 56.75,-70.37 62.6,-70.37 66.08,-70.37 68.36,-67.23 69.45,-62.56\"/>\n",
       "<polygon fill=\"black\" stroke=\"black\" points=\"72.93,-63.03 69.93,-52.87 65.94,-62.68 72.93,-63.03\"/>\n",
       "<text text-anchor=\"middle\" x=\"62.6\" y=\"-73.57\" font-family=\"Times New Roman,serif\" font-size=\"14.00\">0</text>\n",
       "</g>\n",
       "<!-- 1 -->\n",
       "<g id=\"node3\" class=\"node\">\n",
       "<title>1</title>\n",
       "<ellipse fill=\"none\" stroke=\"black\" cx=\"145.35\" cy=\"-30.37\" rx=\"18\" ry=\"18\"/>\n",
       "<text text-anchor=\"middle\" x=\"145.35\" y=\"-25.32\" font-family=\"Times New Roman,serif\" font-size=\"14.00\">1</text>\n",
       "</g>\n",
       "<!-- 0&#45;&gt;1 -->\n",
       "<g id=\"edge2\" class=\"edge\">\n",
       "<title>0-&gt;1</title>\n",
       "<path fill=\"none\" stroke=\"black\" d=\"M84.82,-30.37C94.29,-30.37 105.59,-30.37 115.79,-30.37\"/>\n",
       "<polygon fill=\"black\" stroke=\"black\" points=\"115.57,-33.87 125.57,-30.37 115.57,-26.87 115.57,-33.87\"/>\n",
       "<text text-anchor=\"middle\" x=\"105.97\" y=\"-33.57\" font-family=\"Times New Roman,serif\" font-size=\"14.00\">1</text>\n",
       "</g>\n",
       "<!-- 1&#45;&gt;0 -->\n",
       "<g id=\"edge4\" class=\"edge\">\n",
       "<title>1-&gt;0</title>\n",
       "<path fill=\"none\" stroke=\"black\" d=\"M130.48,-19.95C124.34,-15.97 116.83,-11.9 109.35,-9.87 102.89,-8.12 96.19,-9.26 89.97,-11.73\"/>\n",
       "<polygon fill=\"black\" stroke=\"black\" points=\"88.7,-8.44 81.43,-16.15 91.92,-14.66 88.7,-8.44\"/>\n",
       "<text text-anchor=\"middle\" x=\"105.97\" y=\"-13.07\" font-family=\"Times New Roman,serif\" font-size=\"14.00\">1</text>\n",
       "</g>\n",
       "<!-- Dead -->\n",
       "<g id=\"node4\" class=\"node\">\n",
       "<title>Dead</title>\n",
       "<ellipse fill=\"none\" stroke=\"black\" cx=\"236.47\" cy=\"-30.37\" rx=\"30.37\" ry=\"30.37\"/>\n",
       "<text text-anchor=\"middle\" x=\"236.47\" y=\"-25.32\" font-family=\"Times New Roman,serif\" font-size=\"14.00\">Dead</text>\n",
       "</g>\n",
       "<!-- 1&#45;&gt;Dead -->\n",
       "<g id=\"edge5\" class=\"edge\">\n",
       "<title>1-&gt;Dead</title>\n",
       "<path fill=\"none\" stroke=\"black\" d=\"M163.53,-30.37C172.3,-30.37 183.37,-30.37 194.19,-30.37\"/>\n",
       "<polygon fill=\"black\" stroke=\"black\" points=\"194.19,-33.87 204.19,-30.37 194.19,-26.87 194.19,-33.87\"/>\n",
       "<text text-anchor=\"middle\" x=\"184.72\" y=\"-33.57\" font-family=\"Times New Roman,serif\" font-size=\"14.00\">0</text>\n",
       "</g>\n",
       "<!-- Dead&#45;&gt;1 -->\n",
       "<g id=\"edge7\" class=\"edge\">\n",
       "<title>Dead-&gt;1</title>\n",
       "<path fill=\"none\" stroke=\"black\" d=\"M210.47,-13.88C201.43,-9.79 191.05,-7.24 181.35,-9.87 177.5,-10.91 173.63,-12.5 169.95,-14.34\"/>\n",
       "<polygon fill=\"black\" stroke=\"black\" points=\"168.45,-11.17 161.53,-19.19 171.95,-17.23 168.45,-11.17\"/>\n",
       "<text text-anchor=\"middle\" x=\"184.72\" y=\"-13.07\" font-family=\"Times New Roman,serif\" font-size=\"14.00\">0</text>\n",
       "</g>\n",
       "<!-- Dead&#45;&gt;Dead -->\n",
       "<g id=\"edge6\" class=\"edge\">\n",
       "<title>Dead-&gt;Dead</title>\n",
       "<path fill=\"none\" stroke=\"black\" d=\"M226.78,-59.65C226.57,-70.16 229.8,-78.73 236.47,-78.73 240.43,-78.73 243.18,-75.71 244.71,-71.06\"/>\n",
       "<polygon fill=\"black\" stroke=\"black\" points=\"248.18,-71.51 245.97,-61.15 241.24,-70.63 248.18,-71.51\"/>\n",
       "<text text-anchor=\"middle\" x=\"236.47\" y=\"-81.93\" font-family=\"Times New Roman,serif\" font-size=\"14.00\">1</text>\n",
       "</g>\n",
       "</g>\n",
       "</svg>"
      ],
      "text/plain": [
       "<IPython.core.display.SVG object>"
      ]
     },
     "metadata": {},
     "output_type": "display_data"
    }
   ],
   "source": [
    "m3.minimalMoore().display()"
   ]
  },
  {
   "cell_type": "code",
   "execution_count": 7,
   "metadata": {},
   "outputs": [
    {
     "data": {
      "text/plain": [
       "6"
      ]
     },
     "execution_count": 7,
     "metadata": {},
     "output_type": "execute_result"
    }
   ],
   "source": [
    "m3.countTransitions()"
   ]
  },
  {
   "cell_type": "code",
   "execution_count": 14,
   "metadata": {},
   "outputs": [],
   "source": [
    "r = CStar(CDisj(CAtom(\"a\"), CConcat(CAtom(\"b\"), CAtom(\"a\"))))"
   ]
  },
  {
   "cell_type": "code",
   "execution_count": 25,
   "metadata": {},
   "outputs": [
    {
     "data": {
      "text/plain": [
       "True"
      ]
     },
     "execution_count": 25,
     "metadata": {},
     "output_type": "execute_result"
    }
   ],
   "source": [
    "r.compare(str2regexp(\"(a*(ba)*a*)*\"))"
   ]
  },
  {
   "cell_type": "code",
   "execution_count": 29,
   "metadata": {},
   "outputs": [
    {
     "data": {
      "image/svg+xml": [
       "<svg xmlns=\"http://www.w3.org/2000/svg\" xmlns:xlink=\"http://www.w3.org/1999/xlink\" width=\"171pt\" height=\"87pt\" viewBox=\"0.00 0.00 171.35 86.50\">\n",
       "<g id=\"graph0\" class=\"graph\" transform=\"scale(1 1) rotate(0) translate(4 82.5)\">\n",
       "<title>finite_state_machine</title>\n",
       "<polygon fill=\"white\" stroke=\"none\" points=\"-4,4 -4,-82.5 167.35,-82.5 167.35,4 -4,4\"/>\n",
       "<!-- dummy0 -->\n",
       "<g id=\"node1\" class=\"node\">\n",
       "<title>dummy0</title>\n",
       "<ellipse fill=\"black\" stroke=\"black\" cx=\"1.8\" cy=\"-22\" rx=\"1.8\" ry=\"1.8\"/>\n",
       "</g>\n",
       "<!-- 0 -->\n",
       "<g id=\"node2\" class=\"node\">\n",
       "<title>0</title>\n",
       "<ellipse fill=\"none\" stroke=\"black\" cx=\"62.6\" cy=\"-22\" rx=\"18\" ry=\"18\"/>\n",
       "<ellipse fill=\"none\" stroke=\"black\" cx=\"62.6\" cy=\"-22\" rx=\"22\" ry=\"22\"/>\n",
       "<text text-anchor=\"middle\" x=\"62.6\" y=\"-16.95\" font-family=\"Times New Roman,serif\" font-size=\"14.00\">0</text>\n",
       "</g>\n",
       "<!-- dummy0&#45;&gt;0 -->\n",
       "<g id=\"edge1\" class=\"edge\">\n",
       "<title>dummy0-&gt;0</title>\n",
       "<path fill=\"none\" stroke=\"black\" d=\"M3.82,-22C7.09,-22 17.76,-22 29.06,-22\"/>\n",
       "<polygon fill=\"black\" stroke=\"black\" points=\"28.8,-25.5 38.8,-22 28.8,-18.5 28.8,-25.5\"/>\n",
       "</g>\n",
       "<!-- 0&#45;&gt;0 -->\n",
       "<g id=\"edge2\" class=\"edge\">\n",
       "<title>0-&gt;0</title>\n",
       "<path fill=\"none\" stroke=\"black\" d=\"M55.19,-42.99C54.28,-53.09 56.75,-62 62.6,-62 66.08,-62 68.36,-58.86 69.45,-54.19\"/>\n",
       "<polygon fill=\"black\" stroke=\"black\" points=\"72.93,-54.66 69.93,-44.5 65.94,-54.31 72.93,-54.66\"/>\n",
       "<text text-anchor=\"middle\" x=\"62.6\" y=\"-65.2\" font-family=\"Times New Roman,serif\" font-size=\"14.00\">a</text>\n",
       "</g>\n",
       "<!-- 1 -->\n",
       "<g id=\"node3\" class=\"node\">\n",
       "<title>1</title>\n",
       "<ellipse fill=\"none\" stroke=\"black\" cx=\"145.35\" cy=\"-22\" rx=\"18\" ry=\"18\"/>\n",
       "<text text-anchor=\"middle\" x=\"145.35\" y=\"-16.95\" font-family=\"Times New Roman,serif\" font-size=\"14.00\">1</text>\n",
       "</g>\n",
       "<!-- 0&#45;&gt;1 -->\n",
       "<g id=\"edge3\" class=\"edge\">\n",
       "<title>0-&gt;1</title>\n",
       "<path fill=\"none\" stroke=\"black\" d=\"M84.82,-22C94.29,-22 105.59,-22 115.79,-22\"/>\n",
       "<polygon fill=\"black\" stroke=\"black\" points=\"115.57,-25.5 125.57,-22 115.57,-18.5 115.57,-25.5\"/>\n",
       "<text text-anchor=\"middle\" x=\"105.98\" y=\"-25.2\" font-family=\"Times New Roman,serif\" font-size=\"14.00\">b</text>\n",
       "</g>\n",
       "<!-- 1&#45;&gt;0 -->\n",
       "<g id=\"edge4\" class=\"edge\">\n",
       "<title>1-&gt;0</title>\n",
       "<path fill=\"none\" stroke=\"black\" d=\"M130.48,-11.58C124.34,-7.6 116.83,-3.53 109.35,-1.5 102.89,0.25 96.19,-0.9 89.97,-3.36\"/>\n",
       "<polygon fill=\"black\" stroke=\"black\" points=\"88.7,-0.08 81.43,-7.78 91.92,-6.29 88.7,-0.08\"/>\n",
       "<text text-anchor=\"middle\" x=\"105.98\" y=\"-4.7\" font-family=\"Times New Roman,serif\" font-size=\"14.00\">a</text>\n",
       "</g>\n",
       "</g>\n",
       "</svg>"
      ],
      "text/plain": [
       "<IPython.core.display.SVG object>"
      ]
     },
     "metadata": {},
     "output_type": "display_data"
    }
   ],
   "source": [
    "r.nfaNaiveFollow().display()"
   ]
  },
  {
   "cell_type": "code",
   "execution_count": 30,
   "metadata": {},
   "outputs": [
    {
     "data": {
      "text/plain": [
       "True"
      ]
     },
     "execution_count": 30,
     "metadata": {},
     "output_type": "execute_result"
    }
   ],
   "source": [
    "r.compareMinimalDFA(str2regexp(\"(a*(ba)*a*)*\"))"
   ]
  }
 ],
 "metadata": {
  "kernelspec": {
   "display_name": "Python 3",
   "language": "python",
   "name": "python3"
  },
  "language_info": {
   "codemirror_mode": {
    "name": "ipython",
    "version": 3
   },
   "file_extension": ".py",
   "mimetype": "text/x-python",
   "name": "python",
   "nbconvert_exporter": "python",
   "pygments_lexer": "ipython3",
   "version": "3.12.4"
  }
 },
 "nbformat": 4,
 "nbformat_minor": 2
}
