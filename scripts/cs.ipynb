{
 "cells": [
  {
   "cell_type": "code",
   "execution_count": 6,
   "metadata": {},
   "outputs": [],
   "source": [
    "from FAdo.fa import *\n",
    "from FAdo.reex import *\n",
    "from FAdo.fio import *\n",
    "from FAdo.rndadfa import *\n",
    "\n",
    "import lark"
   ]
  },
  {
   "cell_type": "code",
   "execution_count": 10,
   "metadata": {},
   "outputs": [],
   "source": [
    "class CCount(Unary):\n",
    "\tdef __init__(self, arg, min, max = None, sigma=None):\n",
    "\t\tself.arg = arg\n",
    "\t\tself.min = min\n",
    "\t\tself.max = \"inf\" if max == -1 else max\n",
    "\t\tself.sigma = sigma\n",
    "\n",
    "\tdef __repr__(self):\n",
    "\t\t\"\"\"Representation of the regular expression's syntactical tree.\"\"\"\n",
    "\t\treturn 'CCount({},[{}])'.format(self.arg, self.min if not self.max else '{},{}'.format(self.min, self.max))\n",
    "\t\n",
    "\tdef linearForm(self): # https://www.dcc.fc.up.pt/~nam/resources/publica/51480046.pdf\n",
    "\t\treturn self.arg.linearForm()\n",
    "\n",
    "\tdef derivative(self, sigma): # how ...?\n",
    "\t\t# add power attribute to CCount class and keep count?\n",
    "\t\t# do i even need this? cant eval a word if i dont have it....\n",
    "\t\t# if self.max == \"inf\" or self.max == None:\n",
    "\t\t# \tif self.min == 0:\n",
    "\t\t# \t\treturn CEmptySet()\n",
    "\t\t# \telif self.min == 1:\n",
    "\t\t# \t\treturn CEpsilon()\n",
    "\t\t# \telse:\n",
    "\t\t# \t\td = self.arg.derivative(sigma)\n",
    "\t\t# \t\tif d == CEpsilon():\n",
    "\t\t# \t\t\treturn CCount(self.arg, self.min, self.max, sigma)\n",
    "\t\t# \t\telse:\n",
    "\t\t# \t\t\treturn d, CCount(self.arg, self.min, self.max, sigma)\n",
    "\t\t# else:\n",
    "\t\t# \tif self.min == self.max:\n",
    "\t\t# \t\treturn CEpsilon()\n",
    "\t\t# \telse:\n",
    "\t\t# \t\treturn CCount(self.arg, self.min, self.max-1, sigma), self.arg\n",
    "\t\tpass"
   ]
  },
  {
   "cell_type": "code",
   "execution_count": null,
   "metadata": {},
   "outputs": [
    {
     "data": {
      "text/plain": [
       "CConcat(CAtom(a),CCount(b,[1,3]))"
      ]
     },
     "execution_count": 11,
     "metadata": {},
     "output_type": "execute_result"
    }
   ],
   "source": [
    "class BuildRegexpCC(BuildRegexp):\n",
    "    def pow_min(self, s, inf=False):\n",
    "        (arg, n_r) = s\n",
    "        n = n_r.children[0].value\n",
    "        if inf:\n",
    "            r = CCount(arg, n, -1, self.sigma)\n",
    "        else:\n",
    "            r = CCount(arg, n, self.sigma)\n",
    "        return r\n",
    "\n",
    "    def pow_minmax(self, s):\n",
    "        (arg, n_mi, n_ma) = s\n",
    "        n_min = n_mi.children[0].value\n",
    "        n_max = n_ma.children[0].value\n",
    "        r = CCount(arg, n_min, n_max, self.sigma)\n",
    "        return r\n",
    "    \n",
    "    def pow_inf(self, s):\n",
    "        return self.pow_min(s, True)\n",
    "    \n",
    "regGrammar = lark.Lark.open(\"regexp_test.lark\", start=\"rege\", parser=\"lalr\")\n",
    "\n",
    "# available:\n",
    "# b^[1] -> 'b'\n",
    "# b^[1,2] -> 1 <= 'b' <= 2\n",
    "# b^[1,...] -> 1 <= 'b' <= inf\n",
    "\n",
    "tree = regGrammar.parse(\"(b^[1,3])\")\n",
    "reg = BuildRegexpCC(context={\"sigma\": None}).transform(tree)\n",
    "reg"
   ]
  }
 ],
 "metadata": {
  "kernelspec": {
   "display_name": "testing",
   "language": "python",
   "name": "python3"
  },
  "language_info": {
   "codemirror_mode": {
    "name": "ipython",
    "version": 3
   },
   "file_extension": ".py",
   "mimetype": "text/x-python",
   "name": "python",
   "nbconvert_exporter": "python",
   "pygments_lexer": "ipython3",
   "version": "3.13.1"
  }
 },
 "nbformat": 4,
 "nbformat_minor": 2
}
