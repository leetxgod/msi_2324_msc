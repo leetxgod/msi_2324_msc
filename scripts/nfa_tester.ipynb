{
 "cells": [
  {
   "cell_type": "code",
   "execution_count": 1,
   "metadata": {},
   "outputs": [],
   "source": [
    "from new_nfa import *\n",
    "\n",
    "# class matchNFA"
   ]
  },
  {
   "cell_type": "code",
   "execution_count": null,
   "metadata": {},
   "outputs": [],
   "source": [
    "class matchNFA(OFA):\n",
    "\tpass"
   ]
  },
  {
   "cell_type": "code",
   "execution_count": 172,
   "metadata": {},
   "outputs": [],
   "source": [
    "def nfaPosCount(self: RegExp):\n",
    "\taut = NFA()\n",
    "\ti = aut.addState(1)\n",
    "\tf = aut.addState()\n",
    "\n",
    "\taut.addInitial(i)\n",
    "\n",
    "\tif self.Sigma is not None:\n",
    "\t\taut.setSigma(self.Sigma)\n",
    "\n",
    "\taut.addTransitionStar(i, i)\n",
    "\taut.addTransitionStar(f, f)\n",
    "\n",
    "\tlf:dict = self.linearForm() # type: ignore\n",
    "\n",
    "\tdef follow_head(head, tail, state=None, initial=i, final=f):\n",
    "\t\ttail_pop = tail.pop()\n",
    "\n",
    "\t\tif isinstance(tail_pop, CStar):\n",
    "\t\t\traise Exception(\"Star operator not allowed in nfaPosCount\")\n",
    "\t\telse:\n",
    "\t\t\tnstate = aut.addState()\n",
    "\n",
    "\t\t\tif state is None:\n",
    "\t\t\t\taut.addTransition(initial, head, nstate)\n",
    "\t\t\telse:\n",
    "\t\t\t\taut.addTransition(state, head, nstate)\n",
    "\n",
    "\t\t\tif isinstance(tail_pop, CEpsilon):\n",
    "\t\t\t\taut.addFinal(nstate)\n",
    "\t\t\t\taut.addTransitionStar(nstate, final)\n",
    "\t\t\t\treturn\n",
    "\n",
    "\t\t\tnew_lf = tail_pop.linearForm()\n",
    "\t\t\tfor nhead in new_lf:\n",
    "\t\t\t\tfollow_head(nhead, new_lf[nhead], nstate)\n",
    "\n",
    "\n",
    "\tfor head in lf:\n",
    "\t\tfollow_head(head, lf[head])\n",
    "\t\n",
    "\treturn aut\n",
    "\n",
    "setattr(RegExp, 'nfaPosCount', nfaPosCount)"
   ]
  },
  {
   "cell_type": "code",
   "execution_count": 5,
   "metadata": {},
   "outputs": [
    {
     "ename": "UnexpectedCharacters",
     "evalue": "No terminal matches '^' in the current parser context, at line 1 col 2\n\na^[30]\n ^\nExpected one of: \n\t* \"@sigmaS\"\n\t* _USHUFFLET\n\t* RPAR\n\t* _CONJT\n\t* \"@sigmaP\"\n\t* _SHUFFLET\n\t* _OPTIONT\n\t* _CONCATT\n\t* LPAR\n\t* _START\n\t* \"@epsilon\"\n\t* /[a-zA-Z0-9]/\n\t* _NOTT\n\t* \"@empty_set\"\n\t* _UNIONT\n\nPrevious tokens: Token('__ANON_0', 'a')\n",
     "output_type": "error",
     "traceback": [
      "\u001b[1;31m---------------------------------------------------------------------------\u001b[0m",
      "\u001b[1;31mUnexpectedCharacters\u001b[0m                      Traceback (most recent call last)",
      "\u001b[1;32mc:\\Users\\danir\\AppData\\Local\\Programs\\Python\\Python312\\Lib\\site-packages\\lark\\lexer.py\u001b[0m in \u001b[0;36mlex\u001b[1;34m(self, lexer_state, parser_state)\u001b[0m\n\u001b[0;32m    672\u001b[0m                 \u001b[0mlast_token\u001b[0m \u001b[1;33m=\u001b[0m \u001b[0mlexer_state\u001b[0m\u001b[1;33m.\u001b[0m\u001b[0mlast_token\u001b[0m  \u001b[1;31m# Save last_token. Calling root_lexer.next_token will change this to the wrong token\u001b[0m\u001b[1;33m\u001b[0m\u001b[1;33m\u001b[0m\u001b[0m\n\u001b[1;32m--> 673\u001b[1;33m                 \u001b[0mtoken\u001b[0m \u001b[1;33m=\u001b[0m \u001b[0mself\u001b[0m\u001b[1;33m.\u001b[0m\u001b[0mroot_lexer\u001b[0m\u001b[1;33m.\u001b[0m\u001b[0mnext_token\u001b[0m\u001b[1;33m(\u001b[0m\u001b[0mlexer_state\u001b[0m\u001b[1;33m,\u001b[0m \u001b[0mparser_state\u001b[0m\u001b[1;33m)\u001b[0m\u001b[1;33m\u001b[0m\u001b[1;33m\u001b[0m\u001b[0m\n\u001b[0m\u001b[0;32m    674\u001b[0m                 \u001b[1;32mraise\u001b[0m \u001b[0mUnexpectedToken\u001b[0m\u001b[1;33m(\u001b[0m\u001b[0mtoken\u001b[0m\u001b[1;33m,\u001b[0m \u001b[0me\u001b[0m\u001b[1;33m.\u001b[0m\u001b[0mallowed\u001b[0m\u001b[1;33m,\u001b[0m \u001b[0mstate\u001b[0m\u001b[1;33m=\u001b[0m\u001b[0mparser_state\u001b[0m\u001b[1;33m,\u001b[0m \u001b[0mtoken_history\u001b[0m\u001b[1;33m=\u001b[0m\u001b[1;33m[\u001b[0m\u001b[0mlast_token\u001b[0m\u001b[1;33m]\u001b[0m\u001b[1;33m,\u001b[0m \u001b[0mterminals_by_name\u001b[0m\u001b[1;33m=\u001b[0m\u001b[0mself\u001b[0m\u001b[1;33m.\u001b[0m\u001b[0mroot_lexer\u001b[0m\u001b[1;33m.\u001b[0m\u001b[0mterminals_by_name\u001b[0m\u001b[1;33m)\u001b[0m\u001b[1;33m\u001b[0m\u001b[1;33m\u001b[0m\u001b[0m\n",
      "\u001b[1;32mc:\\Users\\danir\\AppData\\Local\\Programs\\Python\\Python312\\Lib\\site-packages\\lark\\lexer.py\u001b[0m in \u001b[0;36mnext_token\u001b[1;34m(self, lex_state, parser_state)\u001b[0m\n\u001b[0;32m    597\u001b[0m                     \u001b[0mallowed\u001b[0m \u001b[1;33m=\u001b[0m \u001b[1;33m{\u001b[0m\u001b[1;34m\"<END-OF-FILE>\"\u001b[0m\u001b[1;33m}\u001b[0m\u001b[1;33m\u001b[0m\u001b[1;33m\u001b[0m\u001b[0m\n\u001b[1;32m--> 598\u001b[1;33m                 raise UnexpectedCharacters(lex_state.text, line_ctr.char_pos, line_ctr.line, line_ctr.column,\n\u001b[0m\u001b[0;32m    599\u001b[0m                                            \u001b[0mallowed\u001b[0m\u001b[1;33m=\u001b[0m\u001b[0mallowed\u001b[0m\u001b[1;33m,\u001b[0m \u001b[0mtoken_history\u001b[0m\u001b[1;33m=\u001b[0m\u001b[0mlex_state\u001b[0m\u001b[1;33m.\u001b[0m\u001b[0mlast_token\u001b[0m \u001b[1;32mand\u001b[0m \u001b[1;33m[\u001b[0m\u001b[0mlex_state\u001b[0m\u001b[1;33m.\u001b[0m\u001b[0mlast_token\u001b[0m\u001b[1;33m]\u001b[0m\u001b[1;33m,\u001b[0m\u001b[1;33m\u001b[0m\u001b[1;33m\u001b[0m\u001b[0m\n",
      "\u001b[1;31mUnexpectedCharacters\u001b[0m: No terminal matches '^' in the current parser context, at line 1 col 2\n\na^[30]\n ^\nExpected one of: \n\t* \"@sigmaS\"\n\t* _USHUFFLET\n\t* RPAR\n\t* _TUPLET\n\t* _CONJT\n\t* \"@sigmaP\"\n\t* _SHUFFLET\n\t* _OPTIONT\n\t* _CONCATT\n\t* LPAR\n\t* _START\n\t* \"@epsilon\"\n\t* /[a-zA-Z0-9]/\n\t* _NOTT\n\t* \"@empty_set\"\n\t* _UNIONT\n\nPrevious tokens: Token('__ANON_0', 'a')\n",
      "\nDuring handling of the above exception, another exception occurred:\n",
      "\u001b[1;31mUnexpectedCharacters\u001b[0m                      Traceback (most recent call last)",
      "\u001b[1;32m~\\AppData\\Local\\Temp\\ipykernel_32616\\219067349.py\u001b[0m in \u001b[0;36m<cell line: 0>\u001b[1;34m()\u001b[0m\n\u001b[1;32m----> 1\u001b[1;33m \u001b[0mx\u001b[0m \u001b[1;33m=\u001b[0m \u001b[0mstr2regexp\u001b[0m\u001b[1;33m(\u001b[0m\u001b[1;34m\"a^[30]\"\u001b[0m\u001b[1;33m)\u001b[0m \u001b[1;31m# aa+aaa\u001b[0m\u001b[1;33m\u001b[0m\u001b[1;33m\u001b[0m\u001b[0m\n\u001b[0m\u001b[0;32m      2\u001b[0m \u001b[0my\u001b[0m \u001b[1;33m=\u001b[0m \u001b[0mx\u001b[0m\u001b[1;33m.\u001b[0m\u001b[0mtoNFA\u001b[0m\u001b[1;33m(\u001b[0m\u001b[0mnfa_method\u001b[0m\u001b[1;33m=\u001b[0m\u001b[1;34m\"nfaPosCount\"\u001b[0m\u001b[1;33m)\u001b[0m\u001b[1;33m\u001b[0m\u001b[1;33m\u001b[0m\u001b[0m\n\u001b[0;32m      3\u001b[0m \u001b[0my\u001b[0m\u001b[1;33m.\u001b[0m\u001b[0mdisplay\u001b[0m\u001b[1;33m(\u001b[0m\u001b[1;33m)\u001b[0m\u001b[1;33m\u001b[0m\u001b[1;33m\u001b[0m\u001b[0m\n\u001b[0;32m      4\u001b[0m \u001b[1;33m\u001b[0m\u001b[0m\n\u001b[0;32m      5\u001b[0m \u001b[1;31m# @epsilon {0: (0, 0)}\u001b[0m\u001b[1;33m\u001b[0m\u001b[1;33m\u001b[0m\u001b[0m\n",
      "\u001b[1;32mc:\\Users\\danir\\AppData\\Local\\Programs\\Python\\Python312\\Lib\\site-packages\\FAdo\\reex.py\u001b[0m in \u001b[0;36mstr2regexp\u001b[1;34m(s, parser, sigma, strict)\u001b[0m\n\u001b[0;32m   6192\u001b[0m         \u001b[1;33m:\u001b[0m\u001b[0mrtype\u001b[0m\u001b[1;33m:\u001b[0m \u001b[0mreex\u001b[0m\u001b[1;33m.\u001b[0m\u001b[0mRegExp\u001b[0m\u001b[1;33m\u001b[0m\u001b[1;33m\u001b[0m\u001b[0m\n\u001b[0;32m   6193\u001b[0m         \"\"\"\n\u001b[1;32m-> 6194\u001b[1;33m     \u001b[0mtree\u001b[0m \u001b[1;33m=\u001b[0m \u001b[0mparser\u001b[0m\u001b[1;33m.\u001b[0m\u001b[0mparse\u001b[0m\u001b[1;33m(\u001b[0m\u001b[0ms\u001b[0m\u001b[1;33m)\u001b[0m\u001b[1;33m\u001b[0m\u001b[1;33m\u001b[0m\u001b[0m\n\u001b[0m\u001b[0;32m   6195\u001b[0m     \u001b[0mreg\u001b[0m \u001b[1;33m=\u001b[0m \u001b[0mRegExp\u001b[0m\u001b[1;33m(\u001b[0m\u001b[1;33m)\u001b[0m\u001b[1;33m\u001b[0m\u001b[1;33m\u001b[0m\u001b[0m\n\u001b[0;32m   6196\u001b[0m     \u001b[1;32mif\u001b[0m \u001b[0mparser\u001b[0m \u001b[1;33m==\u001b[0m \u001b[0mregGrammar\u001b[0m\u001b[1;33m:\u001b[0m\u001b[1;33m\u001b[0m\u001b[1;33m\u001b[0m\u001b[0m\n",
      "\u001b[1;32mc:\\Users\\danir\\AppData\\Local\\Programs\\Python\\Python312\\Lib\\site-packages\\lark\\lark.py\u001b[0m in \u001b[0;36mparse\u001b[1;34m(self, text, start, on_error)\u001b[0m\n\u001b[0;32m    653\u001b[0m \u001b[1;33m\u001b[0m\u001b[0m\n\u001b[0;32m    654\u001b[0m         \"\"\"\n\u001b[1;32m--> 655\u001b[1;33m         \u001b[1;32mreturn\u001b[0m \u001b[0mself\u001b[0m\u001b[1;33m.\u001b[0m\u001b[0mparser\u001b[0m\u001b[1;33m.\u001b[0m\u001b[0mparse\u001b[0m\u001b[1;33m(\u001b[0m\u001b[0mtext\u001b[0m\u001b[1;33m,\u001b[0m \u001b[0mstart\u001b[0m\u001b[1;33m=\u001b[0m\u001b[0mstart\u001b[0m\u001b[1;33m,\u001b[0m \u001b[0mon_error\u001b[0m\u001b[1;33m=\u001b[0m\u001b[0mon_error\u001b[0m\u001b[1;33m)\u001b[0m\u001b[1;33m\u001b[0m\u001b[1;33m\u001b[0m\u001b[0m\n\u001b[0m\u001b[0;32m    656\u001b[0m \u001b[1;33m\u001b[0m\u001b[0m\n\u001b[0;32m    657\u001b[0m \u001b[1;33m\u001b[0m\u001b[0m\n",
      "\u001b[1;32mc:\\Users\\danir\\AppData\\Local\\Programs\\Python\\Python312\\Lib\\site-packages\\lark\\parser_frontends.py\u001b[0m in \u001b[0;36mparse\u001b[1;34m(self, text, start, on_error)\u001b[0m\n\u001b[0;32m    102\u001b[0m         \u001b[0mkw\u001b[0m \u001b[1;33m=\u001b[0m \u001b[1;33m{\u001b[0m\u001b[1;33m}\u001b[0m \u001b[1;32mif\u001b[0m \u001b[0mon_error\u001b[0m \u001b[1;32mis\u001b[0m \u001b[1;32mNone\u001b[0m \u001b[1;32melse\u001b[0m \u001b[1;33m{\u001b[0m\u001b[1;34m'on_error'\u001b[0m\u001b[1;33m:\u001b[0m \u001b[0mon_error\u001b[0m\u001b[1;33m}\u001b[0m\u001b[1;33m\u001b[0m\u001b[1;33m\u001b[0m\u001b[0m\n\u001b[0;32m    103\u001b[0m         \u001b[0mstream\u001b[0m \u001b[1;33m=\u001b[0m \u001b[0mself\u001b[0m\u001b[1;33m.\u001b[0m\u001b[0m_make_lexer_thread\u001b[0m\u001b[1;33m(\u001b[0m\u001b[0mtext\u001b[0m\u001b[1;33m)\u001b[0m\u001b[1;33m\u001b[0m\u001b[1;33m\u001b[0m\u001b[0m\n\u001b[1;32m--> 104\u001b[1;33m         \u001b[1;32mreturn\u001b[0m \u001b[0mself\u001b[0m\u001b[1;33m.\u001b[0m\u001b[0mparser\u001b[0m\u001b[1;33m.\u001b[0m\u001b[0mparse\u001b[0m\u001b[1;33m(\u001b[0m\u001b[0mstream\u001b[0m\u001b[1;33m,\u001b[0m \u001b[0mchosen_start\u001b[0m\u001b[1;33m,\u001b[0m \u001b[1;33m**\u001b[0m\u001b[0mkw\u001b[0m\u001b[1;33m)\u001b[0m\u001b[1;33m\u001b[0m\u001b[1;33m\u001b[0m\u001b[0m\n\u001b[0m\u001b[0;32m    105\u001b[0m \u001b[1;33m\u001b[0m\u001b[0m\n\u001b[0;32m    106\u001b[0m     \u001b[1;32mdef\u001b[0m \u001b[0mparse_interactive\u001b[0m\u001b[1;33m(\u001b[0m\u001b[0mself\u001b[0m\u001b[1;33m,\u001b[0m \u001b[0mtext\u001b[0m\u001b[1;33m:\u001b[0m \u001b[0mOptional\u001b[0m\u001b[1;33m[\u001b[0m\u001b[0mstr\u001b[0m\u001b[1;33m]\u001b[0m\u001b[1;33m=\u001b[0m\u001b[1;32mNone\u001b[0m\u001b[1;33m,\u001b[0m \u001b[0mstart\u001b[0m\u001b[1;33m=\u001b[0m\u001b[1;32mNone\u001b[0m\u001b[1;33m)\u001b[0m\u001b[1;33m:\u001b[0m\u001b[1;33m\u001b[0m\u001b[1;33m\u001b[0m\u001b[0m\n",
      "\u001b[1;32mc:\\Users\\danir\\AppData\\Local\\Programs\\Python\\Python312\\Lib\\site-packages\\lark\\parsers\\lalr_parser.py\u001b[0m in \u001b[0;36mparse\u001b[1;34m(self, lexer, start, on_error)\u001b[0m\n\u001b[0;32m     40\u001b[0m     \u001b[1;32mdef\u001b[0m \u001b[0mparse\u001b[0m\u001b[1;33m(\u001b[0m\u001b[0mself\u001b[0m\u001b[1;33m,\u001b[0m \u001b[0mlexer\u001b[0m\u001b[1;33m,\u001b[0m \u001b[0mstart\u001b[0m\u001b[1;33m,\u001b[0m \u001b[0mon_error\u001b[0m\u001b[1;33m=\u001b[0m\u001b[1;32mNone\u001b[0m\u001b[1;33m)\u001b[0m\u001b[1;33m:\u001b[0m\u001b[1;33m\u001b[0m\u001b[1;33m\u001b[0m\u001b[0m\n\u001b[0;32m     41\u001b[0m         \u001b[1;32mtry\u001b[0m\u001b[1;33m:\u001b[0m\u001b[1;33m\u001b[0m\u001b[1;33m\u001b[0m\u001b[0m\n\u001b[1;32m---> 42\u001b[1;33m             \u001b[1;32mreturn\u001b[0m \u001b[0mself\u001b[0m\u001b[1;33m.\u001b[0m\u001b[0mparser\u001b[0m\u001b[1;33m.\u001b[0m\u001b[0mparse\u001b[0m\u001b[1;33m(\u001b[0m\u001b[0mlexer\u001b[0m\u001b[1;33m,\u001b[0m \u001b[0mstart\u001b[0m\u001b[1;33m)\u001b[0m\u001b[1;33m\u001b[0m\u001b[1;33m\u001b[0m\u001b[0m\n\u001b[0m\u001b[0;32m     43\u001b[0m         \u001b[1;32mexcept\u001b[0m \u001b[0mUnexpectedInput\u001b[0m \u001b[1;32mas\u001b[0m \u001b[0me\u001b[0m\u001b[1;33m:\u001b[0m\u001b[1;33m\u001b[0m\u001b[1;33m\u001b[0m\u001b[0m\n\u001b[0;32m     44\u001b[0m             \u001b[1;32mif\u001b[0m \u001b[0mon_error\u001b[0m \u001b[1;32mis\u001b[0m \u001b[1;32mNone\u001b[0m\u001b[1;33m:\u001b[0m\u001b[1;33m\u001b[0m\u001b[1;33m\u001b[0m\u001b[0m\n",
      "\u001b[1;32mc:\\Users\\danir\\AppData\\Local\\Programs\\Python\\Python312\\Lib\\site-packages\\lark\\parsers\\lalr_parser.py\u001b[0m in \u001b[0;36mparse\u001b[1;34m(self, lexer, start, value_stack, state_stack, start_interactive)\u001b[0m\n\u001b[0;32m     86\u001b[0m         \u001b[1;32mif\u001b[0m \u001b[0mstart_interactive\u001b[0m\u001b[1;33m:\u001b[0m\u001b[1;33m\u001b[0m\u001b[1;33m\u001b[0m\u001b[0m\n\u001b[0;32m     87\u001b[0m             \u001b[1;32mreturn\u001b[0m \u001b[0mInteractiveParser\u001b[0m\u001b[1;33m(\u001b[0m\u001b[0mself\u001b[0m\u001b[1;33m,\u001b[0m \u001b[0mparser_state\u001b[0m\u001b[1;33m,\u001b[0m \u001b[0mparser_state\u001b[0m\u001b[1;33m.\u001b[0m\u001b[0mlexer\u001b[0m\u001b[1;33m)\u001b[0m\u001b[1;33m\u001b[0m\u001b[1;33m\u001b[0m\u001b[0m\n\u001b[1;32m---> 88\u001b[1;33m         \u001b[1;32mreturn\u001b[0m \u001b[0mself\u001b[0m\u001b[1;33m.\u001b[0m\u001b[0mparse_from_state\u001b[0m\u001b[1;33m(\u001b[0m\u001b[0mparser_state\u001b[0m\u001b[1;33m)\u001b[0m\u001b[1;33m\u001b[0m\u001b[1;33m\u001b[0m\u001b[0m\n\u001b[0m\u001b[0;32m     89\u001b[0m \u001b[1;33m\u001b[0m\u001b[0m\n\u001b[0;32m     90\u001b[0m \u001b[1;33m\u001b[0m\u001b[0m\n",
      "\u001b[1;32mc:\\Users\\danir\\AppData\\Local\\Programs\\Python\\Python312\\Lib\\site-packages\\lark\\parsers\\lalr_parser.py\u001b[0m in \u001b[0;36mparse_from_state\u001b[1;34m(self, state, last_token)\u001b[0m\n\u001b[0;32m    109\u001b[0m             \u001b[1;32mexcept\u001b[0m \u001b[0mNameError\u001b[0m\u001b[1;33m:\u001b[0m\u001b[1;33m\u001b[0m\u001b[1;33m\u001b[0m\u001b[0m\n\u001b[0;32m    110\u001b[0m                 \u001b[1;32mpass\u001b[0m\u001b[1;33m\u001b[0m\u001b[1;33m\u001b[0m\u001b[0m\n\u001b[1;32m--> 111\u001b[1;33m             \u001b[1;32mraise\u001b[0m \u001b[0me\u001b[0m\u001b[1;33m\u001b[0m\u001b[1;33m\u001b[0m\u001b[0m\n\u001b[0m\u001b[0;32m    112\u001b[0m         \u001b[1;32mexcept\u001b[0m \u001b[0mException\u001b[0m \u001b[1;32mas\u001b[0m \u001b[0me\u001b[0m\u001b[1;33m:\u001b[0m\u001b[1;33m\u001b[0m\u001b[1;33m\u001b[0m\u001b[0m\n\u001b[0;32m    113\u001b[0m             \u001b[1;32mif\u001b[0m \u001b[0mself\u001b[0m\u001b[1;33m.\u001b[0m\u001b[0mdebug\u001b[0m\u001b[1;33m:\u001b[0m\u001b[1;33m\u001b[0m\u001b[1;33m\u001b[0m\u001b[0m\n",
      "\u001b[1;32mc:\\Users\\danir\\AppData\\Local\\Programs\\Python\\Python312\\Lib\\site-packages\\lark\\parsers\\lalr_parser.py\u001b[0m in \u001b[0;36mparse_from_state\u001b[1;34m(self, state, last_token)\u001b[0m\n\u001b[0;32m     98\u001b[0m         \u001b[1;32mtry\u001b[0m\u001b[1;33m:\u001b[0m\u001b[1;33m\u001b[0m\u001b[1;33m\u001b[0m\u001b[0m\n\u001b[0;32m     99\u001b[0m             \u001b[0mtoken\u001b[0m \u001b[1;33m=\u001b[0m \u001b[0mlast_token\u001b[0m\u001b[1;33m\u001b[0m\u001b[1;33m\u001b[0m\u001b[0m\n\u001b[1;32m--> 100\u001b[1;33m             \u001b[1;32mfor\u001b[0m \u001b[0mtoken\u001b[0m \u001b[1;32min\u001b[0m \u001b[0mstate\u001b[0m\u001b[1;33m.\u001b[0m\u001b[0mlexer\u001b[0m\u001b[1;33m.\u001b[0m\u001b[0mlex\u001b[0m\u001b[1;33m(\u001b[0m\u001b[0mstate\u001b[0m\u001b[1;33m)\u001b[0m\u001b[1;33m:\u001b[0m\u001b[1;33m\u001b[0m\u001b[1;33m\u001b[0m\u001b[0m\n\u001b[0m\u001b[0;32m    101\u001b[0m                 \u001b[1;32massert\u001b[0m \u001b[0mtoken\u001b[0m \u001b[1;32mis\u001b[0m \u001b[1;32mnot\u001b[0m \u001b[1;32mNone\u001b[0m\u001b[1;33m\u001b[0m\u001b[1;33m\u001b[0m\u001b[0m\n\u001b[0;32m    102\u001b[0m                 \u001b[0mstate\u001b[0m\u001b[1;33m.\u001b[0m\u001b[0mfeed_token\u001b[0m\u001b[1;33m(\u001b[0m\u001b[0mtoken\u001b[0m\u001b[1;33m)\u001b[0m\u001b[1;33m\u001b[0m\u001b[1;33m\u001b[0m\u001b[0m\n",
      "\u001b[1;32mc:\\Users\\danir\\AppData\\Local\\Programs\\Python\\Python312\\Lib\\site-packages\\lark\\lexer.py\u001b[0m in \u001b[0;36mlex\u001b[1;34m(self, lexer_state, parser_state)\u001b[0m\n\u001b[0;32m    674\u001b[0m                 \u001b[1;32mraise\u001b[0m \u001b[0mUnexpectedToken\u001b[0m\u001b[1;33m(\u001b[0m\u001b[0mtoken\u001b[0m\u001b[1;33m,\u001b[0m \u001b[0me\u001b[0m\u001b[1;33m.\u001b[0m\u001b[0mallowed\u001b[0m\u001b[1;33m,\u001b[0m \u001b[0mstate\u001b[0m\u001b[1;33m=\u001b[0m\u001b[0mparser_state\u001b[0m\u001b[1;33m,\u001b[0m \u001b[0mtoken_history\u001b[0m\u001b[1;33m=\u001b[0m\u001b[1;33m[\u001b[0m\u001b[0mlast_token\u001b[0m\u001b[1;33m]\u001b[0m\u001b[1;33m,\u001b[0m \u001b[0mterminals_by_name\u001b[0m\u001b[1;33m=\u001b[0m\u001b[0mself\u001b[0m\u001b[1;33m.\u001b[0m\u001b[0mroot_lexer\u001b[0m\u001b[1;33m.\u001b[0m\u001b[0mterminals_by_name\u001b[0m\u001b[1;33m)\u001b[0m\u001b[1;33m\u001b[0m\u001b[1;33m\u001b[0m\u001b[0m\n\u001b[0;32m    675\u001b[0m             \u001b[1;32mexcept\u001b[0m \u001b[0mUnexpectedCharacters\u001b[0m\u001b[1;33m:\u001b[0m\u001b[1;33m\u001b[0m\u001b[1;33m\u001b[0m\u001b[0m\n\u001b[1;32m--> 676\u001b[1;33m                 \u001b[1;32mraise\u001b[0m \u001b[0me\u001b[0m  \u001b[1;31m# Raise the original UnexpectedCharacters. The root lexer raises it with the wrong expected set.\u001b[0m\u001b[1;33m\u001b[0m\u001b[1;33m\u001b[0m\u001b[0m\n\u001b[0m\u001b[0;32m    677\u001b[0m \u001b[1;33m\u001b[0m\u001b[0m\n\u001b[0;32m    678\u001b[0m \u001b[1;31m###}\u001b[0m\u001b[1;33m\u001b[0m\u001b[1;33m\u001b[0m\u001b[0m\n",
      "\u001b[1;32mc:\\Users\\danir\\AppData\\Local\\Programs\\Python\\Python312\\Lib\\site-packages\\lark\\lexer.py\u001b[0m in \u001b[0;36mlex\u001b[1;34m(self, lexer_state, parser_state)\u001b[0m\n\u001b[0;32m    663\u001b[0m             \u001b[1;32mwhile\u001b[0m \u001b[1;32mTrue\u001b[0m\u001b[1;33m:\u001b[0m\u001b[1;33m\u001b[0m\u001b[1;33m\u001b[0m\u001b[0m\n\u001b[0;32m    664\u001b[0m                 \u001b[0mlexer\u001b[0m \u001b[1;33m=\u001b[0m \u001b[0mself\u001b[0m\u001b[1;33m.\u001b[0m\u001b[0mlexers\u001b[0m\u001b[1;33m[\u001b[0m\u001b[0mparser_state\u001b[0m\u001b[1;33m.\u001b[0m\u001b[0mposition\u001b[0m\u001b[1;33m]\u001b[0m\u001b[1;33m\u001b[0m\u001b[1;33m\u001b[0m\u001b[0m\n\u001b[1;32m--> 665\u001b[1;33m                 \u001b[1;32myield\u001b[0m \u001b[0mlexer\u001b[0m\u001b[1;33m.\u001b[0m\u001b[0mnext_token\u001b[0m\u001b[1;33m(\u001b[0m\u001b[0mlexer_state\u001b[0m\u001b[1;33m,\u001b[0m \u001b[0mparser_state\u001b[0m\u001b[1;33m)\u001b[0m\u001b[1;33m\u001b[0m\u001b[1;33m\u001b[0m\u001b[0m\n\u001b[0m\u001b[0;32m    666\u001b[0m         \u001b[1;32mexcept\u001b[0m \u001b[0mEOFError\u001b[0m\u001b[1;33m:\u001b[0m\u001b[1;33m\u001b[0m\u001b[1;33m\u001b[0m\u001b[0m\n\u001b[0;32m    667\u001b[0m             \u001b[1;32mpass\u001b[0m\u001b[1;33m\u001b[0m\u001b[1;33m\u001b[0m\u001b[0m\n",
      "\u001b[1;32mc:\\Users\\danir\\AppData\\Local\\Programs\\Python\\Python312\\Lib\\site-packages\\lark\\lexer.py\u001b[0m in \u001b[0;36mnext_token\u001b[1;34m(self, lex_state, parser_state)\u001b[0m\n\u001b[0;32m    596\u001b[0m                 \u001b[1;32mif\u001b[0m \u001b[1;32mnot\u001b[0m \u001b[0mallowed\u001b[0m\u001b[1;33m:\u001b[0m\u001b[1;33m\u001b[0m\u001b[1;33m\u001b[0m\u001b[0m\n\u001b[0;32m    597\u001b[0m                     \u001b[0mallowed\u001b[0m \u001b[1;33m=\u001b[0m \u001b[1;33m{\u001b[0m\u001b[1;34m\"<END-OF-FILE>\"\u001b[0m\u001b[1;33m}\u001b[0m\u001b[1;33m\u001b[0m\u001b[1;33m\u001b[0m\u001b[0m\n\u001b[1;32m--> 598\u001b[1;33m                 raise UnexpectedCharacters(lex_state.text, line_ctr.char_pos, line_ctr.line, line_ctr.column,\n\u001b[0m\u001b[0;32m    599\u001b[0m                                            \u001b[0mallowed\u001b[0m\u001b[1;33m=\u001b[0m\u001b[0mallowed\u001b[0m\u001b[1;33m,\u001b[0m \u001b[0mtoken_history\u001b[0m\u001b[1;33m=\u001b[0m\u001b[0mlex_state\u001b[0m\u001b[1;33m.\u001b[0m\u001b[0mlast_token\u001b[0m \u001b[1;32mand\u001b[0m \u001b[1;33m[\u001b[0m\u001b[0mlex_state\u001b[0m\u001b[1;33m.\u001b[0m\u001b[0mlast_token\u001b[0m\u001b[1;33m]\u001b[0m\u001b[1;33m,\u001b[0m\u001b[1;33m\u001b[0m\u001b[1;33m\u001b[0m\u001b[0m\n\u001b[0;32m    600\u001b[0m                                            \u001b[0mstate\u001b[0m\u001b[1;33m=\u001b[0m\u001b[0mparser_state\u001b[0m\u001b[1;33m,\u001b[0m \u001b[0mterminals_by_name\u001b[0m\u001b[1;33m=\u001b[0m\u001b[0mself\u001b[0m\u001b[1;33m.\u001b[0m\u001b[0mterminals_by_name\u001b[0m\u001b[1;33m)\u001b[0m\u001b[1;33m\u001b[0m\u001b[1;33m\u001b[0m\u001b[0m\n",
      "\u001b[1;31mUnexpectedCharacters\u001b[0m: No terminal matches '^' in the current parser context, at line 1 col 2\n\na^[30]\n ^\nExpected one of: \n\t* \"@sigmaS\"\n\t* _USHUFFLET\n\t* RPAR\n\t* _CONJT\n\t* \"@sigmaP\"\n\t* _SHUFFLET\n\t* _OPTIONT\n\t* _CONCATT\n\t* LPAR\n\t* _START\n\t* \"@epsilon\"\n\t* /[a-zA-Z0-9]/\n\t* _NOTT\n\t* \"@empty_set\"\n\t* _UNIONT\n\nPrevious tokens: Token('__ANON_0', 'a')\n"
     ]
    }
   ],
   "source": [
    "x = str2regexp(\"a^[30]\") # aa+aaa\n",
    "y = x.toNFA(nfa_method=\"nfaPosCount\")\n",
    "y.display()\n",
    "\n",
    "# @epsilon {0: (0, 0)}\n",
    "# a {0: (1, 1), 4: (0, 1)}\n",
    "# b {0: (2, 2), 2: (1, 2), 5: (0, 2)}\n",
    "# b {0: (3, 3), 2: (2, 3), 1: (0, 3)}\n",
    "# a {0: (4, 4), 4: (3, 4), 3: (2, 4), 1: (0, 4)}\n",
    "# b {0: (5, 5), 2: (4, 5), 5: (3, 5), 1: (0, 5)}\n",
    "# {5: (3, 5), 3: (2, 4)}"
   ]
  },
  {
   "cell_type": "code",
   "execution_count": null,
   "metadata": {},
   "outputs": [],
   "source": [
    "def table_matcher(aut: NFA, string: str):\n",
    "\tnw : list = [CEpsilon()]\n",
    "\tfor c in string:\n",
    "\t\tnw.append(c)\n",
    "\n",
    "\tlr = {}\n",
    "\tci = 0\n",
    "\tpos_tab = {}\n",
    "\n",
    "\tfor sym in nw:\n",
    "\t\tif sym == CEpsilon():\n",
    "\t\t\tfor s in aut.Initial:\n",
    "\t\t\t\tlr[s] = (0,0)\n",
    "\t\telse:\n",
    "\t\t\tnr = {}\n",
    "\t\t\tfor state in lr:\n",
    "\t\t\t\tif state in aut.delta:\n",
    "\t\t\t\t\tif sym in aut.delta[state]:\n",
    "\t\t\t\t\t\tfor end_state in aut.delta[state][sym]:\n",
    "\t\t\t\t\t\t\tnr[end_state] = (lr[state][0] if end_state not in aut.Initial else ci , ci)\n",
    "\n",
    "\t\t\t\t\t\t\tif end_state in aut.Final:\n",
    "\t\t\t\t\t\t\t\tif end_state in pos_tab:\n",
    "\t\t\t\t\t\t\t\t\tpos_tab[end_state].append(nr[end_state])\n",
    "\t\t\t\t\t\t\t\telse:\n",
    "\t\t\t\t\t\t\t\t\tpos_tab[end_state] = [nr[end_state]]\n",
    "\t\t\t\t\t\t\t\t# pos_tab[end_state] = nr[end_state]\n",
    "\t\t\t\n",
    "\t\t\tlr = nr\n",
    "\n",
    "\t\t# print(sym, lr)\n",
    "\t\tci+=1\n",
    "\n",
    "\treturn (pos_tab)\n",
    "\n",
    "def enum_matches(pos_tab: dict, string: str):\n",
    "\tfor entry in pos_tab:\n",
    "\t\tfor match in pos_tab[entry]:\n",
    "\t\t\tprint(f\"Match for state {entry}: '{string[match[0]:match[1]]}'\")\n",
    "\n",
    "text = \"aaaaa\"\n",
    "enum_matches(table_matcher(y, text), text)\n"
   ]
  },
  {
   "cell_type": "code",
   "execution_count": null,
   "metadata": {},
   "outputs": [],
   "source": []
  }
 ],
 "metadata": {
  "kernelspec": {
   "display_name": "Python 3",
   "language": "python",
   "name": "python3"
  },
  "language_info": {
   "codemirror_mode": {
    "name": "ipython",
    "version": 3
   },
   "file_extension": ".py",
   "mimetype": "text/x-python",
   "name": "python",
   "nbconvert_exporter": "python",
   "pygments_lexer": "ipython3",
   "version": "3.12.4"
  }
 },
 "nbformat": 4,
 "nbformat_minor": 2
}
