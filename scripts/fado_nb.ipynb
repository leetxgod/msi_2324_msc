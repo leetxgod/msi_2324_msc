{
 "cells": [
  {
   "cell_type": "markdown",
   "metadata": {},
   "source": [
    "A small tutorial for FAdo\n",
    "=========================\n",
    "\n",
    "FAdo system is a set  tools for regular languages manipulation.\n",
    "\n",
    "Regular languages can be represented by regular expressions (regexp) or finite automata, among other formalisms. Finite automata may be deterministic (DFA) or non-deterministic (NFA). In FAdo these representations are implemented as Python classes. A full documentation of all classes and methods is here.\n",
    "\n",
    "To work with FAdo, after installation, import the following modules on a Python interpreter:"
   ]
  },
  {
   "cell_type": "code",
   "execution_count": 1,
   "metadata": {},
   "outputs": [],
   "source": [
    "from FAdo.fa import *\n",
    "from FAdo.reex import *\n",
    "from FAdo.fio import *"
   ]
  },
  {
   "cell_type": "markdown",
   "metadata": {},
   "source": [
    "The module fa implements the classes for finite automata and the module reex the classes for regular expressions. The module fio implements methods for IO of automata and related models.\n",
    "\n",
    "General conventions\n",
    "-------------------\n",
    "\n",
    "Methods which name ends in P test if the object verifies a given property and return True or False.\n",
    "\n",
    "Finite Automata\n",
    "---------------\n",
    "\n",
    "The top class for finite automata is the class FA,which has two main subclasses: OFA for one way finite automata and the class TFA for two-way finite automata.\n",
    "The class OFA implements the basic structure of a finite automaton shared by DFAs and NFAs. This class defines the following attributes:\n",
    "\n",
    " ``Sigma``: the input alphabet (set)\n",
    "\n",
    " ``States``: the list of states.  It is a list such that each state is referred by its index whenever it is used (transitions, Final, etc).\n",
    "\n",
    " ``Initial``: the initial state (or a set of initial states for NFA).  It is an index or list of indexes.\n",
    "\n",
    " ``Final``: the set of final states. It is a list of indexes.\n",
    "\n",
    "In general, one should not create instances (objects) of class OFA. The class DFA and NFA implement DFAs and NFAs, respectively.  The class GFA implements generalized NFAs that are used in the conversion between finite automata and regular expressions. All three classes inherit from class OFA.\n",
    "\n",
    "For each class there are special methods for add/delete/modify alphabet symbols, states and transitions.\n",
    "\n",
    "DFAs\n",
    "----\n",
    "\n",
    "The following example shows how to build a DFA that accepts the words of {0,1}* that are multiples of 3."
   ]
  },
  {
   "cell_type": "code",
   "execution_count": 2,
   "metadata": {},
   "outputs": [],
   "source": [
    "m3 = DFA()\n",
    "m3.setSigma(['0','1'])\n",
    "m3.addState('s1')\n",
    "m3.addState('s2')\n",
    "m3.addState('s3')\n",
    "m3.setInitial(0)\n",
    "m3.addFinal(0)\n",
    "m3.addTransition(0, '0', 0)\n",
    "m3.addTransition(0, '1', 1)\n",
    "m3.addTransition(1, '0', 2)\n",
    "m3.addTransition(1, '1', 0)\n",
    "m3.addTransition(2, '0', 1)\n",
    "m3.addTransition(2, '1', 2)"
   ]
  },
  {
   "cell_type": "markdown",
   "metadata": {},
   "source": [
    "It is now possible, for instance, to see the structure of the automaton or to test if a word is accepted by it."
   ]
  },
  {
   "cell_type": "code",
   "execution_count": 3,
   "metadata": {},
   "outputs": [
    {
     "data": {
      "text/plain": [
       "DFA((['s1', 's2', 's3'], ['1', '0'], 's1', ['s1'], \"[('s1', '0', 's1'), ('s1', '1', 's2'), ('s2', '0', 's3'), ('s2', '1', 's1'), ('s3', '0', 's2'), ('s3', '1', 's3')]\"))"
      ]
     },
     "execution_count": 3,
     "metadata": {},
     "output_type": "execute_result"
    }
   ],
   "source": [
    "m3\n"
   ]
  },
  {
   "cell_type": "code",
   "execution_count": 4,
   "metadata": {},
   "outputs": [
    {
     "data": {
      "text/plain": [
       "True"
      ]
     },
     "execution_count": 4,
     "metadata": {},
     "output_type": "execute_result"
    }
   ],
   "source": [
    "m3.evalWordP(\"011\")"
   ]
  },
  {
   "cell_type": "code",
   "execution_count": 5,
   "metadata": {},
   "outputs": [
    {
     "data": {
      "text/plain": [
       "False"
      ]
     },
     "execution_count": 5,
     "metadata": {},
     "output_type": "execute_result"
    }
   ],
   "source": [
    "m3.evalWordP(\"1011\")"
   ]
  },
  {
   "cell_type": "markdown",
   "metadata": {},
   "source": [
    "If graphviz is installed it is also possible to display the diagram of an automaton\n",
    "as follows:"
   ]
  },
  {
   "cell_type": "code",
   "execution_count": 6,
   "metadata": {},
   "outputs": [
    {
     "data": {
      "image/svg+xml": [
       "<svg xmlns=\"http://www.w3.org/2000/svg\" xmlns:xlink=\"http://www.w3.org/1999/xlink\" width=\"257pt\" height=\"89pt\" viewBox=\"0.00 0.00 256.75 88.72\">\n",
       "<g id=\"graph0\" class=\"graph\" transform=\"scale(1 1) rotate(0) translate(4 84.72)\">\n",
       "<title>finite_state_machine</title>\n",
       "<polygon fill=\"white\" stroke=\"none\" points=\"-4,4 -4,-84.72 252.75,-84.72 252.75,4 -4,4\"/>\n",
       "<!-- dummy -->\n",
       "<g id=\"node1\" class=\"node\">\n",
       "<title>dummy</title>\n",
       "<ellipse fill=\"black\" stroke=\"black\" cx=\"1.8\" cy=\"-23.11\" rx=\"1.8\" ry=\"1.8\"/>\n",
       "</g>\n",
       "<!-- s1 -->\n",
       "<g id=\"node2\" class=\"node\">\n",
       "<title>s1</title>\n",
       "<ellipse fill=\"none\" stroke=\"black\" cx=\"63.71\" cy=\"-23.11\" rx=\"19.11\" ry=\"19.11\"/>\n",
       "<ellipse fill=\"none\" stroke=\"black\" cx=\"63.71\" cy=\"-23.11\" rx=\"23.11\" ry=\"23.11\"/>\n",
       "<text text-anchor=\"middle\" x=\"63.71\" y=\"-18.06\" font-family=\"Times New Roman,serif\" font-size=\"14.00\">s1</text>\n",
       "</g>\n",
       "<!-- dummy&#45;&gt;s1 -->\n",
       "<g id=\"edge1\" class=\"edge\">\n",
       "<title>dummy-&gt;s1</title>\n",
       "<path fill=\"none\" stroke=\"black\" d=\"M3.84,-23.11C7.13,-23.11 17.74,-23.11 29.07,-23.11\"/>\n",
       "<polygon fill=\"black\" stroke=\"black\" points=\"28.88,-26.61 38.88,-23.11 28.88,-19.61 28.88,-26.61\"/>\n",
       "</g>\n",
       "<!-- s1&#45;&gt;s1 -->\n",
       "<g id=\"edge2\" class=\"edge\">\n",
       "<title>s1-&gt;s1</title>\n",
       "<path fill=\"none\" stroke=\"black\" d=\"M56.06,-45.1C55.23,-55.3 57.78,-64.22 63.71,-64.22 67.23,-64.22 69.56,-61.07 70.7,-56.38\"/>\n",
       "<polygon fill=\"black\" stroke=\"black\" points=\"74.18,-56.8 71.27,-46.61 67.19,-56.39 74.18,-56.8\"/>\n",
       "<text text-anchor=\"middle\" x=\"63.71\" y=\"-67.42\" font-family=\"Times New Roman,serif\" font-size=\"14.00\">0</text>\n",
       "</g>\n",
       "<!-- s2 -->\n",
       "<g id=\"node3\" class=\"node\">\n",
       "<title>s2</title>\n",
       "<ellipse fill=\"none\" stroke=\"black\" cx=\"148.67\" cy=\"-23.11\" rx=\"19.11\" ry=\"19.11\"/>\n",
       "<text text-anchor=\"middle\" x=\"148.67\" y=\"-18.06\" font-family=\"Times New Roman,serif\" font-size=\"14.00\">s2</text>\n",
       "</g>\n",
       "<!-- s1&#45;&gt;s2 -->\n",
       "<g id=\"edge3\" class=\"edge\">\n",
       "<title>s1-&gt;s2</title>\n",
       "<path fill=\"none\" stroke=\"black\" d=\"M86.94,-23.11C96.46,-23.11 107.72,-23.11 117.94,-23.11\"/>\n",
       "<polygon fill=\"black\" stroke=\"black\" points=\"117.79,-26.61 127.79,-23.11 117.79,-19.61 117.79,-26.61\"/>\n",
       "<text text-anchor=\"middle\" x=\"108.19\" y=\"-26.31\" font-family=\"Times New Roman,serif\" font-size=\"14.00\">1</text>\n",
       "</g>\n",
       "<!-- s2&#45;&gt;s1 -->\n",
       "<g id=\"edge5\" class=\"edge\">\n",
       "<title>s2-&gt;s1</title>\n",
       "<path fill=\"none\" stroke=\"black\" d=\"M132.62,-12.25C126.41,-8.41 118.95,-4.56 111.57,-2.61 105.34,-0.96 98.88,-1.9 92.83,-4.08\"/>\n",
       "<polygon fill=\"black\" stroke=\"black\" points=\"91.34,-0.91 83.85,-8.4 94.38,-7.21 91.34,-0.91\"/>\n",
       "<text text-anchor=\"middle\" x=\"108.19\" y=\"-5.81\" font-family=\"Times New Roman,serif\" font-size=\"14.00\">1</text>\n",
       "</g>\n",
       "<!-- s3 -->\n",
       "<g id=\"node4\" class=\"node\">\n",
       "<title>s3</title>\n",
       "<ellipse fill=\"none\" stroke=\"black\" cx=\"229.64\" cy=\"-23.11\" rx=\"19.11\" ry=\"19.11\"/>\n",
       "<text text-anchor=\"middle\" x=\"229.64\" y=\"-18.06\" font-family=\"Times New Roman,serif\" font-size=\"14.00\">s3</text>\n",
       "</g>\n",
       "<!-- s2&#45;&gt;s3 -->\n",
       "<g id=\"edge4\" class=\"edge\">\n",
       "<title>s2-&gt;s3</title>\n",
       "<path fill=\"none\" stroke=\"black\" d=\"M167.99,-23.11C177.09,-23.11 188.33,-23.11 198.64,-23.11\"/>\n",
       "<polygon fill=\"black\" stroke=\"black\" points=\"198.64,-26.61 208.64,-23.11 198.64,-19.61 198.64,-26.61\"/>\n",
       "<text text-anchor=\"middle\" x=\"189.16\" y=\"-26.31\" font-family=\"Times New Roman,serif\" font-size=\"14.00\">0</text>\n",
       "</g>\n",
       "<!-- s3&#45;&gt;s2 -->\n",
       "<g id=\"edge6\" class=\"edge\">\n",
       "<title>s3-&gt;s2</title>\n",
       "<path fill=\"none\" stroke=\"black\" d=\"M213.58,-12.25C207.38,-8.41 199.92,-4.56 192.53,-2.61 185.99,-0.88 179.24,-2.36 173.09,-5.18\"/>\n",
       "<polygon fill=\"black\" stroke=\"black\" points=\"171.61,-1.99 164.75,-10.07 175.15,-8.03 171.61,-1.99\"/>\n",
       "<text text-anchor=\"middle\" x=\"189.16\" y=\"-5.81\" font-family=\"Times New Roman,serif\" font-size=\"14.00\">0</text>\n",
       "</g>\n",
       "<!-- s3&#45;&gt;s3 -->\n",
       "<g id=\"edge7\" class=\"edge\">\n",
       "<title>s3-&gt;s3</title>\n",
       "<path fill=\"none\" stroke=\"black\" d=\"M222.41,-41.05C221.06,-51.03 223.47,-60.22 229.64,-60.22 233.3,-60.22 235.64,-56.98 236.65,-52.26\"/>\n",
       "<polygon fill=\"black\" stroke=\"black\" points=\"240.14,-52.63 236.84,-42.57 233.14,-52.5 240.14,-52.63\"/>\n",
       "<text text-anchor=\"middle\" x=\"229.64\" y=\"-63.42\" font-family=\"Times New Roman,serif\" font-size=\"14.00\">1</text>\n",
       "</g>\n",
       "</g>\n",
       "</svg>"
      ],
      "text/plain": [
       "<IPython.core.display.SVG object>"
      ]
     },
     "metadata": {},
     "output_type": "display_data"
    }
   ],
   "source": [
    "m3.display()"
   ]
  },
  {
   "cell_type": "markdown",
   "metadata": {},
   "source": [
    "Instead of constructing the DFA directly we can load (and save) it in a simple text format. For the previous automaton the description will be:"
   ]
  },
  {
   "cell_type": "markdown",
   "metadata": {},
   "source": [
    "| @DFA 0\n",
    "| 0 1 1\n",
    "| 0 0 0\n",
    "| 1 1 0\n",
    "| 1 0 2\n",
    "| 2 1 2\n",
    "| 2 0 1"
   ]
  },
  {
   "cell_type": "markdown",
   "metadata": {},
   "source": [
    "Then, if this description is saved in file ``mul3.fa``, we have"
   ]
  },
  {
   "cell_type": "code",
   "execution_count": 8,
   "metadata": {},
   "outputs": [],
   "source": [
    "a = \"@DFA 0 \\n 0 1 1 \\n 0 0 0 \\n 1 1 0 \\n 1 0 2 \\n 2 1 2 \\n 2 0 1\\n\"\n",
    "with open(\"mul3.fa\",'w') as f: f.write(a)"
   ]
  },
  {
   "cell_type": "code",
   "execution_count": null,
   "metadata": {},
   "outputs": [],
   "source": [
    "m3 = readFromFile('mul3.fa')"
   ]
  },
  {
   "cell_type": "markdown",
   "metadata": {},
   "source": [
    "As the set of states is represented by a Python list , the list method len can be used to determine the number of states of a FA:"
   ]
  },
  {
   "cell_type": "code",
   "execution_count": 7,
   "metadata": {},
   "outputs": [
    {
     "data": {
      "text/plain": [
       "3"
      ]
     },
     "execution_count": 7,
     "metadata": {},
     "output_type": "execute_result"
    }
   ],
   "source": [
    "len(m3.States)"
   ]
  },
  {
   "cell_type": "markdown",
   "metadata": {},
   "source": [
    "For the number of Transitions the countTransitions() method must be used"
   ]
  },
  {
   "cell_type": "code",
   "execution_count": 8,
   "metadata": {},
   "outputs": [
    {
     "data": {
      "text/plain": [
       "6"
      ]
     },
     "execution_count": 8,
     "metadata": {},
     "output_type": "execute_result"
    }
   ],
   "source": [
    "m3.countTransitions()"
   ]
  },
  {
   "cell_type": "markdown",
   "metadata": {},
   "source": [
    "Automata can be displayed"
   ]
  },
  {
   "cell_type": "code",
   "execution_count": null,
   "metadata": {},
   "outputs": [
    {
     "data": {
      "image/svg+xml": [
       "<svg xmlns=\"http://www.w3.org/2000/svg\" xmlns:xlink=\"http://www.w3.org/1999/xlink\" width=\"257pt\" height=\"89pt\" viewBox=\"0.00 0.00 256.75 88.72\">\n",
       "<g id=\"graph0\" class=\"graph\" transform=\"scale(1 1) rotate(0) translate(4 84.72)\">\n",
       "<title>finite_state_machine</title>\n",
       "<polygon fill=\"white\" stroke=\"none\" points=\"-4,4 -4,-84.72 252.75,-84.72 252.75,4 -4,4\"/>\n",
       "<!-- dummy -->\n",
       "<g id=\"node1\" class=\"node\">\n",
       "<title>dummy</title>\n",
       "<ellipse fill=\"black\" stroke=\"black\" cx=\"1.8\" cy=\"-23.11\" rx=\"1.8\" ry=\"1.8\"/>\n",
       "</g>\n",
       "<!-- s1 -->\n",
       "<g id=\"node2\" class=\"node\">\n",
       "<title>s1</title>\n",
       "<ellipse fill=\"none\" stroke=\"black\" cx=\"63.71\" cy=\"-23.11\" rx=\"19.11\" ry=\"19.11\"/>\n",
       "<ellipse fill=\"none\" stroke=\"black\" cx=\"63.71\" cy=\"-23.11\" rx=\"23.11\" ry=\"23.11\"/>\n",
       "<text text-anchor=\"middle\" x=\"63.71\" y=\"-18.06\" font-family=\"Times New Roman,serif\" font-size=\"14.00\">s1</text>\n",
       "</g>\n",
       "<!-- dummy&#45;&gt;s1 -->\n",
       "<g id=\"edge1\" class=\"edge\">\n",
       "<title>dummy-&gt;s1</title>\n",
       "<path fill=\"none\" stroke=\"black\" d=\"M3.84,-23.11C7.13,-23.11 17.74,-23.11 29.07,-23.11\"/>\n",
       "<polygon fill=\"black\" stroke=\"black\" points=\"28.88,-26.61 38.88,-23.11 28.88,-19.61 28.88,-26.61\"/>\n",
       "</g>\n",
       "<!-- s1&#45;&gt;s1 -->\n",
       "<g id=\"edge2\" class=\"edge\">\n",
       "<title>s1-&gt;s1</title>\n",
       "<path fill=\"none\" stroke=\"black\" d=\"M56.06,-45.1C55.23,-55.3 57.78,-64.22 63.71,-64.22 67.23,-64.22 69.56,-61.07 70.7,-56.38\"/>\n",
       "<polygon fill=\"black\" stroke=\"black\" points=\"74.18,-56.8 71.27,-46.61 67.19,-56.39 74.18,-56.8\"/>\n",
       "<text text-anchor=\"middle\" x=\"63.71\" y=\"-67.42\" font-family=\"Times New Roman,serif\" font-size=\"14.00\">0</text>\n",
       "</g>\n",
       "<!-- s2 -->\n",
       "<g id=\"node3\" class=\"node\">\n",
       "<title>s2</title>\n",
       "<ellipse fill=\"none\" stroke=\"black\" cx=\"148.67\" cy=\"-23.11\" rx=\"19.11\" ry=\"19.11\"/>\n",
       "<text text-anchor=\"middle\" x=\"148.67\" y=\"-18.06\" font-family=\"Times New Roman,serif\" font-size=\"14.00\">s2</text>\n",
       "</g>\n",
       "<!-- s1&#45;&gt;s2 -->\n",
       "<g id=\"edge3\" class=\"edge\">\n",
       "<title>s1-&gt;s2</title>\n",
       "<path fill=\"none\" stroke=\"black\" d=\"M86.94,-23.11C96.46,-23.11 107.72,-23.11 117.94,-23.11\"/>\n",
       "<polygon fill=\"black\" stroke=\"black\" points=\"117.79,-26.61 127.79,-23.11 117.79,-19.61 117.79,-26.61\"/>\n",
       "<text text-anchor=\"middle\" x=\"108.19\" y=\"-26.31\" font-family=\"Times New Roman,serif\" font-size=\"14.00\">1</text>\n",
       "</g>\n",
       "<!-- s2&#45;&gt;s1 -->\n",
       "<g id=\"edge5\" class=\"edge\">\n",
       "<title>s2-&gt;s1</title>\n",
       "<path fill=\"none\" stroke=\"black\" d=\"M132.62,-12.25C126.41,-8.41 118.95,-4.56 111.57,-2.61 105.34,-0.96 98.88,-1.9 92.83,-4.08\"/>\n",
       "<polygon fill=\"black\" stroke=\"black\" points=\"91.34,-0.91 83.85,-8.4 94.38,-7.21 91.34,-0.91\"/>\n",
       "<text text-anchor=\"middle\" x=\"108.19\" y=\"-5.81\" font-family=\"Times New Roman,serif\" font-size=\"14.00\">1</text>\n",
       "</g>\n",
       "<!-- s3 -->\n",
       "<g id=\"node4\" class=\"node\">\n",
       "<title>s3</title>\n",
       "<ellipse fill=\"none\" stroke=\"black\" cx=\"229.64\" cy=\"-23.11\" rx=\"19.11\" ry=\"19.11\"/>\n",
       "<text text-anchor=\"middle\" x=\"229.64\" y=\"-18.06\" font-family=\"Times New Roman,serif\" font-size=\"14.00\">s3</text>\n",
       "</g>\n",
       "<!-- s2&#45;&gt;s3 -->\n",
       "<g id=\"edge4\" class=\"edge\">\n",
       "<title>s2-&gt;s3</title>\n",
       "<path fill=\"none\" stroke=\"black\" d=\"M167.99,-23.11C177.09,-23.11 188.33,-23.11 198.64,-23.11\"/>\n",
       "<polygon fill=\"black\" stroke=\"black\" points=\"198.64,-26.61 208.64,-23.11 198.64,-19.61 198.64,-26.61\"/>\n",
       "<text text-anchor=\"middle\" x=\"189.16\" y=\"-26.31\" font-family=\"Times New Roman,serif\" font-size=\"14.00\">0</text>\n",
       "</g>\n",
       "<!-- s3&#45;&gt;s2 -->\n",
       "<g id=\"edge6\" class=\"edge\">\n",
       "<title>s3-&gt;s2</title>\n",
       "<path fill=\"none\" stroke=\"black\" d=\"M213.58,-12.25C207.38,-8.41 199.92,-4.56 192.53,-2.61 185.99,-0.88 179.24,-2.36 173.09,-5.18\"/>\n",
       "<polygon fill=\"black\" stroke=\"black\" points=\"171.61,-1.99 164.75,-10.07 175.15,-8.03 171.61,-1.99\"/>\n",
       "<text text-anchor=\"middle\" x=\"189.16\" y=\"-5.81\" font-family=\"Times New Roman,serif\" font-size=\"14.00\">0</text>\n",
       "</g>\n",
       "<!-- s3&#45;&gt;s3 -->\n",
       "<g id=\"edge7\" class=\"edge\">\n",
       "<title>s3-&gt;s3</title>\n",
       "<path fill=\"none\" stroke=\"black\" d=\"M222.41,-41.05C221.06,-51.03 223.47,-60.22 229.64,-60.22 233.3,-60.22 235.64,-56.98 236.65,-52.26\"/>\n",
       "<polygon fill=\"black\" stroke=\"black\" points=\"240.14,-52.63 236.84,-42.57 233.14,-52.5 240.14,-52.63\"/>\n",
       "<text text-anchor=\"middle\" x=\"229.64\" y=\"-63.42\" font-family=\"Times New Roman,serif\" font-size=\"14.00\">1</text>\n",
       "</g>\n",
       "</g>\n",
       "</svg>"
      ],
      "text/plain": [
       "<IPython.core.display.SVG object>"
      ]
     },
     "metadata": {},
     "output_type": "display_data"
    }
   ],
   "source": [
    "m3.display()"
   ]
  },
  {
   "cell_type": "markdown",
   "metadata": {},
   "source": [
    "To minimize a DFA any of the minimization algorithms implemented can be used:"
   ]
  },
  {
   "cell_type": "code",
   "execution_count": 11,
   "metadata": {},
   "outputs": [
    {
     "data": {
      "text/plain": [
       "DFA((['s1', 's2', 's3'], ['1', '0'], 's1', ['s1'], \"[('s1', '0', 's1'), ('s1', '1', 's2'), ('s2', '0', 's3'), ('s2', '1', 's1'), ('s3', '0', 's2'), ('s3', '1', 's3')]\"))"
      ]
     },
     "execution_count": 11,
     "metadata": {},
     "output_type": "execute_result"
    }
   ],
   "source": [
    "min = m3.minimalHopcroft()\n",
    "min"
   ]
  },
  {
   "cell_type": "markdown",
   "metadata": {},
   "source": [
    "In this case, the `DFA`` was already minimal so min has the same number of states as ``m3``.\n",
    "\n",
    "Several (regularity preserving) operations of DFAs are implemented in FAdo:  boolean (union (| or __or__), intersection (& or __and__) and complementation (~ or __invert__)),  concatenation (concat), reversal  (reversal) and star (star)."
   ]
  },
  {
   "cell_type": "code",
   "execution_count": 12,
   "metadata": {},
   "outputs": [
    {
     "data": {
      "text/plain": [
       "DFA((['0', '5', '10'], ['1', '0'], '0', ['0', '5', '10'], \"[('0', '1', '5'), ('0', '0', '0'), ('5', '1', '0'), ('5', '0', '10'), ('10', '1', '10'), ('10', '0', '5')]\"))"
      ]
     },
     "execution_count": 12,
     "metadata": {},
     "output_type": "execute_result"
    }
   ],
   "source": [
    "u = m3 | ~m3\n",
    "u"
   ]
  },
  {
   "cell_type": "code",
   "execution_count": 13,
   "metadata": {},
   "outputs": [
    {
     "data": {
      "text/plain": [
       "DFA((['0'], ['1', '0'], '0', ['0'], \"[('0', '1', '0'), ('0', '0', '0')]\"))"
      ]
     },
     "execution_count": 13,
     "metadata": {},
     "output_type": "execute_result"
    }
   ],
   "source": [
    "m = u.minimal()\n",
    "m"
   ]
  },
  {
   "cell_type": "markdown",
   "metadata": {},
   "source": [
    "State names can be renamed in-place using:"
   ]
  },
  {
   "cell_type": "code",
   "execution_count": 14,
   "metadata": {},
   "outputs": [
    {
     "data": {
      "text/plain": [
       "DFA((['0'], ['1', '0'], '0', ['0'], \"[(0, '1', 0), (0, '0', 0)]\"))"
      ]
     },
     "execution_count": 14,
     "metadata": {},
     "output_type": "execute_result"
    }
   ],
   "source": [
    "m.renameStates(range(len(m)))"
   ]
  },
  {
   "cell_type": "markdown",
   "metadata": {},
   "source": [
    "Notice that ``m`` recognize all words over the alphabet ``{0,1}``. It is possible to generate a word recognisable by an automata (``witness``)"
   ]
  },
  {
   "cell_type": "code",
   "execution_count": 15,
   "metadata": {},
   "outputs": [
    {
     "data": {
      "text/plain": [
       "'@epsilon'"
      ]
     },
     "execution_count": 15,
     "metadata": {},
     "output_type": "execute_result"
    }
   ],
   "source": [
    "u.witness()"
   ]
  },
  {
   "cell_type": "markdown",
   "metadata": {},
   "source": [
    "In this case this allows to ensure that u recognizes the empty word.\n",
    "\n",
    "This method is also useful for obtain a witness for the difference of two DFAs (witnessDiff).\n",
    "\n",
    "To test if two DFAs  are equivalent the the operator == (equivalenceP) can be used."
   ]
  },
  {
   "cell_type": "markdown",
   "metadata": {},
   "source": [
    "NFAs\n",
    "----\n",
    "\n",
    "NFAs can be built and manipulated in a  similar way.  There is no distinction between NFAs with and without epsilon-transitions. But it is possible to test if a NFA has epsilon-transitions and convert between a NFA with epsilon-transitions to a (equivalent) NFA without them.\n",
    "\n",
    "Converting between NFAs and DFAs\n",
    "--------------------------------\n",
    "\n",
    "The method toDFA allows to convert a NFA to an equivalent DFA by the subset construction method. The method toNFA  migrates trivially a DFA to a NFA.\n",
    "\n",
    "Regular Expressions\n",
    "-------------------\n",
    "\n",
    "A regular expression can be a symbol of the alphabet, the empty set (@epmtyset), the empty word (@epsilon) or the concatenation or the union (+) or the Kleene star (*) of a regular expression. Examples of regular expressions are a+b, (a+ba)*, and (@epsilon+ a)(ba+ab+@emptyset).\n",
    "\n",
    "\n",
    "The class regexp is the base class for regular expressions and is used to represent an alphabet symbol.  The classes epsilon and emptyset are the subclasses used for the empty set and empty word, respectively. Complex regular expressions are concat,  disj, and star.\n",
    "\n",
    "\n",
    "As for DFAs (and NFAs) we can build directly a regular expressions as a Python class:"
   ]
  },
  {
   "cell_type": "code",
   "execution_count": 16,
   "metadata": {},
   "outputs": [
    {
     "name": "stdout",
     "output_type": "stream",
     "text": [
      "(a + (b a))*\n"
     ]
    }
   ],
   "source": [
    "r = CStar(CDisj(CAtom(\"a\"), CConcat(CAtom(\"b\"), CAtom(\"a\"))))\n",
    "print(r)"
   ]
  },
  {
   "cell_type": "markdown",
   "metadata": {},
   "source": [
    "But we can convert a string to a regexp class or subclass, using the method str2regexp."
   ]
  },
  {
   "cell_type": "code",
   "execution_count": 17,
   "metadata": {},
   "outputs": [
    {
     "name": "stdout",
     "output_type": "stream",
     "text": [
      "(a + (b a))*\n"
     ]
    }
   ],
   "source": [
    "r = str2regexp(\"(a+ba)*\")\n",
    "print(r)"
   ]
  },
  {
   "cell_type": "markdown",
   "metadata": {},
   "source": [
    "For regular expressions there are several measures available: alphabetic size, (parse) tree size, string length, number of epsilons and star height. It is also possible to explicitly associate an alphabet to regular expression (even if some symbols do not appear in it) (``setSigma``)\n",
    "\n",
    "There are several algebraic properties that can be used to obtain equivalent regular expressions of a smaller size. The method reduced transforms a regular expression into one equivalent without some obvious unnecessary epsilons, emptysets or stars.\n",
    "\n",
    "Several methods that allows the manipulation of derivatives  (or partial derivatives) by a symbol or by a word are implemented. However, the basic class RegExp does not deal with regular expressions module ACI properties (associativity, commutativity and idempotence of the union) , a so it is not possible to obtain all  word derivatives of a given regular expression. This is not the case for partial derivatives.\n",
    "\n",
    "To test if two regular expressions are equivalent the method compare can be used."
   ]
  },
  {
   "cell_type": "code",
   "execution_count": 18,
   "metadata": {},
   "outputs": [
    {
     "data": {
      "text/plain": [
       "True"
      ]
     },
     "execution_count": 18,
     "metadata": {},
     "output_type": "execute_result"
    }
   ],
   "source": [
    "r.compare(str2regexp(\"(a*(ba)*a*)*\"))"
   ]
  },
  {
   "cell_type": "markdown",
   "metadata": {},
   "source": [
    "There several methods to convert regular expressions into equivalent nfas or dfas: Thompson, Position/Glushkov, Partial Derivatives (PD), etc."
   ]
  },
  {
   "cell_type": "code",
   "execution_count": 19,
   "metadata": {},
   "outputs": [
    {
     "data": {
      "text/plain": [
       "NFA(([\"(0, (0, '0'))\", \"(0, (0, '1'))\", '(0, (1, 0))', '(0, (1, 1))', '(1, 0)', '(1, 1)', '(1, 2)', '(1, 3)', '8', '9'], ['a', 'b'], ['8'], ['9'], \"[((0, (1, 0)), 'a', (0, (1, 1))), ((0, (0, '0')), '@epsilon', (0, (1, 0))), ((0, (0, '0')), '@epsilon', (1, 0)), ((0, (1, 1)), '@epsilon', (0, (0, '1'))), ((1, 0), 'b', (1, 1)), ((1, 2), 'a', (1, 3)), ((1, 1), '@epsilon', (1, 2)), ((1, 3), '@epsilon', (0, (0, '1'))), ('8', '@epsilon', (0, (0, '0'))), ('8', '@epsilon', '9'), ('9', '@epsilon', '8'), ((0, (0, '1')), '@epsilon', '9')]\"))"
      ]
     },
     "execution_count": 19,
     "metadata": {},
     "output_type": "execute_result"
    }
   ],
   "source": [
    "r.nfaThompson()"
   ]
  },
  {
   "cell_type": "code",
   "execution_count": 20,
   "metadata": {},
   "outputs": [
    {
     "data": {
      "text/plain": [
       "NFA((['Initial', \"('a', 1)\", \"('b', 2)\", \"('a', 3)\"], ['a', 'b'], ['Initial'], ['Initial', \"('a', 1)\", \"('a', 3)\"], '[(\\'Initial\\', \\'a\\', \"(\\'a\\', 1)\"), (\\'Initial\\', \\'b\\', \"(\\'b\\', 2)\"), (\"(\\'b\\', 2)\", \\'a\\', \"(\\'a\\', 3)\"), (\"(\\'a\\', 3)\", \\'b\\', \"(\\'b\\', 2)\"), (\"(\\'a\\', 3)\", \\'a\\', \"(\\'a\\', 1)\"), (\"(\\'a\\', 1)\", \\'a\\', \"(\\'a\\', 1)\"), (\"(\\'a\\', 1)\", \\'b\\', \"(\\'b\\', 2)\")]'))"
      ]
     },
     "execution_count": 20,
     "metadata": {},
     "output_type": "execute_result"
    }
   ],
   "source": [
    "r.nfaPosition()"
   ]
  },
  {
   "cell_type": "code",
   "execution_count": 21,
   "metadata": {},
   "outputs": [
    {
     "data": {
      "image/svg+xml": [
       "<svg xmlns=\"http://www.w3.org/2000/svg\" xmlns:xlink=\"http://www.w3.org/1999/xlink\" width=\"344pt\" height=\"135pt\" viewBox=\"0.00 0.00 344.10 134.50\">\n",
       "<g id=\"graph0\" class=\"graph\" transform=\"scale(1 1) rotate(0) translate(4 130.5)\">\n",
       "<title>finite_state_machine</title>\n",
       "<polygon fill=\"white\" stroke=\"none\" points=\"-4,4 -4,-130.5 340.1,-130.5 340.1,4 -4,4\"/>\n",
       "<!-- dummy0 -->\n",
       "<g id=\"node1\" class=\"node\">\n",
       "<title>dummy0</title>\n",
       "<ellipse fill=\"black\" stroke=\"black\" cx=\"1.8\" cy=\"-29\" rx=\"1.8\" ry=\"1.8\"/>\n",
       "</g>\n",
       "<!-- 0 -->\n",
       "<g id=\"node2\" class=\"node\">\n",
       "<title>0</title>\n",
       "<ellipse fill=\"none\" stroke=\"black\" cx=\"62.6\" cy=\"-29\" rx=\"18\" ry=\"18\"/>\n",
       "<ellipse fill=\"none\" stroke=\"black\" cx=\"62.6\" cy=\"-29\" rx=\"22\" ry=\"22\"/>\n",
       "<text text-anchor=\"middle\" x=\"62.6\" y=\"-23.95\" font-family=\"Times New Roman,serif\" font-size=\"14.00\">0</text>\n",
       "</g>\n",
       "<!-- dummy0&#45;&gt;0 -->\n",
       "<g id=\"edge1\" class=\"edge\">\n",
       "<title>dummy0-&gt;0</title>\n",
       "<path fill=\"none\" stroke=\"black\" d=\"M3.82,-29C7.09,-29 17.76,-29 29.06,-29\"/>\n",
       "<polygon fill=\"black\" stroke=\"black\" points=\"28.8,-32.5 38.8,-29 28.8,-25.5 28.8,-32.5\"/>\n",
       "</g>\n",
       "<!-- 1 -->\n",
       "<g id=\"node3\" class=\"node\">\n",
       "<title>1</title>\n",
       "<ellipse fill=\"none\" stroke=\"black\" cx=\"148.6\" cy=\"-70\" rx=\"18\" ry=\"18\"/>\n",
       "<ellipse fill=\"none\" stroke=\"black\" cx=\"148.6\" cy=\"-70\" rx=\"22\" ry=\"22\"/>\n",
       "<text text-anchor=\"middle\" x=\"148.6\" y=\"-64.95\" font-family=\"Times New Roman,serif\" font-size=\"14.00\">1</text>\n",
       "</g>\n",
       "<!-- 0&#45;&gt;1 -->\n",
       "<g id=\"edge2\" class=\"edge\">\n",
       "<title>0-&gt;1</title>\n",
       "<path fill=\"none\" stroke=\"black\" d=\"M82.66,-38.3C93.11,-43.4 106.3,-49.84 118.05,-55.58\"/>\n",
       "<polygon fill=\"black\" stroke=\"black\" points=\"116.44,-58.69 126.96,-59.93 119.51,-52.4 116.44,-58.69\"/>\n",
       "<text text-anchor=\"middle\" x=\"105.6\" y=\"-53.93\" font-family=\"Times New Roman,serif\" font-size=\"14.00\">a</text>\n",
       "</g>\n",
       "<!-- 2 -->\n",
       "<g id=\"node4\" class=\"node\">\n",
       "<title>2</title>\n",
       "<ellipse fill=\"none\" stroke=\"black\" cx=\"231.35\" cy=\"-18\" rx=\"18\" ry=\"18\"/>\n",
       "<text text-anchor=\"middle\" x=\"231.35\" y=\"-12.95\" font-family=\"Times New Roman,serif\" font-size=\"14.00\">2</text>\n",
       "</g>\n",
       "<!-- 0&#45;&gt;2 -->\n",
       "<g id=\"edge3\" class=\"edge\">\n",
       "<title>0-&gt;2</title>\n",
       "<path fill=\"none\" stroke=\"black\" d=\"M84.86,-26.49C97.06,-25.13 112.67,-23.52 126.6,-22.5 152,-20.64 180.96,-19.46 201.82,-18.78\"/>\n",
       "<polygon fill=\"black\" stroke=\"black\" points=\"201.68,-22.29 211.56,-18.48 201.46,-15.29 201.68,-22.29\"/>\n",
       "<text text-anchor=\"middle\" x=\"148.6\" y=\"-25.7\" font-family=\"Times New Roman,serif\" font-size=\"14.00\">b</text>\n",
       "</g>\n",
       "<!-- 1&#45;&gt;1 -->\n",
       "<g id=\"edge7\" class=\"edge\">\n",
       "<title>1-&gt;1</title>\n",
       "<path fill=\"none\" stroke=\"black\" d=\"M140.73,-90.99C139.76,-101.09 142.39,-110 148.6,-110 152.29,-110 154.71,-106.86 155.87,-102.19\"/>\n",
       "<polygon fill=\"black\" stroke=\"black\" points=\"159.35,-102.67 156.39,-92.5 152.36,-102.3 159.35,-102.67\"/>\n",
       "<text text-anchor=\"middle\" x=\"148.6\" y=\"-113.2\" font-family=\"Times New Roman,serif\" font-size=\"14.00\">a</text>\n",
       "</g>\n",
       "<!-- 1&#45;&gt;2 -->\n",
       "<g id=\"edge8\" class=\"edge\">\n",
       "<title>1-&gt;2</title>\n",
       "<path fill=\"none\" stroke=\"black\" d=\"M167.52,-58.46C178.96,-51.09 193.92,-41.46 206.38,-33.44\"/>\n",
       "<polygon fill=\"black\" stroke=\"black\" points=\"207.93,-36.6 214.44,-28.24 204.14,-30.72 207.93,-36.6\"/>\n",
       "<text text-anchor=\"middle\" x=\"191.98\" y=\"-47.2\" font-family=\"Times New Roman,serif\" font-size=\"14.00\">b</text>\n",
       "</g>\n",
       "<!-- 3 -->\n",
       "<g id=\"node5\" class=\"node\">\n",
       "<title>3</title>\n",
       "<ellipse fill=\"none\" stroke=\"black\" cx=\"314.1\" cy=\"-46\" rx=\"18\" ry=\"18\"/>\n",
       "<ellipse fill=\"none\" stroke=\"black\" cx=\"314.1\" cy=\"-46\" rx=\"22\" ry=\"22\"/>\n",
       "<text text-anchor=\"middle\" x=\"314.1\" y=\"-40.95\" font-family=\"Times New Roman,serif\" font-size=\"14.00\">3</text>\n",
       "</g>\n",
       "<!-- 2&#45;&gt;3 -->\n",
       "<g id=\"edge4\" class=\"edge\">\n",
       "<title>2-&gt;3</title>\n",
       "<path fill=\"none\" stroke=\"black\" d=\"M248.69,-23.67C258.23,-26.97 270.58,-31.26 281.92,-35.19\"/>\n",
       "<polygon fill=\"black\" stroke=\"black\" points=\"280.74,-38.49 291.34,-38.45 283.04,-31.87 280.74,-38.49\"/>\n",
       "<text text-anchor=\"middle\" x=\"270.73\" y=\"-35.2\" font-family=\"Times New Roman,serif\" font-size=\"14.00\">a</text>\n",
       "</g>\n",
       "<!-- 3&#45;&gt;1 -->\n",
       "<g id=\"edge6\" class=\"edge\">\n",
       "<title>3-&gt;1</title>\n",
       "<path fill=\"none\" stroke=\"black\" d=\"M292.08,-49.93C286.26,-50.97 279.94,-52.07 274.1,-53 242.86,-57.98 207.05,-62.78 181.89,-66\"/>\n",
       "<polygon fill=\"black\" stroke=\"black\" points=\"181.77,-62.48 172.29,-67.21 182.65,-69.43 181.77,-62.48\"/>\n",
       "<text text-anchor=\"middle\" x=\"231.35\" y=\"-65.02\" font-family=\"Times New Roman,serif\" font-size=\"14.00\">a</text>\n",
       "</g>\n",
       "<!-- 3&#45;&gt;2 -->\n",
       "<g id=\"edge5\" class=\"edge\">\n",
       "<title>3-&gt;2</title>\n",
       "<path fill=\"none\" stroke=\"black\" d=\"M299.84,-28.74C293.05,-21.32 284.11,-13.45 274.1,-9.5 269.46,-7.67 264.36,-7.39 259.37,-7.98\"/>\n",
       "<polygon fill=\"black\" stroke=\"black\" points=\"258.6,-4.56 249.66,-10.25 260.2,-11.38 258.6,-4.56\"/>\n",
       "<text text-anchor=\"middle\" x=\"270.73\" y=\"-12.7\" font-family=\"Times New Roman,serif\" font-size=\"14.00\">b</text>\n",
       "</g>\n",
       "</g>\n",
       "</svg>"
      ],
      "text/plain": [
       "<IPython.core.display.SVG object>"
      ]
     },
     "metadata": {},
     "output_type": "display_data"
    }
   ],
   "source": [
    "r.nfaPosition().display()"
   ]
  },
  {
   "cell_type": "code",
   "execution_count": 22,
   "metadata": {},
   "outputs": [
    {
     "data": {
      "text/plain": [
       "NFA((['6', '7'], ['a', 'b'], ['6'], ['6'], \"[(6, 'a', 6), (6, 'b', 7), (7, 'a', 6)]\"))"
      ]
     },
     "execution_count": 22,
     "metadata": {},
     "output_type": "execute_result"
    }
   ],
   "source": [
    "r.nfaPD()\n"
   ]
  },
  {
   "cell_type": "code",
   "execution_count": 23,
   "metadata": {},
   "outputs": [
    {
     "data": {
      "image/svg+xml": [
       "<svg xmlns=\"http://www.w3.org/2000/svg\" xmlns:xlink=\"http://www.w3.org/1999/xlink\" width=\"171pt\" height=\"87pt\" viewBox=\"0.00 0.00 171.35 86.50\">\n",
       "<g id=\"graph0\" class=\"graph\" transform=\"scale(1 1) rotate(0) translate(4 82.5)\">\n",
       "<title>finite_state_machine</title>\n",
       "<polygon fill=\"white\" stroke=\"none\" points=\"-4,4 -4,-82.5 167.35,-82.5 167.35,4 -4,4\"/>\n",
       "<!-- dummy6 -->\n",
       "<g id=\"node1\" class=\"node\">\n",
       "<title>dummy6</title>\n",
       "<ellipse fill=\"black\" stroke=\"black\" cx=\"1.8\" cy=\"-22\" rx=\"1.8\" ry=\"1.8\"/>\n",
       "</g>\n",
       "<!-- 6 -->\n",
       "<g id=\"node2\" class=\"node\">\n",
       "<title>6</title>\n",
       "<ellipse fill=\"none\" stroke=\"black\" cx=\"62.6\" cy=\"-22\" rx=\"18\" ry=\"18\"/>\n",
       "<ellipse fill=\"none\" stroke=\"black\" cx=\"62.6\" cy=\"-22\" rx=\"22\" ry=\"22\"/>\n",
       "<text text-anchor=\"middle\" x=\"62.6\" y=\"-16.95\" font-family=\"Times New Roman,serif\" font-size=\"14.00\">6</text>\n",
       "</g>\n",
       "<!-- dummy6&#45;&gt;6 -->\n",
       "<g id=\"edge1\" class=\"edge\">\n",
       "<title>dummy6-&gt;6</title>\n",
       "<path fill=\"none\" stroke=\"black\" d=\"M3.82,-22C7.09,-22 17.76,-22 29.06,-22\"/>\n",
       "<polygon fill=\"black\" stroke=\"black\" points=\"28.8,-25.5 38.8,-22 28.8,-18.5 28.8,-25.5\"/>\n",
       "</g>\n",
       "<!-- 6&#45;&gt;6 -->\n",
       "<g id=\"edge2\" class=\"edge\">\n",
       "<title>6-&gt;6</title>\n",
       "<path fill=\"none\" stroke=\"black\" d=\"M55.19,-42.99C54.28,-53.09 56.75,-62 62.6,-62 66.08,-62 68.36,-58.86 69.45,-54.19\"/>\n",
       "<polygon fill=\"black\" stroke=\"black\" points=\"72.93,-54.66 69.93,-44.5 65.94,-54.31 72.93,-54.66\"/>\n",
       "<text text-anchor=\"middle\" x=\"62.6\" y=\"-65.2\" font-family=\"Times New Roman,serif\" font-size=\"14.00\">a</text>\n",
       "</g>\n",
       "<!-- 7 -->\n",
       "<g id=\"node3\" class=\"node\">\n",
       "<title>7</title>\n",
       "<ellipse fill=\"none\" stroke=\"black\" cx=\"145.35\" cy=\"-22\" rx=\"18\" ry=\"18\"/>\n",
       "<text text-anchor=\"middle\" x=\"145.35\" y=\"-16.95\" font-family=\"Times New Roman,serif\" font-size=\"14.00\">7</text>\n",
       "</g>\n",
       "<!-- 6&#45;&gt;7 -->\n",
       "<g id=\"edge3\" class=\"edge\">\n",
       "<title>6-&gt;7</title>\n",
       "<path fill=\"none\" stroke=\"black\" d=\"M84.82,-22C94.29,-22 105.59,-22 115.79,-22\"/>\n",
       "<polygon fill=\"black\" stroke=\"black\" points=\"115.57,-25.5 125.57,-22 115.57,-18.5 115.57,-25.5\"/>\n",
       "<text text-anchor=\"middle\" x=\"105.98\" y=\"-25.2\" font-family=\"Times New Roman,serif\" font-size=\"14.00\">b</text>\n",
       "</g>\n",
       "<!-- 7&#45;&gt;6 -->\n",
       "<g id=\"edge4\" class=\"edge\">\n",
       "<title>7-&gt;6</title>\n",
       "<path fill=\"none\" stroke=\"black\" d=\"M130.48,-11.58C124.34,-7.6 116.83,-3.53 109.35,-1.5 102.89,0.25 96.19,-0.9 89.97,-3.36\"/>\n",
       "<polygon fill=\"black\" stroke=\"black\" points=\"88.7,-0.08 81.43,-7.78 91.92,-6.29 88.7,-0.08\"/>\n",
       "<text text-anchor=\"middle\" x=\"105.98\" y=\"-4.7\" font-family=\"Times New Roman,serif\" font-size=\"14.00\">a</text>\n",
       "</g>\n",
       "</g>\n",
       "</svg>"
      ],
      "text/plain": [
       "<IPython.core.display.SVG object>"
      ]
     },
     "metadata": {},
     "output_type": "display_data"
    }
   ],
   "source": [
    "r.nfaPD().display()\n"
   ]
  },
  {
   "cell_type": "markdown",
   "metadata": {},
   "source": [
    "\n",
    "\n",
    "Converting Finite Automata to Regular Expressions\n",
    "-------------------------------------------------\n",
    "\n",
    "Import module conversions"
   ]
  },
  {
   "cell_type": "code",
   "execution_count": 26,
   "metadata": {},
   "outputs": [],
   "source": [
    "from FAdo.conversions import *"
   ]
  },
  {
   "cell_type": "markdown",
   "metadata": {},
   "source": [
    "For pedagogical purposes, it is implemented a recursive method that constructs a regular expression equivalent to a given DFA (DFA2regexpDijkstra)."
   ]
  },
  {
   "cell_type": "code",
   "execution_count": null,
   "metadata": {},
   "outputs": [
    {
     "name": "stdout",
     "output_type": "stream",
     "text": [
      "((0 + ((@epsilon + 0) (0* (@epsilon + 0)))) + ((1 + ((@epsilon + 0) (0* 1))) ((1 (0* 1))* (1 + (1 (0* (@epsilon + 0))))))) + (((1 + ((@epsilon + 0) (0* 1))) ((1 (0* 1))* 0)) ((1 + (0 ((1 (0* 1))* 0)))* (0 ((1 (0* 1))* (1 + (1 (0* (@epsilon + 0))))))))\n"
     ]
    }
   ],
   "source": [
    "print(DFA2regexpDijkstra(m3))"
   ]
  },
  {
   "cell_type": "markdown",
   "metadata": {},
   "source": [
    "Methods based on state elimination techniques are usually more efficient, and produces much smaller regular expressions. We have implemented several heuristics for the elimination order."
   ]
  },
  {
   "cell_type": "code",
   "execution_count": null,
   "metadata": {},
   "outputs": [
    {
     "name": "stdout",
     "output_type": "stream",
     "text": [
      "((0 + (1 1)) + (((1 0) (1 + (0 0))*) (0 1)))*\n"
     ]
    }
   ],
   "source": [
    "print(FA2regexpCG(m3))"
   ]
  },
  {
   "cell_type": "markdown",
   "metadata": {},
   "source": [
    "NFA((['', '', '', '', '0', '1', '2', '3', '8', '9'], \n",
    "['a', 'b'], ['8'], ['9'], \n",
    "\"[('', '@epsilon', ''), ('', '@epsilon', 0), ('', '@epsilon', '9'), ('', 'a', ''),\n",
    " ('', '@epsilon', ''), (0, 'b', 1), (1, '@epsilon', 2), (2, 'a', 3),\n",
    " (3, '@epsilon', ''), ('8', '@epsilon', ''), ('8', '@epsilon', '9'), ('9', '@epsilon', '8')]\"))"
   ]
  },
  {
   "cell_type": "markdown",
   "metadata": {},
   "source": [
    "General Example\n",
    "---------------\n",
    "\n",
    "Considering the several methods described before it is possible to convert between the different equivalent representations of regular languages, as well to perform several regularity preserving operations."
   ]
  },
  {
   "cell_type": "code",
   "execution_count": null,
   "metadata": {},
   "outputs": [
    {
     "data": {
      "text/plain": [
       "DFA((['0', '2'], ['a', 'b'], '0', ['0'], \"[('0', 'a', '0'), ('0', 'b', '2'), ('2', 'a', '0')]\"))"
      ]
     },
     "execution_count": 29,
     "metadata": {},
     "output_type": "execute_result"
    }
   ],
   "source": [
    "r.nfaPosition().toDFA().minimal(complete=False)"
   ]
  },
  {
   "cell_type": "code",
   "execution_count": null,
   "metadata": {},
   "outputs": [
    {
     "data": {
      "image/svg+xml": [
       "<svg xmlns=\"http://www.w3.org/2000/svg\" xmlns:xlink=\"http://www.w3.org/1999/xlink\" width=\"172pt\" height=\"85pt\" viewBox=\"0.00 0.00 171.60 85.00\">\n",
       "<g id=\"graph0\" class=\"graph\" transform=\"scale(1 1) rotate(0) translate(4 81)\">\n",
       "<title>finite_state_machine</title>\n",
       "<polygon fill=\"white\" stroke=\"none\" points=\"-4,4 -4,-81 167.6,-81 167.6,4 -4,4\"/>\n",
       "<!-- dummy -->\n",
       "<g id=\"node1\" class=\"node\">\n",
       "<title>dummy</title>\n",
       "<ellipse fill=\"black\" stroke=\"black\" cx=\"1.8\" cy=\"-22\" rx=\"1.8\" ry=\"1.8\"/>\n",
       "</g>\n",
       "<!-- 0 -->\n",
       "<g id=\"node2\" class=\"node\">\n",
       "<title>0</title>\n",
       "<ellipse fill=\"none\" stroke=\"black\" cx=\"62.6\" cy=\"-22\" rx=\"18\" ry=\"18\"/>\n",
       "<ellipse fill=\"none\" stroke=\"black\" cx=\"62.6\" cy=\"-22\" rx=\"22\" ry=\"22\"/>\n",
       "<text text-anchor=\"middle\" x=\"62.6\" y=\"-18.3\" font-family=\"Times,serif\" font-size=\"14.00\">0</text>\n",
       "</g>\n",
       "<!-- dummy&#45;&gt;0 -->\n",
       "<g id=\"edge1\" class=\"edge\">\n",
       "<title>dummy-&gt;0</title>\n",
       "<path fill=\"none\" stroke=\"black\" d=\"M3.82,-22C7.13,-22 17.99,-22 29.41,-22\"/>\n",
       "<polygon fill=\"black\" stroke=\"black\" points=\"29.31,-25.5 39.31,-22 29.31,-18.5 29.31,-25.5\"/>\n",
       "</g>\n",
       "<!-- 0&#45;&gt;0 -->\n",
       "<g id=\"edge2\" class=\"edge\">\n",
       "<title>0-&gt;0</title>\n",
       "<path fill=\"none\" stroke=\"black\" d=\"M55.19,-42.99C54.28,-53.09 56.75,-62 62.6,-62 66.17,-62 68.48,-58.69 69.53,-53.82\"/>\n",
       "<polygon fill=\"black\" stroke=\"black\" points=\"73.06,-54.14 70.01,-43.99 66.07,-53.83 73.06,-54.14\"/>\n",
       "<text text-anchor=\"middle\" x=\"62.6\" y=\"-65.8\" font-family=\"Times,serif\" font-size=\"14.00\">a</text>\n",
       "</g>\n",
       "<!-- 2 -->\n",
       "<g id=\"node3\" class=\"node\">\n",
       "<title>2</title>\n",
       "<ellipse fill=\"none\" stroke=\"black\" cx=\"145.6\" cy=\"-22\" rx=\"18\" ry=\"18\"/>\n",
       "<text text-anchor=\"middle\" x=\"145.6\" y=\"-18.3\" font-family=\"Times,serif\" font-size=\"14.00\">2</text>\n",
       "</g>\n",
       "<!-- 0&#45;&gt;2 -->\n",
       "<g id=\"edge3\" class=\"edge\">\n",
       "<title>0-&gt;2</title>\n",
       "<path fill=\"none\" stroke=\"black\" d=\"M84.88,-22C94.49,-22 105.97,-22 116.28,-22\"/>\n",
       "<polygon fill=\"black\" stroke=\"black\" points=\"116.28,-25.5 126.28,-22 116.28,-18.5 116.28,-25.5\"/>\n",
       "<text text-anchor=\"middle\" x=\"106.1\" y=\"-25.8\" font-family=\"Times,serif\" font-size=\"14.00\">b</text>\n",
       "</g>\n",
       "<!-- 2&#45;&gt;0 -->\n",
       "<g id=\"edge4\" class=\"edge\">\n",
       "<title>2-&gt;0</title>\n",
       "<path fill=\"none\" stroke=\"black\" d=\"M130.29,-12.13C124.2,-8.51 116.84,-4.84 109.6,-3 103.27,-1.39 96.67,-2.39 90.5,-4.6\"/>\n",
       "<polygon fill=\"black\" stroke=\"black\" points=\"89.25,-1.79 81.67,-9.2 92.22,-8.13 89.25,-1.79\"/>\n",
       "<text text-anchor=\"middle\" x=\"106.1\" y=\"-6.8\" font-family=\"Times,serif\" font-size=\"14.00\">a</text>\n",
       "</g>\n",
       "</g>\n",
       "</svg>"
      ],
      "text/plain": [
       "<IPython.core.display.SVG object>"
      ]
     },
     "metadata": {},
     "output_type": "display_data"
    }
   ],
   "source": [
    "r.nfaPosition().toDFA().minimal(complete=False).display()"
   ]
  },
  {
   "cell_type": "code",
   "execution_count": null,
   "metadata": {},
   "outputs": [
    {
     "data": {
      "text/plain": [
       "True"
      ]
     },
     "execution_count": 31,
     "metadata": {},
     "output_type": "execute_result"
    }
   ],
   "source": [
    "m3 == FA2regexpCG(m3).nfaPD().toDFA().minimal()"
   ]
  },
  {
   "cell_type": "markdown",
   "metadata": {},
   "source": [
    "More classes and modules\n",
    "------------------------\n",
    "\n",
    "Several other classes and modules are also available, including:\n",
    "\n",
    "class ``ICDFArnd`` (module ``rndfa.py``): Random DFA generation\n",
    "\n",
    "class ``FL`` (module ``fl.py``): special methods for finite languages\n",
    "\n",
    "module ``comboperations.py``:  implementation of several algorithms for several combined operations with DFAs and NFAs\n",
    "\n",
    "module ``transducers.py``: several classes and methods for transducers in standard form\n",
    " \n",
    "module ``codes.py``:  language  tests for a property  (set of languages) specified by a transducer"
   ]
  }
 ],
 "metadata": {
  "kernelspec": {
   "display_name": "Python 3",
   "language": "python",
   "name": "python3"
  },
  "language_info": {
   "codemirror_mode": {
    "name": "ipython",
    "version": 3
   },
   "file_extension": ".py",
   "mimetype": "text/x-python",
   "name": "python",
   "nbconvert_exporter": "python",
   "pygments_lexer": "ipython3",
   "version": "3.12.4"
  }
 },
 "nbformat": 4,
 "nbformat_minor": 4
}
