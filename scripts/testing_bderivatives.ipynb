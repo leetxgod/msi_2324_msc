{
 "cells": [
  {
   "cell_type": "code",
   "execution_count": null,
   "id": "81ca3846",
   "metadata": {},
   "outputs": [
    {
     "ename": "AttributeError",
     "evalue": "'NoneType' object has no attribute 'copy'",
     "output_type": "error",
     "traceback": [
      "\u001b[1;31m---------------------------------------------------------------------------\u001b[0m",
      "\u001b[1;31mAttributeError\u001b[0m                            Traceback (most recent call last)",
      "\u001b[1;32m~\\AppData\\Local\\Temp\\ipykernel_3376\\2975536536.py\u001b[0m in \u001b[0;36m<cell line: 0>\u001b[1;34m()\u001b[0m\n\u001b[0;32m     11\u001b[0m \u001b[1;31m# x : matchNFA = reg.toNFA(\"nfaPosCount\")\u001b[0m\u001b[1;33m\u001b[0m\u001b[1;33m\u001b[0m\u001b[0m\n\u001b[0;32m     12\u001b[0m \u001b[0mx\u001b[0m \u001b[1;33m:\u001b[0m \u001b[0mmatchNFA\u001b[0m \u001b[1;33m=\u001b[0m \u001b[0mreg\u001b[0m\u001b[1;33m.\u001b[0m\u001b[0mnfaGlushkov\u001b[0m\u001b[1;33m(\u001b[0m\u001b[1;33m)\u001b[0m\u001b[1;33m\u001b[0m\u001b[1;33m\u001b[0m\u001b[0m\n\u001b[1;32m---> 13\u001b[1;33m \u001b[0mx\u001b[0m\u001b[1;33m.\u001b[0m\u001b[0mdisplay\u001b[0m\u001b[1;33m(\u001b[0m\u001b[1;33m)\u001b[0m\u001b[1;33m\u001b[0m\u001b[1;33m\u001b[0m\u001b[0m\n\u001b[0m\u001b[0;32m     14\u001b[0m \u001b[1;31m# input_txt = \"abbaab\"\u001b[0m\u001b[1;33m\u001b[0m\u001b[1;33m\u001b[0m\u001b[0m\n\u001b[0;32m     15\u001b[0m \u001b[1;31m# res = x.table_matcher(input_txt)\u001b[0m\u001b[1;33m\u001b[0m\u001b[1;33m\u001b[0m\u001b[0m\n",
      "\u001b[1;32mc:\\Users\\danir\\AppData\\Local\\Programs\\Python\\Python312\\Lib\\site-packages\\FAdo\\common.py\u001b[0m in \u001b[0;36mdisplay\u001b[1;34m(self, filename, size, strict, maxlblsz)\u001b[0m\n\u001b[0;32m    786\u001b[0m                 \u001b[0mfilename_out\u001b[0m \u001b[1;33m=\u001b[0m \u001b[0mfname\u001b[0m \u001b[1;33m+\u001b[0m \u001b[1;34m\".pdf\"\u001b[0m\u001b[1;33m\u001b[0m\u001b[1;33m\u001b[0m\u001b[0m\n\u001b[0;32m    787\u001b[0m         \u001b[0mfoo\u001b[0m \u001b[1;33m=\u001b[0m \u001b[0mopen\u001b[0m\u001b[1;33m(\u001b[0m\u001b[0mfname_gv\u001b[0m\u001b[1;33m,\u001b[0m \u001b[1;34m\"w\"\u001b[0m\u001b[1;33m)\u001b[0m\u001b[1;33m\u001b[0m\u001b[1;33m\u001b[0m\u001b[0m\n\u001b[1;32m--> 788\u001b[1;33m         \u001b[0mfoo\u001b[0m\u001b[1;33m.\u001b[0m\u001b[0mwrite\u001b[0m\u001b[1;33m(\u001b[0m\u001b[0mself\u001b[0m\u001b[1;33m.\u001b[0m\u001b[0mdotFormat\u001b[0m\u001b[1;33m(\u001b[0m\u001b[0msize\u001b[0m\u001b[1;33m,\u001b[0m \u001b[0mstrict\u001b[0m\u001b[1;33m=\u001b[0m\u001b[0mstrict\u001b[0m\u001b[1;33m,\u001b[0m \u001b[0mmaxlblsz\u001b[0m\u001b[1;33m=\u001b[0m\u001b[0mmaxlblsz\u001b[0m\u001b[1;33m)\u001b[0m\u001b[1;33m)\u001b[0m\u001b[1;33m\u001b[0m\u001b[1;33m\u001b[0m\u001b[0m\n\u001b[0m\u001b[0;32m    789\u001b[0m         \u001b[0mfoo\u001b[0m\u001b[1;33m.\u001b[0m\u001b[0mclose\u001b[0m\u001b[1;33m(\u001b[0m\u001b[1;33m)\u001b[0m\u001b[1;33m\u001b[0m\u001b[1;33m\u001b[0m\u001b[0m\n\u001b[0;32m    790\u001b[0m         \u001b[1;32mif\u001b[0m \u001b[0mrun_from_ipython_notebook\u001b[0m\u001b[1;33m(\u001b[0m\u001b[1;33m)\u001b[0m\u001b[1;33m:\u001b[0m\u001b[1;33m\u001b[0m\u001b[1;33m\u001b[0m\u001b[0m\n",
      "\u001b[1;32mc:\\Users\\danir\\AppData\\Local\\Programs\\Python\\Python312\\Lib\\site-packages\\FAdo\\fa.py\u001b[0m in \u001b[0;36mdotFormat\u001b[1;34m(self, size, filename, direction, strict, maxlblsz, sep)\u001b[0m\n\u001b[0;32m   2017\u001b[0m         .. versionchanged:: 1.2.1\"\"\"\n\u001b[0;32m   2018\u001b[0m         \u001b[1;32mif\u001b[0m \u001b[1;32mnot\u001b[0m \u001b[0mstrict\u001b[0m \u001b[1;32mand\u001b[0m \u001b[0mmax\u001b[0m\u001b[1;33m(\u001b[0m\u001b[1;33m[\u001b[0m\u001b[0mlen\u001b[0m\u001b[1;33m(\u001b[0m\u001b[0mstr\u001b[0m\u001b[1;33m(\u001b[0m\u001b[0mname\u001b[0m\u001b[1;33m)\u001b[0m\u001b[1;33m)\u001b[0m \u001b[1;32mfor\u001b[0m \u001b[0mname\u001b[0m \u001b[1;32min\u001b[0m \u001b[0mself\u001b[0m\u001b[1;33m.\u001b[0m\u001b[0mStates\u001b[0m\u001b[1;33m]\u001b[0m\u001b[1;33m)\u001b[0m \u001b[1;33m>\u001b[0m \u001b[0mmaxlblsz\u001b[0m\u001b[1;33m:\u001b[0m\u001b[1;33m\u001b[0m\u001b[1;33m\u001b[0m\u001b[0m\n\u001b[1;32m-> 2019\u001b[1;33m             \u001b[0mo\u001b[0m \u001b[1;33m=\u001b[0m \u001b[0mself\u001b[0m\u001b[1;33m.\u001b[0m\u001b[0mdup\u001b[0m\u001b[1;33m(\u001b[0m\u001b[1;33m)\u001b[0m\u001b[1;33m\u001b[0m\u001b[1;33m\u001b[0m\u001b[0m\n\u001b[0m\u001b[0;32m   2020\u001b[0m             \u001b[0mo\u001b[0m\u001b[1;33m.\u001b[0m\u001b[0mrenameStates\u001b[0m\u001b[1;33m(\u001b[0m\u001b[1;33m)\u001b[0m\u001b[1;33m\u001b[0m\u001b[1;33m\u001b[0m\u001b[0m\n\u001b[0;32m   2021\u001b[0m         \u001b[1;32melse\u001b[0m\u001b[1;33m:\u001b[0m\u001b[1;33m\u001b[0m\u001b[1;33m\u001b[0m\u001b[0m\n",
      "\u001b[1;32mc:\\Users\\danir\\AppData\\Local\\Programs\\Python\\Python312\\Lib\\site-packages\\FAdo\\fa.py\u001b[0m in \u001b[0;36mdup\u001b[1;34m(self)\u001b[0m\n\u001b[0;32m   1817\u001b[0m         \u001b[0mnew\u001b[0m\u001b[1;33m.\u001b[0m\u001b[0mStates\u001b[0m \u001b[1;33m=\u001b[0m \u001b[0mself\u001b[0m\u001b[1;33m.\u001b[0m\u001b[0mStates\u001b[0m\u001b[1;33m[\u001b[0m\u001b[1;33m:\u001b[0m\u001b[1;33m]\u001b[0m\u001b[1;33m\u001b[0m\u001b[1;33m\u001b[0m\u001b[0m\n\u001b[0;32m   1818\u001b[0m         \u001b[0mnew\u001b[0m\u001b[1;33m.\u001b[0m\u001b[0mInitial\u001b[0m \u001b[1;33m=\u001b[0m \u001b[0mself\u001b[0m\u001b[1;33m.\u001b[0m\u001b[0mInitial\u001b[0m\u001b[1;33m.\u001b[0m\u001b[0mcopy\u001b[0m\u001b[1;33m(\u001b[0m\u001b[1;33m)\u001b[0m\u001b[1;33m\u001b[0m\u001b[1;33m\u001b[0m\u001b[0m\n\u001b[1;32m-> 1819\u001b[1;33m         \u001b[0mnew\u001b[0m\u001b[1;33m.\u001b[0m\u001b[0mFinal\u001b[0m \u001b[1;33m=\u001b[0m \u001b[0mself\u001b[0m\u001b[1;33m.\u001b[0m\u001b[0mFinal\u001b[0m\u001b[1;33m.\u001b[0m\u001b[0mcopy\u001b[0m\u001b[1;33m(\u001b[0m\u001b[1;33m)\u001b[0m\u001b[1;33m\u001b[0m\u001b[1;33m\u001b[0m\u001b[0m\n\u001b[0m\u001b[0;32m   1820\u001b[0m         \u001b[1;32mfor\u001b[0m \u001b[0ms\u001b[0m \u001b[1;32min\u001b[0m \u001b[0mself\u001b[0m\u001b[1;33m.\u001b[0m\u001b[0mdelta\u001b[0m\u001b[1;33m:\u001b[0m\u001b[1;33m\u001b[0m\u001b[1;33m\u001b[0m\u001b[0m\n\u001b[0;32m   1821\u001b[0m             \u001b[0mnew\u001b[0m\u001b[1;33m.\u001b[0m\u001b[0mdelta\u001b[0m\u001b[1;33m[\u001b[0m\u001b[0ms\u001b[0m\u001b[1;33m]\u001b[0m \u001b[1;33m=\u001b[0m \u001b[1;33m{\u001b[0m\u001b[1;33m}\u001b[0m\u001b[1;33m\u001b[0m\u001b[1;33m\u001b[0m\u001b[0m\n",
      "\u001b[1;31mAttributeError\u001b[0m: 'NoneType' object has no attribute 'copy'"
     ]
    }
   ],
   "source": [
    "from count import *\n",
    "from match_nfa import * \n",
    "\n",
    "w4 = \"a^[2,4[\"\n",
    "regGrammar = lark.Lark.open(\"lang/regexp_test.lark\", start=\"rege\", parser=\"lalr\")\n",
    "tree = regGrammar.parse(w4)\n",
    "reg : RegExp = BuildRegexp(context={\"sigma\": None}).transform(tree)\n",
    "reg.setSigma(reg.setOfSymbols())\n",
    "# x : matchNFA = reg.dfaBrzozowski()\n",
    "# x : matchNFA = reg.nfaPDNaive()\n",
    "# x : matchNFA = reg.toNFA(\"nfaPosCount\")\n",
    "x : matchNFA = reg.nfaPosition()\n",
    "x.display()\n",
    "# input_txt = \"abbaab\"\n",
    "# res = x.table_matcher(input_txt)\n",
    "# print(x.enum_matches(res, input_txt))"
   ]
  },
  {
   "cell_type": "code",
   "execution_count": 11,
   "id": "847b46e5",
   "metadata": {},
   "outputs": [
    {
     "name": "stdout",
     "output_type": "stream",
     "text": [
      "a^3\n",
      "{CConcat({CEpsilon()},a^2)}\n"
     ]
    }
   ],
   "source": [
    "w4 = \"a^[3]\"\n",
    "tree = regGrammar.parse(w4)\n",
    "reg : RegExp = BuildRegexp(context={\"sigma\": None}).transform(tree)\n",
    "reg.setSigma(reg.setOfSymbols())\n",
    "z = reg.partialDerivatives(\"a\")\n",
    "print(reg)\n",
    "print(z)"
   ]
  },
  {
   "cell_type": "code",
   "execution_count": 4,
   "id": "77204ec4",
   "metadata": {},
   "outputs": [
    {
     "data": {
      "text/plain": [
       "<bound method RegExp.dfaBrzozowski of CDisj(CConcat(CAtom(a),CAtom(b)),CConcat(CAtom(b),CAtom(a)))>"
      ]
     },
     "execution_count": 4,
     "metadata": {},
     "output_type": "execute_result"
    }
   ],
   "source": [
    "z = str2regexp(\"ab+ba\")\n",
    "z.dfaBrzozowski"
   ]
  },
  {
   "cell_type": "code",
   "execution_count": null,
   "id": "1053770b",
   "metadata": {},
   "outputs": [
    {
     "data": {
      "image/svg+xml": [
       "<svg xmlns=\"http://www.w3.org/2000/svg\" xmlns:xlink=\"http://www.w3.org/1999/xlink\" width=\"508pt\" height=\"197pt\" viewBox=\"0.00 0.00 507.85 196.50\">\n",
       "<g id=\"graph0\" class=\"graph\" transform=\"scale(1 1) rotate(0) translate(4 192.5)\">\n",
       "<title>finite_state_machine</title>\n",
       "<polygon fill=\"white\" stroke=\"none\" points=\"-4,4 -4,-192.5 503.85,-192.5 503.85,4 -4,4\"/>\n",
       "<!-- dummy -->\n",
       "<g id=\"node1\" class=\"node\">\n",
       "<title>dummy</title>\n",
       "<ellipse fill=\"black\" stroke=\"black\" cx=\"1.8\" cy=\"-91\" rx=\"1.8\" ry=\"1.8\"/>\n",
       "</g>\n",
       "<!-- 0 -->\n",
       "<g id=\"node2\" class=\"node\">\n",
       "<title>0</title>\n",
       "<ellipse fill=\"none\" stroke=\"black\" cx=\"58.6\" cy=\"-91\" rx=\"18\" ry=\"18\"/>\n",
       "<text text-anchor=\"middle\" x=\"58.6\" y=\"-85.95\" font-family=\"Times New Roman,serif\" font-size=\"14.00\">0</text>\n",
       "</g>\n",
       "<!-- dummy&#45;&gt;0 -->\n",
       "<g id=\"edge1\" class=\"edge\">\n",
       "<title>dummy-&gt;0</title>\n",
       "<path fill=\"none\" stroke=\"black\" d=\"M3.75,-91C6.96,-91 17.8,-91 28.92,-91\"/>\n",
       "<polygon fill=\"black\" stroke=\"black\" points=\"28.79,-94.5 38.79,-91 28.78,-87.5 28.79,-94.5\"/>\n",
       "</g>\n",
       "<!-- 1 -->\n",
       "<g id=\"node3\" class=\"node\">\n",
       "<title>1</title>\n",
       "<ellipse fill=\"none\" stroke=\"black\" cx=\"137.35\" cy=\"-118\" rx=\"18\" ry=\"18\"/>\n",
       "<text text-anchor=\"middle\" x=\"137.35\" y=\"-112.95\" font-family=\"Times New Roman,serif\" font-size=\"14.00\">1</text>\n",
       "</g>\n",
       "<!-- 0&#45;&gt;1 -->\n",
       "<g id=\"edge2\" class=\"edge\">\n",
       "<title>0-&gt;1</title>\n",
       "<path fill=\"none\" stroke=\"black\" d=\"M75.88,-96.73C85.58,-100.14 98.14,-104.56 109.3,-108.48\"/>\n",
       "<polygon fill=\"black\" stroke=\"black\" points=\"107.81,-111.67 118.4,-111.69 110.13,-105.07 107.81,-111.67\"/>\n",
       "<text text-anchor=\"middle\" x=\"97.98\" y=\"-108.51\" font-family=\"Times New Roman,serif\" font-size=\"14.00\">b</text>\n",
       "</g>\n",
       "<!-- 2 -->\n",
       "<g id=\"node4\" class=\"node\">\n",
       "<title>2</title>\n",
       "<ellipse fill=\"none\" stroke=\"black\" cx=\"137.35\" cy=\"-64\" rx=\"18\" ry=\"18\"/>\n",
       "<text text-anchor=\"middle\" x=\"137.35\" y=\"-58.95\" font-family=\"Times New Roman,serif\" font-size=\"14.00\">2</text>\n",
       "</g>\n",
       "<!-- 0&#45;&gt;2 -->\n",
       "<g id=\"edge3\" class=\"edge\">\n",
       "<title>0-&gt;2</title>\n",
       "<path fill=\"none\" stroke=\"black\" d=\"M75.88,-85.27C85.58,-81.86 98.14,-77.44 109.3,-73.52\"/>\n",
       "<polygon fill=\"black\" stroke=\"black\" points=\"110.13,-76.93 118.4,-70.31 107.81,-70.33 110.13,-76.93\"/>\n",
       "<text text-anchor=\"middle\" x=\"97.98\" y=\"-81.51\" font-family=\"Times New Roman,serif\" font-size=\"14.00\">a</text>\n",
       "</g>\n",
       "<!-- 1&#45;&gt;1 -->\n",
       "<g id=\"edge14\" class=\"edge\">\n",
       "<title>1-&gt;1</title>\n",
       "<path fill=\"none\" stroke=\"black\" d=\"M130.37,-135.04C128.95,-144.86 131.27,-154 137.35,-154 140.86,-154 143.12,-150.94 144.13,-146.47\"/>\n",
       "<polygon fill=\"black\" stroke=\"black\" points=\"147.63,-146.61 144.3,-136.55 140.63,-146.49 147.63,-146.61\"/>\n",
       "<text text-anchor=\"middle\" x=\"137.35\" y=\"-157.2\" font-family=\"Times New Roman,serif\" font-size=\"14.00\">b, a</text>\n",
       "</g>\n",
       "<!-- 3 -->\n",
       "<g id=\"node5\" class=\"node\">\n",
       "<title>3</title>\n",
       "<ellipse fill=\"none\" stroke=\"black\" cx=\"220.1\" cy=\"-111\" rx=\"18\" ry=\"18\"/>\n",
       "<ellipse fill=\"none\" stroke=\"black\" cx=\"220.1\" cy=\"-111\" rx=\"22\" ry=\"22\"/>\n",
       "<text text-anchor=\"middle\" x=\"220.1\" y=\"-105.95\" font-family=\"Times New Roman,serif\" font-size=\"14.00\">3</text>\n",
       "</g>\n",
       "<!-- 2&#45;&gt;3 -->\n",
       "<g id=\"edge4\" class=\"edge\">\n",
       "<title>2-&gt;3</title>\n",
       "<path fill=\"none\" stroke=\"black\" d=\"M153.54,-72.84C164.06,-78.97 178.39,-87.31 190.97,-94.63\"/>\n",
       "<polygon fill=\"black\" stroke=\"black\" points=\"188.87,-97.45 199.27,-99.46 192.39,-91.4 188.87,-97.45\"/>\n",
       "<text text-anchor=\"middle\" x=\"176.73\" y=\"-90.7\" font-family=\"Times New Roman,serif\" font-size=\"14.00\">b</text>\n",
       "</g>\n",
       "<!-- 4 -->\n",
       "<g id=\"node6\" class=\"node\">\n",
       "<title>4</title>\n",
       "<ellipse fill=\"none\" stroke=\"black\" cx=\"220.1\" cy=\"-18\" rx=\"18\" ry=\"18\"/>\n",
       "<text text-anchor=\"middle\" x=\"220.1\" y=\"-12.95\" font-family=\"Times New Roman,serif\" font-size=\"14.00\">4</text>\n",
       "</g>\n",
       "<!-- 2&#45;&gt;4 -->\n",
       "<g id=\"edge5\" class=\"edge\">\n",
       "<title>2-&gt;4</title>\n",
       "<path fill=\"none\" stroke=\"black\" d=\"M153.54,-55.35C164.93,-48.86 180.78,-39.83 194.03,-32.28\"/>\n",
       "<polygon fill=\"black\" stroke=\"black\" points=\"195.71,-35.35 202.66,-27.36 192.24,-29.27 195.71,-35.35\"/>\n",
       "<text text-anchor=\"middle\" x=\"176.73\" y=\"-46.95\" font-family=\"Times New Roman,serif\" font-size=\"14.00\">a</text>\n",
       "</g>\n",
       "<!-- 5 -->\n",
       "<g id=\"node7\" class=\"node\">\n",
       "<title>5</title>\n",
       "<ellipse fill=\"none\" stroke=\"black\" cx=\"302.85\" cy=\"-136\" rx=\"18\" ry=\"18\"/>\n",
       "<text text-anchor=\"middle\" x=\"302.85\" y=\"-130.95\" font-family=\"Times New Roman,serif\" font-size=\"14.00\">5</text>\n",
       "</g>\n",
       "<!-- 3&#45;&gt;5 -->\n",
       "<g id=\"edge7\" class=\"edge\">\n",
       "<title>3-&gt;5</title>\n",
       "<path fill=\"none\" stroke=\"black\" d=\"M241.48,-117.31C251.43,-120.39 263.55,-124.14 274.31,-127.47\"/>\n",
       "<polygon fill=\"black\" stroke=\"black\" points=\"273.25,-130.81 283.84,-130.42 275.32,-124.12 273.25,-130.81\"/>\n",
       "<text text-anchor=\"middle\" x=\"263.48\" y=\"-128.2\" font-family=\"Times New Roman,serif\" font-size=\"14.00\">b</text>\n",
       "</g>\n",
       "<!-- 6 -->\n",
       "<g id=\"node8\" class=\"node\">\n",
       "<title>6</title>\n",
       "<ellipse fill=\"none\" stroke=\"black\" cx=\"302.85\" cy=\"-82\" rx=\"18\" ry=\"18\"/>\n",
       "<text text-anchor=\"middle\" x=\"302.85\" y=\"-76.95\" font-family=\"Times New Roman,serif\" font-size=\"14.00\">6</text>\n",
       "</g>\n",
       "<!-- 3&#45;&gt;6 -->\n",
       "<g id=\"edge8\" class=\"edge\">\n",
       "<title>3-&gt;6</title>\n",
       "<path fill=\"none\" stroke=\"black\" d=\"M241.06,-103.83C251.18,-100.2 263.63,-95.73 274.61,-91.78\"/>\n",
       "<polygon fill=\"black\" stroke=\"black\" points=\"275.73,-95.1 283.95,-88.43 273.36,-88.51 275.73,-95.1\"/>\n",
       "<text text-anchor=\"middle\" x=\"263.48\" y=\"-99.7\" font-family=\"Times New Roman,serif\" font-size=\"14.00\">a</text>\n",
       "</g>\n",
       "<!-- 4&#45;&gt;4 -->\n",
       "<g id=\"edge6\" class=\"edge\">\n",
       "<title>4-&gt;4</title>\n",
       "<path fill=\"none\" stroke=\"black\" d=\"M212.48,-34.66C210.78,-44.62 213.32,-54 220.1,-54 224.12,-54 226.65,-50.69 227.69,-45.92\"/>\n",
       "<polygon fill=\"black\" stroke=\"black\" points=\"231.19,-46.19 227.72,-36.18 224.19,-46.17 231.19,-46.19\"/>\n",
       "<text text-anchor=\"middle\" x=\"220.1\" y=\"-57.2\" font-family=\"Times New Roman,serif\" font-size=\"14.00\">b, a</text>\n",
       "</g>\n",
       "<!-- 5&#45;&gt;5 -->\n",
       "<g id=\"edge13\" class=\"edge\">\n",
       "<title>5-&gt;5</title>\n",
       "<path fill=\"none\" stroke=\"black\" d=\"M295.87,-153.04C294.45,-162.86 296.77,-172 302.85,-172 306.36,-172 308.62,-168.94 309.63,-164.47\"/>\n",
       "<polygon fill=\"black\" stroke=\"black\" points=\"313.13,-164.61 309.8,-154.55 306.13,-164.49 313.13,-164.61\"/>\n",
       "<text text-anchor=\"middle\" x=\"302.85\" y=\"-175.2\" font-family=\"Times New Roman,serif\" font-size=\"14.00\">b, a</text>\n",
       "</g>\n",
       "<!-- 7 -->\n",
       "<g id=\"node9\" class=\"node\">\n",
       "<title>7</title>\n",
       "<ellipse fill=\"none\" stroke=\"black\" cx=\"385.6\" cy=\"-123\" rx=\"18\" ry=\"18\"/>\n",
       "<ellipse fill=\"none\" stroke=\"black\" cx=\"385.6\" cy=\"-123\" rx=\"22\" ry=\"22\"/>\n",
       "<text text-anchor=\"middle\" x=\"385.6\" y=\"-117.95\" font-family=\"Times New Roman,serif\" font-size=\"14.00\">7</text>\n",
       "</g>\n",
       "<!-- 6&#45;&gt;7 -->\n",
       "<g id=\"edge9\" class=\"edge\">\n",
       "<title>6-&gt;7</title>\n",
       "<path fill=\"none\" stroke=\"black\" d=\"M319.42,-89.91C329.56,-95.05 343.1,-101.93 355.22,-108.08\"/>\n",
       "<polygon fill=\"black\" stroke=\"black\" points=\"353.52,-111.15 364.02,-112.55 356.69,-104.9 353.52,-111.15\"/>\n",
       "<text text-anchor=\"middle\" x=\"342.23\" y=\"-105.7\" font-family=\"Times New Roman,serif\" font-size=\"14.00\">b</text>\n",
       "</g>\n",
       "<!-- 8 -->\n",
       "<g id=\"node10\" class=\"node\">\n",
       "<title>8</title>\n",
       "<ellipse fill=\"none\" stroke=\"black\" cx=\"481.85\" cy=\"-82\" rx=\"18\" ry=\"18\"/>\n",
       "<text text-anchor=\"middle\" x=\"481.85\" y=\"-76.95\" font-family=\"Times New Roman,serif\" font-size=\"14.00\">8</text>\n",
       "</g>\n",
       "<!-- 6&#45;&gt;8 -->\n",
       "<g id=\"edge10\" class=\"edge\">\n",
       "<title>6-&gt;8</title>\n",
       "<path fill=\"none\" stroke=\"black\" d=\"M321.07,-79.63C332.98,-78.11 349.22,-76.28 363.6,-75.5 393.94,-73.85 428.69,-76.33 452.43,-78.68\"/>\n",
       "<polygon fill=\"black\" stroke=\"black\" points=\"451.95,-82.15 462.26,-79.72 452.68,-75.19 451.95,-82.15\"/>\n",
       "<text text-anchor=\"middle\" x=\"385.6\" y=\"-78.7\" font-family=\"Times New Roman,serif\" font-size=\"14.00\">a</text>\n",
       "</g>\n",
       "<!-- 7&#45;&gt;8 -->\n",
       "<g id=\"edge12\" class=\"edge\">\n",
       "<title>7-&gt;8</title>\n",
       "<path fill=\"none\" stroke=\"black\" d=\"M406.13,-114.5C420.1,-108.43 439.07,-100.18 454.4,-93.51\"/>\n",
       "<polygon fill=\"black\" stroke=\"black\" points=\"455.63,-96.79 463.4,-89.59 452.84,-90.37 455.63,-96.79\"/>\n",
       "<text text-anchor=\"middle\" x=\"435.73\" y=\"-108.15\" font-family=\"Times New Roman,serif\" font-size=\"14.00\">b, a</text>\n",
       "</g>\n",
       "<!-- 8&#45;&gt;8 -->\n",
       "<g id=\"edge11\" class=\"edge\">\n",
       "<title>8-&gt;8</title>\n",
       "<path fill=\"none\" stroke=\"black\" d=\"M473.81,-98.29C471.87,-108.39 474.55,-118 481.85,-118 486.18,-118 488.89,-114.61 489.96,-109.74\"/>\n",
       "<polygon fill=\"black\" stroke=\"black\" points=\"493.46,-109.78 489.9,-99.8 486.46,-109.83 493.46,-109.78\"/>\n",
       "<text text-anchor=\"middle\" x=\"481.85\" y=\"-121.2\" font-family=\"Times New Roman,serif\" font-size=\"14.00\">b, a</text>\n",
       "</g>\n",
       "</g>\n",
       "</svg>"
      ],
      "text/plain": [
       "<IPython.core.display.SVG object>"
      ]
     },
     "metadata": {},
     "output_type": "display_data"
    },
    {
     "data": {
      "text/plain": [
       "True"
      ]
     },
     "execution_count": 19,
     "metadata": {},
     "output_type": "execute_result"
    }
   ],
   "source": [
    "from count import *\n",
    "from match_nfa import * \n",
    "w4 = \"((ab))^[1,3[\"\n",
    "#w4 = \"ab+ba\"\n",
    "regGrammar = lark.Lark.open(\"lang/regexp_test.lark\", start=\"rege\", parser=\"lalr\")\n",
    "tree = regGrammar.parse(w4)\n",
    "reg : RegExp = BuildRegexp(context={\"sigma\": None}).transform(tree)\n",
    "reg.setSigma(reg.setOfSymbols())\n",
    "# f = reg.linearForm()\n",
    "# print(f)\n",
    "# f = f[\"a\"].pop().linearForm()\n",
    "# print(f)\n",
    "# f = f[\"b\"].pop().linearForm()\n",
    "# print(f)\n",
    "# f = f[\"a\"].pop().linearForm()\n",
    "# print(f)\n",
    "# f = f[\"b\"].pop().linearForm()\n",
    "# print(f)\n",
    "# f = f[\"a\"].pop().linearForm()\n",
    "# print(f)\n",
    "# f = f[\"b\"].pop().linearForm()\n",
    "# print(f)\n",
    "x: DFA = reg.dfaBrzozowski()\n",
    "x.display()\n",
    "x.evalWordP(\"abab\")"
   ]
  },
  {
   "cell_type": "code",
   "execution_count": 6,
   "id": "9b4e4b0f",
   "metadata": {},
   "outputs": [
    {
     "data": {
      "text/plain": [
       "False"
      ]
     },
     "execution_count": 6,
     "metadata": {},
     "output_type": "execute_result"
    }
   ],
   "source": [
    "x.evalWordP(\"ba\")"
   ]
  },
  {
   "cell_type": "code",
   "execution_count": 7,
   "id": "3504f14c",
   "metadata": {},
   "outputs": [],
   "source": [
    "def dfa_step(x:DFA, input_sym, current_state):\n",
    "\tfor i in x.delta:\n",
    "\t\toutsymbols = x.delta[i]\n",
    "\t\tfor sym in outsymbols:\n",
    "\t\t\tif str(sym) == str(input_sym) and current_state == i:\n",
    "\t\t\t\treturn (True, x.delta[i][sym])\n",
    "\t\t\t\n",
    "\t# if it gets here then eval from initial:\n",
    "\tfor i in x.delta:\n",
    "\t\toutsymbols = x.delta[i]\n",
    "\t\tfor sym in outsymbols:\n",
    "\t\t\tif str(sym) == str(input_sym) and i == x.Initial:\n",
    "\t\t\t\treturn (False, x.delta[i][sym])\n",
    "\t\t\t\n",
    "\treturn (False, x.Initial)"
   ]
  },
  {
   "cell_type": "code",
   "execution_count": 8,
   "id": "9272093b",
   "metadata": {},
   "outputs": [
    {
     "name": "stdout",
     "output_type": "stream",
     "text": [
      "Reset {0}\n",
      "Reset {0}\n",
      "Reset {0}\n",
      "Reset {0}\n",
      "Reset {0}\n",
      "Reset {0}\n",
      "Reset {0}\n",
      "Reset {0}\n",
      "Reset {0}\n"
     ]
    }
   ],
   "source": [
    "it = \"ababababc\"\n",
    "cstate = x.Initial\n",
    "match = \"\"\n",
    "\n",
    "for i in it:\n",
    "\tnt = False\n",
    "\tmatch += i\n",
    "\tstep_res, step_state = dfa_step(x, i, cstate)\n",
    "\t#print(\"step\", i, match, step_res, step_state)\n",
    "\tcstate = step_state\n",
    "\tif step_res:\n",
    "\t\tif cstate in x.Final:\n",
    "\t\t\tprint(\"reached final state\", match)\n",
    "\telse:\n",
    "\t\tif cstate is not x.Initial:\n",
    "\t\t\tmatch = i\n",
    "\t\telse:\n",
    "\t\t\tmatch = \"\"\n",
    "\t\tprint(\"Reset\", cstate)\n",
    "\n",
    "\t# for y in x.delta:\n",
    "\t# \toutsymbols = x.delta[y]\n",
    "\t# \tfor sym in outsymbols:\n",
    "\t# \t\tif str(sym) == str(i) and y == cstate:\n",
    "\t# \t\t\tnt = True\n",
    "\t# \t\t\tcstate = x.delta[y][sym]\n",
    "\t# \t\t\tprint(\"w\", sym, cstate)\n",
    "\t# \t\telse:\n",
    "\t# \t\t\tcstate = x.Initial\n",
    "\t# \t\t\tmatch=\"\""
   ]
  },
  {
   "cell_type": "code",
   "execution_count": 9,
   "id": "d28f3a4a",
   "metadata": {},
   "outputs": [
    {
     "data": {
      "text/plain": [
       "<bound method NFA.evalWordP of NFA((['(a b)+', 'b (a b)+'], ['b', 'a'], ['(a b)+'], [], \"[(CPlus(CConcat(CAtom(a),CAtom(b))), 'a', CConcat(CAtom(b),CPlus(CConcat(CAtom(a),CAtom(b))))), (CConcat(CAtom(b),CPlus(CConcat(CAtom(a),CAtom(b)))), 'b', CPlus(CConcat(CAtom(a),CAtom(b))))]\"))>"
      ]
     },
     "execution_count": 9,
     "metadata": {},
     "output_type": "execute_result"
    }
   ],
   "source": [
    "x.evalWordP"
   ]
  }
 ],
 "metadata": {
  "kernelspec": {
   "display_name": "Python 3",
   "language": "python",
   "name": "python3"
  },
  "language_info": {
   "codemirror_mode": {
    "name": "ipython",
    "version": 3
   },
   "file_extension": ".py",
   "mimetype": "text/x-python",
   "name": "python",
   "nbconvert_exporter": "python",
   "pygments_lexer": "ipython3",
   "version": "3.12.4"
  }
 },
 "nbformat": 4,
 "nbformat_minor": 5
}
