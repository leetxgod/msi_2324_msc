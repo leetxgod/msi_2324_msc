{
 "cells": [
  {
   "cell_type": "code",
   "execution_count": null,
   "id": "1558a899",
   "metadata": {},
   "outputs": [
    {
     "data": {
      "image/svg+xml": [
       "<svg xmlns=\"http://www.w3.org/2000/svg\" xmlns:xlink=\"http://www.w3.org/1999/xlink\" width=\"365pt\" height=\"116pt\" viewBox=\"0.00 0.00 364.60 115.50\">\n",
       "<g id=\"graph0\" class=\"graph\" transform=\"scale(1 1) rotate(0) translate(4 111.5)\">\n",
       "<title>finite_state_machine</title>\n",
       "<polygon fill=\"white\" stroke=\"none\" points=\"-4,4 -4,-111.5 360.6,-111.5 360.6,4 -4,4\"/>\n",
       "<!-- dummy0 -->\n",
       "<g id=\"node1\" class=\"node\">\n",
       "<title>dummy0</title>\n",
       "<ellipse fill=\"black\" stroke=\"black\" cx=\"1.8\" cy=\"-55\" rx=\"1.8\" ry=\"1.8\"/>\n",
       "</g>\n",
       "<!-- 0 -->\n",
       "<g id=\"node2\" class=\"node\">\n",
       "<title>0</title>\n",
       "<ellipse fill=\"none\" stroke=\"black\" cx=\"58.6\" cy=\"-55\" rx=\"18\" ry=\"18\"/>\n",
       "<text text-anchor=\"middle\" x=\"58.6\" y=\"-49.95\" font-family=\"Times New Roman,serif\" font-size=\"14.00\">0</text>\n",
       "</g>\n",
       "<!-- dummy0&#45;&gt;0 -->\n",
       "<g id=\"edge1\" class=\"edge\">\n",
       "<title>dummy0-&gt;0</title>\n",
       "<path fill=\"none\" stroke=\"black\" d=\"M3.75,-55C6.96,-55 17.8,-55 28.92,-55\"/>\n",
       "<polygon fill=\"black\" stroke=\"black\" points=\"28.79,-58.5 38.79,-55 28.78,-51.5 28.79,-58.5\"/>\n",
       "</g>\n",
       "<!-- 0&#45;&gt;0 -->\n",
       "<g id=\"edge2\" class=\"edge\">\n",
       "<title>0-&gt;0</title>\n",
       "<path fill=\"none\" stroke=\"black\" d=\"M52.13,-72.04C50.81,-81.86 52.97,-91 58.6,-91 61.86,-91 63.95,-87.94 64.88,-83.47\"/>\n",
       "<polygon fill=\"black\" stroke=\"black\" points=\"68.38,-83.61 65.04,-73.55 61.38,-83.49 68.38,-83.61\"/>\n",
       "<text text-anchor=\"middle\" x=\"58.6\" y=\"-94.2\" font-family=\"Times New Roman,serif\" font-size=\"14.00\">a</text>\n",
       "</g>\n",
       "<!-- 1 -->\n",
       "<g id=\"node3\" class=\"node\">\n",
       "<title>1</title>\n",
       "<ellipse fill=\"none\" stroke=\"black\" cx=\"194.6\" cy=\"-79\" rx=\"18\" ry=\"18\"/>\n",
       "<ellipse fill=\"none\" stroke=\"black\" cx=\"194.6\" cy=\"-79\" rx=\"22\" ry=\"22\"/>\n",
       "<text text-anchor=\"middle\" x=\"194.6\" y=\"-73.95\" font-family=\"Times New Roman,serif\" font-size=\"14.00\">1</text>\n",
       "</g>\n",
       "<!-- 0&#45;&gt;1 -->\n",
       "<g id=\"edge3\" class=\"edge\">\n",
       "<title>0-&gt;1</title>\n",
       "<path fill=\"none\" stroke=\"black\" d=\"M76.57,-58.04C97.92,-61.86 135.01,-68.51 161.72,-73.29\"/>\n",
       "<polygon fill=\"black\" stroke=\"black\" points=\"160.86,-76.69 171.32,-75.01 162.1,-69.8 160.86,-76.69\"/>\n",
       "<text text-anchor=\"middle\" x=\"97.6\" y=\"-65.2\" font-family=\"Times New Roman,serif\" font-size=\"14.00\">a</text>\n",
       "</g>\n",
       "<!-- 2 -->\n",
       "<g id=\"node4\" class=\"node\">\n",
       "<title>2</title>\n",
       "<ellipse fill=\"none\" stroke=\"black\" cx=\"136.6\" cy=\"-31\" rx=\"18\" ry=\"18\"/>\n",
       "<text text-anchor=\"middle\" x=\"136.6\" y=\"-25.95\" font-family=\"Times New Roman,serif\" font-size=\"14.00\">2</text>\n",
       "</g>\n",
       "<!-- 0&#45;&gt;2 -->\n",
       "<g id=\"edge4\" class=\"edge\">\n",
       "<title>0-&gt;2</title>\n",
       "<path fill=\"none\" stroke=\"black\" d=\"M75.35,-47.17C81.28,-44.45 88.15,-41.57 94.6,-39.5 98.72,-38.18 103.14,-37.01 107.49,-36\"/>\n",
       "<polygon fill=\"black\" stroke=\"black\" points=\"108.08,-39.45 117.15,-33.99 106.65,-32.6 108.08,-39.45\"/>\n",
       "<text text-anchor=\"middle\" x=\"97.6\" y=\"-42.7\" font-family=\"Times New Roman,serif\" font-size=\"14.00\">a</text>\n",
       "</g>\n",
       "<!-- 4 -->\n",
       "<g id=\"node6\" class=\"node\">\n",
       "<title>4</title>\n",
       "<ellipse fill=\"none\" stroke=\"black\" cx=\"338.6\" cy=\"-51\" rx=\"18\" ry=\"18\"/>\n",
       "<text text-anchor=\"middle\" x=\"338.6\" y=\"-45.95\" font-family=\"Times New Roman,serif\" font-size=\"14.00\">4</text>\n",
       "</g>\n",
       "<!-- 1&#45;&gt;4 -->\n",
       "<g id=\"edge7\" class=\"edge\">\n",
       "<title>1-&gt;4</title>\n",
       "<path fill=\"none\" stroke=\"black\" d=\"M216.56,-75.34C238.17,-71.5 272.81,-65.19 302.6,-59 304.94,-58.51 307.36,-58 309.78,-57.46\"/>\n",
       "<polygon fill=\"black\" stroke=\"black\" points=\"310.43,-60.91 319.42,-55.29 308.89,-54.08 310.43,-60.91\"/>\n",
       "<text text-anchor=\"middle\" x=\"256.6\" y=\"-75.23\" font-family=\"Times New Roman,serif\" font-size=\"14.00\">a</text>\n",
       "</g>\n",
       "<!-- 3 -->\n",
       "<g id=\"node5\" class=\"node\">\n",
       "<title>3</title>\n",
       "<ellipse fill=\"none\" stroke=\"black\" cx=\"256.6\" cy=\"-22\" rx=\"18\" ry=\"18\"/>\n",
       "<ellipse fill=\"none\" stroke=\"black\" cx=\"256.6\" cy=\"-22\" rx=\"22\" ry=\"22\"/>\n",
       "<text text-anchor=\"middle\" x=\"256.6\" y=\"-16.95\" font-family=\"Times New Roman,serif\" font-size=\"14.00\">3</text>\n",
       "</g>\n",
       "<!-- 2&#45;&gt;3 -->\n",
       "<g id=\"edge5\" class=\"edge\">\n",
       "<title>2-&gt;3</title>\n",
       "<path fill=\"none\" stroke=\"black\" d=\"M155.01,-29.67C172.94,-28.3 201.31,-26.14 223.35,-24.46\"/>\n",
       "<polygon fill=\"black\" stroke=\"black\" points=\"223.31,-27.97 233.02,-23.72 222.78,-20.99 223.31,-27.97\"/>\n",
       "<text text-anchor=\"middle\" x=\"194.6\" y=\"-31.29\" font-family=\"Times New Roman,serif\" font-size=\"14.00\">a</text>\n",
       "</g>\n",
       "<!-- 3&#45;&gt;4 -->\n",
       "<g id=\"edge8\" class=\"edge\">\n",
       "<title>3-&gt;4</title>\n",
       "<path fill=\"none\" stroke=\"black\" d=\"M277.79,-29.32C287.75,-32.93 299.91,-37.34 310.65,-41.23\"/>\n",
       "<polygon fill=\"black\" stroke=\"black\" points=\"309.17,-44.42 319.76,-44.53 311.56,-37.84 309.17,-44.42\"/>\n",
       "<text text-anchor=\"middle\" x=\"299.6\" y=\"-41.44\" font-family=\"Times New Roman,serif\" font-size=\"14.00\">a</text>\n",
       "</g>\n",
       "<!-- 4&#45;&gt;4 -->\n",
       "<g id=\"edge6\" class=\"edge\">\n",
       "<title>4-&gt;4</title>\n",
       "<path fill=\"none\" stroke=\"black\" d=\"M331.69,-68.04C330.28,-77.86 332.58,-87 338.6,-87 342.08,-87 344.32,-83.94 345.31,-79.47\"/>\n",
       "<polygon fill=\"black\" stroke=\"black\" points=\"348.81,-79.61 345.48,-69.55 341.81,-79.49 348.81,-79.61\"/>\n",
       "<text text-anchor=\"middle\" x=\"338.6\" y=\"-90.2\" font-family=\"Times New Roman,serif\" font-size=\"14.00\">a</text>\n",
       "</g>\n",
       "</g>\n",
       "</svg>"
      ],
      "text/plain": [
       "<IPython.core.display.SVG object>"
      ]
     },
     "metadata": {},
     "output_type": "display_data"
    }
   ],
   "source": [
    "from match_nfa import *\n",
    "from termcolor import colored, cprint\n",
    "from count import *\n",
    "\n",
    "w1 = \"said+Christmas\"\n",
    "regGrammar = lark.Lark.open(\"lang/regexp_test.lark\", start=\"rege\", parser=\"lalr\")\n",
    "tree = regGrammar.parse(w1)\n",
    "reg = BuildRegexp(context={\"sigma\": None}).transform(tree)\n",
    "reg.setSigma(reg.setOfSymbols())\n",
    "x : matchNFA = reg.toNFA(\"nfaPosCount\")\n",
    "x.display()"
   ]
  },
  {
   "cell_type": "code",
   "execution_count": 4,
   "id": "68558ec3",
   "metadata": {},
   "outputs": [
    {
     "name": "stdout",
     "output_type": "stream",
     "text": [
      "Total matches: 9411\n"
     ]
    }
   ],
   "source": [
    "tmf = open(\"AChristmasCarol_CharlesDickens_English.txt\", \"r\")\n",
    "tmf_data = tmf.read()\n",
    "\n",
    "# while (data := tmf.read(50000)):\n",
    "k = x.table_matcher(tmf_data)\n",
    "x.enum_matches(k, tmf_data, True)"
   ]
  },
  {
   "cell_type": "code",
   "execution_count": null,
   "id": "f4513ba6",
   "metadata": {},
   "outputs": [],
   "source": [
    "import pandas\n",
    "file = pandas.read_csv(\"train.csv\")\n",
    "f = file[file[\"species\"].eq(\"human\")]\n",
    "with open(\"out_t.txt\", \"w\") as zz:\n",
    "\tfor i in f[\"sequence\"]:\n",
    "\t\tzz.write(i)"
   ]
  }
 ],
 "metadata": {
  "kernelspec": {
   "display_name": "Python 3",
   "language": "python",
   "name": "python3"
  },
  "language_info": {
   "codemirror_mode": {
    "name": "ipython",
    "version": 3
   },
   "file_extension": ".py",
   "mimetype": "text/x-python",
   "name": "python",
   "nbconvert_exporter": "python",
   "pygments_lexer": "ipython3",
   "version": "3.12.4"
  }
 },
 "nbformat": 4,
 "nbformat_minor": 5
}
