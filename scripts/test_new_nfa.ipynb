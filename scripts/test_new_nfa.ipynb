{
 "cells": [
  {
   "cell_type": "code",
   "execution_count": 16,
   "metadata": {},
   "outputs": [],
   "source": [
    "from new_nfa import *\n",
    "#from count import *\n",
    "\n",
    "regGrammar = lark.Lark.open(\"lang/regexp_test.lark\", start=\"rege\", parser=\"lalr\")\n",
    "tree = regGrammar.parse(\"a+ba+ab\")\n",
    "reg = BuildRegexp(context={\"sigma\": None}).transform(tree)\n",
    "reg.setSigma(reg.setOfSymbols())\n",
    "zz = reg.linearForm()\n",
    "x = reg.toNFA(\"nfaNewCount\")"
   ]
  },
  {
   "cell_type": "code",
   "execution_count": 17,
   "metadata": {},
   "outputs": [
    {
     "data": {
      "image/svg+xml": [
       "<svg xmlns=\"http://www.w3.org/2000/svg\" xmlns:xlink=\"http://www.w3.org/1999/xlink\" width=\"250pt\" height=\"182pt\" viewBox=\"0.00 0.00 250.10 181.87\">\n",
       "<g id=\"graph0\" class=\"graph\" transform=\"scale(1 1) rotate(0) translate(4 177.87)\">\n",
       "<title>finite_state_machine</title>\n",
       "<polygon fill=\"white\" stroke=\"none\" points=\"-4,4 -4,-177.87 246.1,-177.87 246.1,4 -4,4\"/>\n",
       "<!-- dummy0 -->\n",
       "<g id=\"node1\" class=\"node\">\n",
       "<title>dummy0</title>\n",
       "<ellipse fill=\"black\" stroke=\"black\" cx=\"1.8\" cy=\"-86.87\" rx=\"1.8\" ry=\"1.8\"/>\n",
       "</g>\n",
       "<!-- 0 -->\n",
       "<g id=\"node2\" class=\"node\">\n",
       "<title>0</title>\n",
       "<ellipse fill=\"none\" stroke=\"black\" cx=\"58.6\" cy=\"-86.87\" rx=\"18\" ry=\"18\"/>\n",
       "<text text-anchor=\"middle\" x=\"58.6\" y=\"-81.82\" font-family=\"Times,serif\" font-size=\"14.00\">0</text>\n",
       "</g>\n",
       "<!-- dummy0&#45;&gt;0 -->\n",
       "<g id=\"edge1\" class=\"edge\">\n",
       "<title>dummy0-&gt;0</title>\n",
       "<path fill=\"none\" stroke=\"black\" d=\"M3.75,-86.87C6.96,-86.87 17.8,-86.87 28.92,-86.87\"/>\n",
       "<polygon fill=\"black\" stroke=\"black\" points=\"28.79,-90.37 38.79,-86.87 28.78,-83.37 28.79,-90.37\"/>\n",
       "</g>\n",
       "<!-- 0&#45;&gt;0 -->\n",
       "<g id=\"edge2\" class=\"edge\">\n",
       "<title>0-&gt;0</title>\n",
       "<path fill=\"none\" stroke=\"black\" d=\"M52.13,-103.91C50.81,-113.73 52.97,-122.87 58.6,-122.87 61.86,-122.87 63.95,-119.81 64.88,-115.34\"/>\n",
       "<polygon fill=\"black\" stroke=\"black\" points=\"68.38,-115.48 65.04,-105.42 61.38,-115.36 68.38,-115.48\"/>\n",
       "<text text-anchor=\"middle\" x=\"58.6\" y=\"-126.07\" font-family=\"Times,serif\" font-size=\"14.00\">a, b</text>\n",
       "</g>\n",
       "<!-- 1 -->\n",
       "<g id=\"node3\" class=\"node\">\n",
       "<title>1</title>\n",
       "<ellipse fill=\"none\" stroke=\"black\" cx=\"137.35\" cy=\"-155.87\" rx=\"18\" ry=\"18\"/>\n",
       "<text text-anchor=\"middle\" x=\"137.35\" y=\"-150.82\" font-family=\"Times,serif\" font-size=\"14.00\">1</text>\n",
       "</g>\n",
       "<!-- 0&#45;&gt;1 -->\n",
       "<g id=\"edge3\" class=\"edge\">\n",
       "<title>0-&gt;1</title>\n",
       "<path fill=\"none\" stroke=\"black\" d=\"M72.62,-98.57C84.2,-108.98 101.35,-124.4 114.94,-136.62\"/>\n",
       "<polygon fill=\"black\" stroke=\"black\" points=\"112.36,-139.01 122.14,-143.09 117.04,-133.81 112.36,-139.01\"/>\n",
       "<text text-anchor=\"middle\" x=\"97.98\" y=\"-126.64\" font-family=\"Times,serif\" font-size=\"14.00\">a</text>\n",
       "</g>\n",
       "<!-- 2 -->\n",
       "<g id=\"node4\" class=\"node\">\n",
       "<title>2</title>\n",
       "<ellipse fill=\"none\" stroke=\"black\" cx=\"220.1\" cy=\"-86.87\" rx=\"18\" ry=\"18\"/>\n",
       "<ellipse fill=\"none\" stroke=\"black\" cx=\"220.1\" cy=\"-86.87\" rx=\"22\" ry=\"22\"/>\n",
       "<text text-anchor=\"middle\" x=\"220.1\" y=\"-81.82\" font-family=\"Times,serif\" font-size=\"14.00\">2</text>\n",
       "</g>\n",
       "<!-- 0&#45;&gt;2 -->\n",
       "<g id=\"edge4\" class=\"edge\">\n",
       "<title>0-&gt;2</title>\n",
       "<path fill=\"none\" stroke=\"black\" d=\"M77.04,-88.06C82.64,-88.39 88.88,-88.71 94.6,-88.87 132.58,-89.95 142.11,-89.84 180.1,-88.87 182.15,-88.82 184.25,-88.75 186.37,-88.67\"/>\n",
       "<polygon fill=\"black\" stroke=\"black\" points=\"186.31,-92.18 196.14,-88.23 185.99,-85.18 186.31,-92.18\"/>\n",
       "<text text-anchor=\"middle\" x=\"137.35\" y=\"-92.84\" font-family=\"Times,serif\" font-size=\"14.00\">a</text>\n",
       "</g>\n",
       "<!-- 3 -->\n",
       "<g id=\"node5\" class=\"node\">\n",
       "<title>3</title>\n",
       "<ellipse fill=\"none\" stroke=\"black\" cx=\"137.35\" cy=\"-48.87\" rx=\"18\" ry=\"18\"/>\n",
       "<text text-anchor=\"middle\" x=\"137.35\" y=\"-43.82\" font-family=\"Times,serif\" font-size=\"14.00\">3</text>\n",
       "</g>\n",
       "<!-- 0&#45;&gt;3 -->\n",
       "<g id=\"edge5\" class=\"edge\">\n",
       "<title>0-&gt;3</title>\n",
       "<path fill=\"none\" stroke=\"black\" d=\"M75.13,-79.18C85.33,-74.13 98.9,-67.41 110.68,-61.58\"/>\n",
       "<polygon fill=\"black\" stroke=\"black\" points=\"112.08,-64.79 119.49,-57.22 108.97,-58.52 112.08,-64.79\"/>\n",
       "<text text-anchor=\"middle\" x=\"97.98\" y=\"-72.21\" font-family=\"Times,serif\" font-size=\"14.00\">b</text>\n",
       "</g>\n",
       "<!-- 1&#45;&gt;2 -->\n",
       "<g id=\"edge7\" class=\"edge\">\n",
       "<title>1-&gt;2</title>\n",
       "<path fill=\"none\" stroke=\"black\" d=\"M151.68,-144.48C163.15,-134.68 180,-120.28 193.98,-108.33\"/>\n",
       "<polygon fill=\"black\" stroke=\"black\" points=\"196.19,-111.05 201.52,-101.89 191.65,-105.72 196.19,-111.05\"/>\n",
       "<text text-anchor=\"middle\" x=\"176.73\" y=\"-128.7\" font-family=\"Times,serif\" font-size=\"14.00\">b</text>\n",
       "</g>\n",
       "<!-- 2&#45;&gt;0 -->\n",
       "<g id=\"edge8\" class=\"edge\">\n",
       "<title>2-&gt;0</title>\n",
       "<path fill=\"none\" stroke=\"black\" d=\"M210.02,-66.76C199.86,-47.01 181.35,-18.04 155.35,-5.37 140.97,1.64 133.62,1.86 119.35,-5.37 96.88,-16.76 80.81,-41.02 71.04,-60.12\"/>\n",
       "<polygon fill=\"black\" stroke=\"black\" points=\"67.95,-58.47 66.79,-69 74.27,-61.49 67.95,-58.47\"/>\n",
       "<text text-anchor=\"middle\" x=\"137.35\" y=\"-8.57\" font-family=\"Times,serif\" font-size=\"14.00\">a, b</text>\n",
       "</g>\n",
       "<!-- 3&#45;&gt;2 -->\n",
       "<g id=\"edge6\" class=\"edge\">\n",
       "<title>3-&gt;2</title>\n",
       "<path fill=\"none\" stroke=\"black\" d=\"M153.92,-56.2C163.99,-60.93 177.41,-67.25 189.46,-72.92\"/>\n",
       "<polygon fill=\"black\" stroke=\"black\" points=\"187.67,-75.95 198.21,-77.04 190.65,-69.61 187.67,-75.95\"/>\n",
       "<text text-anchor=\"middle\" x=\"176.73\" y=\"-71.07\" font-family=\"Times,serif\" font-size=\"14.00\">a</text>\n",
       "</g>\n",
       "</g>\n",
       "</svg>"
      ],
      "text/plain": [
       "<IPython.core.display.SVG object>"
      ]
     },
     "metadata": {},
     "output_type": "display_data"
    }
   ],
   "source": [
    "x.display()\n",
    "# x_dfa = x.toDFA()\n",
    "# x_dfa.display()"
   ]
  },
  {
   "cell_type": "code",
   "execution_count": 18,
   "metadata": {},
   "outputs": [
    {
     "name": "stdout",
     "output_type": "stream",
     "text": [
      "[[0, 1], [1, 2], [2, 3], [3, 4], [4, 5], [5, 6]] 6\n"
     ]
    }
   ],
   "source": [
    "idx, pos = cnt(x, \"bababaa\")\n",
    "print(pos, idx)"
   ]
  }
 ],
 "metadata": {
  "kernelspec": {
   "display_name": "testing",
   "language": "python",
   "name": "python3"
  },
  "language_info": {
   "codemirror_mode": {
    "name": "ipython",
    "version": 3
   },
   "file_extension": ".py",
   "mimetype": "text/x-python",
   "name": "python",
   "nbconvert_exporter": "python",
   "pygments_lexer": "ipython3",
   "version": "3.13.1"
  }
 },
 "nbformat": 4,
 "nbformat_minor": 2
}
