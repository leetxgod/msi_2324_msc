{
 "cells": [
  {
   "cell_type": "code",
   "execution_count": 4,
   "metadata": {},
   "outputs": [
    {
     "data": {
      "image/svg+xml": [
       "<svg xmlns=\"http://www.w3.org/2000/svg\" xmlns:xlink=\"http://www.w3.org/1999/xlink\" width=\"335pt\" height=\"110pt\" viewBox=\"0.00 0.00 334.60 110.00\">\n",
       "<g id=\"graph0\" class=\"graph\" transform=\"scale(1 1) rotate(0) translate(4 106)\">\n",
       "<title>finite_state_machine</title>\n",
       "<polygon fill=\"white\" stroke=\"none\" points=\"-4,4 -4,-106 330.6,-106 330.6,4 -4,4\"/>\n",
       "<!-- dummy0 -->\n",
       "<g id=\"node1\" class=\"node\">\n",
       "<title>dummy0</title>\n",
       "<ellipse fill=\"black\" stroke=\"black\" cx=\"1.8\" cy=\"-51\" rx=\"1.8\" ry=\"1.8\"/>\n",
       "</g>\n",
       "<!-- 0 -->\n",
       "<g id=\"node2\" class=\"node\">\n",
       "<title>0</title>\n",
       "<ellipse fill=\"none\" stroke=\"black\" cx=\"58.6\" cy=\"-51\" rx=\"18\" ry=\"18\"/>\n",
       "<text text-anchor=\"middle\" x=\"58.6\" y=\"-45.95\" font-family=\"Times,serif\" font-size=\"14.00\">0</text>\n",
       "</g>\n",
       "<!-- dummy0&#45;&gt;0 -->\n",
       "<g id=\"edge1\" class=\"edge\">\n",
       "<title>dummy0-&gt;0</title>\n",
       "<path fill=\"none\" stroke=\"black\" d=\"M3.75,-51C6.96,-51 17.8,-51 28.92,-51\"/>\n",
       "<polygon fill=\"black\" stroke=\"black\" points=\"28.79,-54.5 38.79,-51 28.78,-47.5 28.79,-54.5\"/>\n",
       "</g>\n",
       "<!-- 1 -->\n",
       "<g id=\"node3\" class=\"node\">\n",
       "<title>1</title>\n",
       "<ellipse fill=\"none\" stroke=\"black\" cx=\"140.6\" cy=\"-80\" rx=\"18\" ry=\"18\"/>\n",
       "<ellipse fill=\"none\" stroke=\"black\" cx=\"140.6\" cy=\"-80\" rx=\"22\" ry=\"22\"/>\n",
       "<text text-anchor=\"middle\" x=\"140.6\" y=\"-74.95\" font-family=\"Times,serif\" font-size=\"14.00\">1</text>\n",
       "</g>\n",
       "<!-- 0&#45;&gt;1 -->\n",
       "<g id=\"edge2\" class=\"edge\">\n",
       "<title>0-&gt;1</title>\n",
       "<path fill=\"none\" stroke=\"black\" d=\"M75.79,-56.87C85.24,-60.29 97.48,-64.73 108.71,-68.8\"/>\n",
       "<polygon fill=\"black\" stroke=\"black\" points=\"107.44,-72.07 118.03,-72.18 109.83,-65.48 107.44,-72.07\"/>\n",
       "<text text-anchor=\"middle\" x=\"97.6\" y=\"-68.7\" font-family=\"Times,serif\" font-size=\"14.00\">a</text>\n",
       "</g>\n",
       "<!-- 2 -->\n",
       "<g id=\"node4\" class=\"node\">\n",
       "<title>2</title>\n",
       "<ellipse fill=\"none\" stroke=\"black\" cx=\"140.6\" cy=\"-22\" rx=\"18\" ry=\"18\"/>\n",
       "<text text-anchor=\"middle\" x=\"140.6\" y=\"-16.95\" font-family=\"Times,serif\" font-size=\"14.00\">2</text>\n",
       "</g>\n",
       "<!-- 0&#45;&gt;2 -->\n",
       "<g id=\"edge3\" class=\"edge\">\n",
       "<title>0-&gt;2</title>\n",
       "<path fill=\"none\" stroke=\"black\" d=\"M75.79,-45.13C86.35,-41.3 100.38,-36.22 112.6,-31.79\"/>\n",
       "<polygon fill=\"black\" stroke=\"black\" points=\"113.53,-35.17 121.74,-28.48 111.14,-28.59 113.53,-35.17\"/>\n",
       "<text text-anchor=\"middle\" x=\"97.6\" y=\"-41.44\" font-family=\"Times,serif\" font-size=\"14.00\">a</text>\n",
       "</g>\n",
       "<!-- 3 -->\n",
       "<g id=\"node5\" class=\"node\">\n",
       "<title>3</title>\n",
       "<ellipse fill=\"none\" stroke=\"black\" cx=\"222.6\" cy=\"-22\" rx=\"18\" ry=\"18\"/>\n",
       "<text text-anchor=\"middle\" x=\"222.6\" y=\"-16.95\" font-family=\"Times,serif\" font-size=\"14.00\">3</text>\n",
       "</g>\n",
       "<!-- 2&#45;&gt;3 -->\n",
       "<g id=\"edge4\" class=\"edge\">\n",
       "<title>2-&gt;3</title>\n",
       "<path fill=\"none\" stroke=\"black\" d=\"M158.96,-22C168.92,-22 181.67,-22 193.06,-22\"/>\n",
       "<polygon fill=\"black\" stroke=\"black\" points=\"192.76,-25.5 202.76,-22 192.76,-18.5 192.76,-25.5\"/>\n",
       "<text text-anchor=\"middle\" x=\"183.6\" y=\"-25.2\" font-family=\"Times,serif\" font-size=\"14.00\">a</text>\n",
       "</g>\n",
       "<!-- 4 -->\n",
       "<g id=\"node6\" class=\"node\">\n",
       "<title>4</title>\n",
       "<ellipse fill=\"none\" stroke=\"black\" cx=\"304.6\" cy=\"-22\" rx=\"18\" ry=\"18\"/>\n",
       "<ellipse fill=\"none\" stroke=\"black\" cx=\"304.6\" cy=\"-22\" rx=\"22\" ry=\"22\"/>\n",
       "<text text-anchor=\"middle\" x=\"304.6\" y=\"-16.95\" font-family=\"Times,serif\" font-size=\"14.00\">4</text>\n",
       "</g>\n",
       "<!-- 3&#45;&gt;4 -->\n",
       "<g id=\"edge5\" class=\"edge\">\n",
       "<title>3-&gt;4</title>\n",
       "<path fill=\"none\" stroke=\"black\" d=\"M240.96,-22C249.77,-22 260.78,-22 271.09,-22\"/>\n",
       "<polygon fill=\"black\" stroke=\"black\" points=\"270.77,-25.5 280.77,-22 270.77,-18.5 270.77,-25.5\"/>\n",
       "<text text-anchor=\"middle\" x=\"261.6\" y=\"-25.2\" font-family=\"Times,serif\" font-size=\"14.00\">a</text>\n",
       "</g>\n",
       "</g>\n",
       "</svg>"
      ],
      "text/plain": [
       "<IPython.core.display.SVG object>"
      ]
     },
     "metadata": {},
     "output_type": "display_data"
    }
   ],
   "source": [
    "from new_nfa import *\n",
    "#from count import *\n",
    "\n",
    "w1 = \"a+aaa\"\n",
    "\n",
    "regGrammar = lark.Lark.open(\"lang/regexp_test.lark\", start=\"rege\", parser=\"lalr\")\n",
    "tree = regGrammar.parse(w1)\n",
    "reg = BuildRegexp(context={\"sigma\": None}).transform(tree)\n",
    "reg.setSigma(reg.setOfSymbols())\n",
    "x = reg.toNFA(\"nfaPosCount\")\n",
    "x.display()"
   ]
  },
  {
   "cell_type": "code",
   "execution_count": 112,
   "metadata": {},
   "outputs": [
    {
     "name": "stdout",
     "output_type": "stream",
     "text": [
      "initial state a\n",
      "initial state a\n",
      "1 follow a a\n",
      "1 follow a a\n",
      "0 follow a a\n",
      "0 follow a a\n",
      "last a\n",
      "last a\n"
     ]
    }
   ],
   "source": [
    "stack = []\n",
    "state_idx = 0\n",
    "for sym in reg.first():\n",
    "\tstack.append((sym, state_idx))\n",
    "\tprint(\"initial state\", sym)\n",
    "\tstate_idx+=1\n",
    "\n",
    "follow_sets = reg.followLists()\n",
    "\n",
    "while stack:\n",
    "\tstate, state_idx = stack.pop()\n",
    "\tfor sym in follow_sets[state]:\n",
    "\t\tprint(state_idx, \"follow\", state, sym)\n",
    "\n",
    "for sym in reg.last():\n",
    "\tprint(\"last\", sym)"
   ]
  },
  {
   "cell_type": "code",
   "execution_count": 90,
   "metadata": {},
   "outputs": [
    {
     "data": {
      "image/svg+xml": [
       "<svg xmlns=\"http://www.w3.org/2000/svg\" xmlns:xlink=\"http://www.w3.org/1999/xlink\" width=\"335pt\" height=\"110pt\" viewBox=\"0.00 0.00 334.60 110.00\">\n",
       "<g id=\"graph0\" class=\"graph\" transform=\"scale(1 1) rotate(0) translate(4 106)\">\n",
       "<title>finite_state_machine</title>\n",
       "<polygon fill=\"white\" stroke=\"none\" points=\"-4,4 -4,-106 330.6,-106 330.6,4 -4,4\"/>\n",
       "<!-- dummy0 -->\n",
       "<g id=\"node1\" class=\"node\">\n",
       "<title>dummy0</title>\n",
       "<ellipse fill=\"black\" stroke=\"black\" cx=\"1.8\" cy=\"-51\" rx=\"1.8\" ry=\"1.8\"/>\n",
       "</g>\n",
       "<!-- 0 -->\n",
       "<g id=\"node2\" class=\"node\">\n",
       "<title>0</title>\n",
       "<ellipse fill=\"none\" stroke=\"black\" cx=\"58.6\" cy=\"-51\" rx=\"18\" ry=\"18\"/>\n",
       "<text text-anchor=\"middle\" x=\"58.6\" y=\"-45.95\" font-family=\"Times,serif\" font-size=\"14.00\">0</text>\n",
       "</g>\n",
       "<!-- dummy0&#45;&gt;0 -->\n",
       "<g id=\"edge1\" class=\"edge\">\n",
       "<title>dummy0-&gt;0</title>\n",
       "<path fill=\"none\" stroke=\"black\" d=\"M3.75,-51C6.96,-51 17.8,-51 28.92,-51\"/>\n",
       "<polygon fill=\"black\" stroke=\"black\" points=\"28.79,-54.5 38.79,-51 28.78,-47.5 28.79,-54.5\"/>\n",
       "</g>\n",
       "<!-- 1 -->\n",
       "<g id=\"node3\" class=\"node\">\n",
       "<title>1</title>\n",
       "<ellipse fill=\"none\" stroke=\"black\" cx=\"136.6\" cy=\"-79\" rx=\"18\" ry=\"18\"/>\n",
       "<text text-anchor=\"middle\" x=\"136.6\" y=\"-73.95\" font-family=\"Times,serif\" font-size=\"14.00\">1</text>\n",
       "</g>\n",
       "<!-- 0&#45;&gt;1 -->\n",
       "<g id=\"edge2\" class=\"edge\">\n",
       "<title>0-&gt;1</title>\n",
       "<path fill=\"none\" stroke=\"black\" d=\"M75.72,-56.94C85.23,-60.44 97.51,-64.97 108.47,-69\"/>\n",
       "<polygon fill=\"black\" stroke=\"black\" points=\"107.23,-72.28 117.82,-72.45 109.65,-65.71 107.23,-72.28\"/>\n",
       "<text text-anchor=\"middle\" x=\"97.6\" y=\"-69.04\" font-family=\"Times,serif\" font-size=\"14.00\">a</text>\n",
       "</g>\n",
       "<!-- 2 -->\n",
       "<g id=\"node4\" class=\"node\">\n",
       "<title>2</title>\n",
       "<ellipse fill=\"none\" stroke=\"black\" cx=\"136.6\" cy=\"-24\" rx=\"18\" ry=\"18\"/>\n",
       "<text text-anchor=\"middle\" x=\"136.6\" y=\"-18.95\" font-family=\"Times,serif\" font-size=\"14.00\">2</text>\n",
       "</g>\n",
       "<!-- 0&#45;&gt;2 -->\n",
       "<g id=\"edge3\" class=\"edge\">\n",
       "<title>0-&gt;2</title>\n",
       "<path fill=\"none\" stroke=\"black\" d=\"M75.43,-43.41C81.37,-40.72 88.22,-37.79 94.6,-35.5 98.86,-33.97 103.43,-32.51 107.92,-31.18\"/>\n",
       "<polygon fill=\"black\" stroke=\"black\" points=\"108.53,-34.64 117.21,-28.57 106.64,-27.9 108.53,-34.64\"/>\n",
       "<text text-anchor=\"middle\" x=\"97.6\" y=\"-38.7\" font-family=\"Times,serif\" font-size=\"14.00\">a</text>\n",
       "</g>\n",
       "<!-- 4 -->\n",
       "<g id=\"node6\" class=\"node\">\n",
       "<title>4</title>\n",
       "<ellipse fill=\"none\" stroke=\"black\" cx=\"218.6\" cy=\"-80\" rx=\"18\" ry=\"18\"/>\n",
       "<text text-anchor=\"middle\" x=\"218.6\" y=\"-74.95\" font-family=\"Times,serif\" font-size=\"14.00\">4</text>\n",
       "</g>\n",
       "<!-- 1&#45;&gt;4 -->\n",
       "<g id=\"edge5\" class=\"edge\">\n",
       "<title>1-&gt;4</title>\n",
       "<path fill=\"none\" stroke=\"black\" d=\"M154.96,-79.22C164.92,-79.34 177.67,-79.5 189.06,-79.64\"/>\n",
       "<polygon fill=\"black\" stroke=\"black\" points=\"188.72,-83.14 198.76,-79.76 188.81,-76.14 188.72,-83.14\"/>\n",
       "<text text-anchor=\"middle\" x=\"175.6\" y=\"-82.7\" font-family=\"Times,serif\" font-size=\"14.00\">a</text>\n",
       "</g>\n",
       "<!-- 3 -->\n",
       "<g id=\"node5\" class=\"node\">\n",
       "<title>3</title>\n",
       "<ellipse fill=\"none\" stroke=\"black\" cx=\"218.6\" cy=\"-22\" rx=\"18\" ry=\"18\"/>\n",
       "<ellipse fill=\"none\" stroke=\"black\" cx=\"218.6\" cy=\"-22\" rx=\"22\" ry=\"22\"/>\n",
       "<text text-anchor=\"middle\" x=\"218.6\" y=\"-16.95\" font-family=\"Times,serif\" font-size=\"14.00\">3</text>\n",
       "</g>\n",
       "<!-- 2&#45;&gt;3 -->\n",
       "<g id=\"edge4\" class=\"edge\">\n",
       "<title>2-&gt;3</title>\n",
       "<path fill=\"none\" stroke=\"black\" d=\"M154.96,-23.57C163.77,-23.35 174.78,-23.07 185.09,-22.81\"/>\n",
       "<polygon fill=\"black\" stroke=\"black\" points=\"184.86,-26.32 194.77,-22.57 184.69,-19.32 184.86,-26.32\"/>\n",
       "<text text-anchor=\"middle\" x=\"175.6\" y=\"-26.32\" font-family=\"Times,serif\" font-size=\"14.00\">a</text>\n",
       "</g>\n",
       "<!-- 5 -->\n",
       "<g id=\"node7\" class=\"node\">\n",
       "<title>5</title>\n",
       "<ellipse fill=\"none\" stroke=\"black\" cx=\"304.6\" cy=\"-80\" rx=\"18\" ry=\"18\"/>\n",
       "<ellipse fill=\"none\" stroke=\"black\" cx=\"304.6\" cy=\"-80\" rx=\"22\" ry=\"22\"/>\n",
       "<text text-anchor=\"middle\" x=\"304.6\" y=\"-74.95\" font-family=\"Times,serif\" font-size=\"14.00\">5</text>\n",
       "</g>\n",
       "<!-- 4&#45;&gt;5 -->\n",
       "<g id=\"edge6\" class=\"edge\">\n",
       "<title>4-&gt;5</title>\n",
       "<path fill=\"none\" stroke=\"black\" d=\"M237,-80C246.88,-80 259.56,-80 271.19,-80\"/>\n",
       "<polygon fill=\"black\" stroke=\"black\" points=\"270.83,-83.5 280.83,-80 270.83,-76.5 270.83,-83.5\"/>\n",
       "<text text-anchor=\"middle\" x=\"261.6\" y=\"-83.2\" font-family=\"Times,serif\" font-size=\"14.00\">a</text>\n",
       "</g>\n",
       "</g>\n",
       "</svg>"
      ],
      "text/plain": [
       "<IPython.core.display.SVG object>"
      ]
     },
     "metadata": {},
     "output_type": "display_data"
    }
   ],
   "source": [
    "x.display()\n",
    "# x.newCountMatchesListed(word=\"bba\")"
   ]
  },
  {
   "cell_type": "code",
   "execution_count": 3,
   "metadata": {},
   "outputs": [
    {
     "data": {
      "image/svg+xml": [
       "<svg xmlns=\"http://www.w3.org/2000/svg\" xmlns:xlink=\"http://www.w3.org/1999/xlink\" width=\"249pt\" height=\"87pt\" viewBox=\"0.00 0.00 248.60 86.50\">\n",
       "<g id=\"graph0\" class=\"graph\" transform=\"scale(1 1) rotate(0) translate(4 82.5)\">\n",
       "<title>finite_state_machine</title>\n",
       "<polygon fill=\"white\" stroke=\"none\" points=\"-4,4 -4,-82.5 244.6,-82.5 244.6,4 -4,4\"/>\n",
       "<!-- dummy -->\n",
       "<g id=\"node1\" class=\"node\">\n",
       "<title>dummy</title>\n",
       "<ellipse fill=\"black\" stroke=\"black\" cx=\"1.8\" cy=\"-22\" rx=\"1.8\" ry=\"1.8\"/>\n",
       "</g>\n",
       "<!-- 0 -->\n",
       "<g id=\"node2\" class=\"node\">\n",
       "<title>0</title>\n",
       "<ellipse fill=\"none\" stroke=\"black\" cx=\"58.6\" cy=\"-22\" rx=\"18\" ry=\"18\"/>\n",
       "<text text-anchor=\"middle\" x=\"58.6\" y=\"-16.95\" font-family=\"Times,serif\" font-size=\"14.00\">0</text>\n",
       "</g>\n",
       "<!-- dummy&#45;&gt;0 -->\n",
       "<g id=\"edge1\" class=\"edge\">\n",
       "<title>dummy-&gt;0</title>\n",
       "<path fill=\"none\" stroke=\"black\" d=\"M3.75,-22C6.96,-22 17.8,-22 28.92,-22\"/>\n",
       "<polygon fill=\"black\" stroke=\"black\" points=\"28.79,-25.5 38.79,-22 28.78,-18.5 28.79,-25.5\"/>\n",
       "</g>\n",
       "<!-- 1 -->\n",
       "<g id=\"node3\" class=\"node\">\n",
       "<title>1</title>\n",
       "<ellipse fill=\"none\" stroke=\"black\" cx=\"136.6\" cy=\"-22\" rx=\"18\" ry=\"18\"/>\n",
       "<text text-anchor=\"middle\" x=\"136.6\" y=\"-16.95\" font-family=\"Times,serif\" font-size=\"14.00\">1</text>\n",
       "</g>\n",
       "<!-- 0&#45;&gt;1 -->\n",
       "<g id=\"edge2\" class=\"edge\">\n",
       "<title>0-&gt;1</title>\n",
       "<path fill=\"none\" stroke=\"black\" d=\"M76.85,-22C85.72,-22 96.78,-22 106.9,-22\"/>\n",
       "<polygon fill=\"black\" stroke=\"black\" points=\"106.65,-25.5 116.65,-22 106.65,-18.5 106.65,-25.5\"/>\n",
       "<text text-anchor=\"middle\" x=\"97.6\" y=\"-25.2\" font-family=\"Times,serif\" font-size=\"14.00\">a</text>\n",
       "</g>\n",
       "<!-- 2 -->\n",
       "<g id=\"node4\" class=\"node\">\n",
       "<title>2</title>\n",
       "<ellipse fill=\"none\" stroke=\"black\" cx=\"218.6\" cy=\"-22\" rx=\"18\" ry=\"18\"/>\n",
       "<ellipse fill=\"none\" stroke=\"black\" cx=\"218.6\" cy=\"-22\" rx=\"22\" ry=\"22\"/>\n",
       "<text text-anchor=\"middle\" x=\"218.6\" y=\"-16.95\" font-family=\"Times,serif\" font-size=\"14.00\">2</text>\n",
       "</g>\n",
       "<!-- 1&#45;&gt;2 -->\n",
       "<g id=\"edge3\" class=\"edge\">\n",
       "<title>1-&gt;2</title>\n",
       "<path fill=\"none\" stroke=\"black\" d=\"M154.96,-22C163.77,-22 174.78,-22 185.09,-22\"/>\n",
       "<polygon fill=\"black\" stroke=\"black\" points=\"184.77,-25.5 194.77,-22 184.77,-18.5 184.77,-25.5\"/>\n",
       "<text text-anchor=\"middle\" x=\"175.6\" y=\"-25.2\" font-family=\"Times,serif\" font-size=\"14.00\">a</text>\n",
       "</g>\n",
       "<!-- 2&#45;&gt;2 -->\n",
       "<g id=\"edge4\" class=\"edge\">\n",
       "<title>2-&gt;2</title>\n",
       "<path fill=\"none\" stroke=\"black\" d=\"M210.73,-42.99C209.76,-53.09 212.39,-62 218.6,-62 222.29,-62 224.71,-58.86 225.87,-54.19\"/>\n",
       "<polygon fill=\"black\" stroke=\"black\" points=\"229.35,-54.67 226.39,-44.5 222.36,-54.3 229.35,-54.67\"/>\n",
       "<text text-anchor=\"middle\" x=\"218.6\" y=\"-65.2\" font-family=\"Times,serif\" font-size=\"14.00\">a</text>\n",
       "</g>\n",
       "</g>\n",
       "</svg>"
      ],
      "text/plain": [
       "<IPython.core.display.SVG object>"
      ]
     },
     "metadata": {},
     "output_type": "display_data"
    }
   ],
   "source": [
    "# add wrapper for NFA (toDFA)\n",
    "# add gen words (concat them) and test the cFA (with overlapping) (DONE)\n",
    "# finish DFA class (setattr and marked symbol list) and count\n",
    "# continue CICD\n",
    "\n",
    "z = x.toDFA() # add wrapper?\n",
    "z.display()"
   ]
  },
  {
   "cell_type": "code",
   "execution_count": 4,
   "metadata": {},
   "outputs": [
    {
     "name": "stdout",
     "output_type": "stream",
     "text": [
      "0 a 0\n",
      "0 a 1\n",
      "0 a 2\n",
      "2 a 3\n",
      "1 a 2\n"
     ]
    }
   ],
   "source": [
    "for i in x.delta:\n",
    "\tfor j in x.delta[i]:\n",
    "\t\tfor z in x.delta[i][j]:\n",
    "\t\t\tprint(i,j,z)"
   ]
  },
  {
   "cell_type": "code",
   "execution_count": 3,
   "metadata": {},
   "outputs": [
    {
     "name": "stdout",
     "output_type": "stream",
     "text": [
      "w a\n",
      "c a\n",
      "before {0}\n",
      "\tafter {1, 2}\n"
     ]
    },
    {
     "data": {
      "text/plain": [
       "0"
      ]
     },
     "execution_count": 3,
     "metadata": {},
     "output_type": "execute_result"
    }
   ],
   "source": [
    "x.newCountMatches(word=\"a\")"
   ]
  }
 ],
 "metadata": {
  "kernelspec": {
   "display_name": "testing",
   "language": "python",
   "name": "python3"
  },
  "language_info": {
   "codemirror_mode": {
    "name": "ipython",
    "version": 3
   },
   "file_extension": ".py",
   "mimetype": "text/x-python",
   "name": "python",
   "nbconvert_exporter": "python",
   "pygments_lexer": "ipython3",
   "version": "3.13.1"
  }
 },
 "nbformat": 4,
 "nbformat_minor": 2
}
