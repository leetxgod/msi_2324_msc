{
 "cells": [
  {
   "cell_type": "code",
   "execution_count": null,
   "metadata": {},
   "outputs": [],
   "source": [
    "from FAdo.fa import *\n",
    "from FAdo.reex import *\n",
    "from FAdo.fio import *\n",
    "from FAdo.rndadfa import *\n",
    "\n",
    "import lark"
   ]
  },
  {
   "cell_type": "code",
   "execution_count": null,
   "metadata": {},
   "outputs": [],
   "source": [
    "new_idea = NFA()\n",
    "# ab+ba\n",
    "sigma = set('ab')\n",
    "num_states = 2*len(sigma)\n",
    "\n",
    "new_idea.setSigma(['a','b'])\n",
    "\n",
    "new_idea.addState(\"0\")\n",
    "new_idea.addState(\"1\")\n",
    "new_idea.addState(\"2\")\n",
    "new_idea.addState(\"3\")\n",
    "\n",
    "new_idea.addInitial(0)\n",
    "new_idea.addFinal(3)\n",
    "\n",
    "new_idea.addTransition(0, 'a', 0)\n",
    "new_idea.addTransition(0, 'b', 0)\n",
    "new_idea.addTransition(0, 'a', 1)\n",
    "new_idea.addTransition(0, 'b', 2)\n",
    "new_idea.addTransition(1, 'a', 0)\n",
    "new_idea.addTransition(2, 'b', 0)\n",
    "new_idea.addTransition(2, 'a', 1)\n",
    "new_idea.addTransition(1, 'b', 2)\n",
    "new_idea.addTransition(1, 'b', 3)\n",
    "new_idea.addTransition(2, 'a', 3)\n",
    "new_idea.addTransition(3, 'b', 2)\n",
    "new_idea.addTransition(3, 'a', 1)\n"
   ]
  },
  {
   "cell_type": "code",
   "execution_count": null,
   "metadata": {},
   "outputs": [],
   "source": [
    "graph = NFA() # abab + baba\n",
    "word = \"ababababababb\"\n",
    "graph.setSigma(set(word))\n",
    "graph.addState(\"0\")\n",
    "graph.addState(\"1\")\n",
    "graph.addState(\"2\")\n",
    "graph.addState(\"3\")\n",
    "graph.addState(\"4\")\n",
    "graph.addState(\"5\")\n",
    "graph.addState(\"6\")\n",
    "graph.addState(\"7\")\n",
    "\n",
    "graph.addInitial(0)\n",
    "graph.addFinal(7)\n",
    "\n",
    "# abab\n",
    "graph.addTransition(0, 'a', 1)\n",
    "graph.addTransition(1, 'b', 2)\n",
    "graph.addTransition(2, 'a', 3)\n",
    "graph.addTransition(3, 'b', 7)\n",
    "\n",
    "# baba\n",
    "graph.addTransition(0, 'b', 4)\n",
    "graph.addTransition(4, 'a', 5)\n",
    "graph.addTransition(5, 'b', 6)\n",
    "graph.addTransition(6, 'a', 7)\n",
    "\n",
    "# inter\n",
    "graph.addTransition(1, 'b', 4)\n",
    "graph.addTransition(2, 'a', 5)\n",
    "graph.addTransition(3, 'b', 6)\n",
    "\n",
    "graph.addTransition(4, 'a', 1)\n",
    "graph.addTransition(5, 'b', 2)\n",
    "graph.addTransition(6, 'a', 3)\n",
    "\n",
    "graph.addTransition(2, 'a', 1)\n",
    "graph.addTransition(3, 'b', 2)\n",
    "graph.addTransition(3, 'b', 4)\n",
    "\n",
    "graph.addTransition(5, 'b', 4)\n",
    "graph.addTransition(6, 'a', 5)\n",
    "graph.addTransition(6, 'b', 1)\n",
    "\n",
    "graph.addTransitionStar(7, 0)\n",
    "graph.addTransitionStar(0, 0)\n",
    "\n",
    "graph.display()\n"
   ]
  },
  {
   "cell_type": "code",
   "execution_count": 84,
   "metadata": {},
   "outputs": [],
   "source": [
    "def cnt(grp, wrd):\n",
    "\tilist = grp.epsilonClosure(set([0]))\n",
    "\tctr = 0\n",
    "\tfor i in wrd:\n",
    "\t\tilist = grp.evalSymbol(ilist, i)\n",
    "\t\tfor s in grp.Final:\n",
    "\t\t\tif s in ilist:\n",
    "\t\t\t\tctr+=1\n",
    "\t\t\t\tbreak\n",
    "\n",
    "\treturn ctr"
   ]
  },
  {
   "cell_type": "code",
   "execution_count": null,
   "metadata": {},
   "outputs": [],
   "source": [
    "cnt(graph, 'ababab')"
   ]
  },
  {
   "cell_type": "code",
   "execution_count": null,
   "metadata": {},
   "outputs": [
    {
     "data": {
      "image/svg+xml": [
       "<svg xmlns=\"http://www.w3.org/2000/svg\" xmlns:xlink=\"http://www.w3.org/1999/xlink\" width=\"250pt\" height=\"98pt\" viewBox=\"0.00 0.00 250.10 98.00\">\n",
       "<g id=\"graph0\" class=\"graph\" transform=\"scale(1 1) rotate(0) translate(4 94)\">\n",
       "<title>finite_state_machine</title>\n",
       "<polygon fill=\"white\" stroke=\"none\" points=\"-4,4 -4,-94 246.1,-94 246.1,4 -4,4\"/>\n",
       "<!-- dummy0 -->\n",
       "<g id=\"node1\" class=\"node\">\n",
       "<title>dummy0</title>\n",
       "<ellipse fill=\"black\" stroke=\"black\" cx=\"1.8\" cy=\"-45\" rx=\"1.8\" ry=\"1.8\"/>\n",
       "</g>\n",
       "<!-- 0 -->\n",
       "<g id=\"node2\" class=\"node\">\n",
       "<title>0</title>\n",
       "<ellipse fill=\"none\" stroke=\"black\" cx=\"58.6\" cy=\"-45\" rx=\"18\" ry=\"18\"/>\n",
       "<text text-anchor=\"middle\" x=\"58.6\" y=\"-39.95\" font-family=\"Times New Roman,serif\" font-size=\"14.00\">0</text>\n",
       "</g>\n",
       "<!-- dummy0&#45;&gt;0 -->\n",
       "<g id=\"edge1\" class=\"edge\">\n",
       "<title>dummy0-&gt;0</title>\n",
       "<path fill=\"none\" stroke=\"black\" d=\"M3.75,-45C6.96,-45 17.8,-45 28.92,-45\"/>\n",
       "<polygon fill=\"black\" stroke=\"black\" points=\"28.79,-48.5 38.79,-45 28.78,-41.5 28.79,-48.5\"/>\n",
       "</g>\n",
       "<!-- 2 -->\n",
       "<g id=\"node4\" class=\"node\">\n",
       "<title>2</title>\n",
       "<ellipse fill=\"none\" stroke=\"black\" cx=\"137.35\" cy=\"-72\" rx=\"18\" ry=\"18\"/>\n",
       "<text text-anchor=\"middle\" x=\"137.35\" y=\"-66.95\" font-family=\"Times New Roman,serif\" font-size=\"14.00\">2</text>\n",
       "</g>\n",
       "<!-- 0&#45;&gt;2 -->\n",
       "<g id=\"edge2\" class=\"edge\">\n",
       "<title>0-&gt;2</title>\n",
       "<path fill=\"none\" stroke=\"black\" d=\"M75.88,-50.73C85.58,-54.14 98.14,-58.56 109.3,-62.48\"/>\n",
       "<polygon fill=\"black\" stroke=\"black\" points=\"107.81,-65.67 118.4,-65.69 110.13,-59.07 107.81,-65.67\"/>\n",
       "<text text-anchor=\"middle\" x=\"97.98\" y=\"-62.51\" font-family=\"Times New Roman,serif\" font-size=\"14.00\">a</text>\n",
       "</g>\n",
       "<!-- 3 -->\n",
       "<g id=\"node5\" class=\"node\">\n",
       "<title>3</title>\n",
       "<ellipse fill=\"none\" stroke=\"black\" cx=\"137.35\" cy=\"-18\" rx=\"18\" ry=\"18\"/>\n",
       "<text text-anchor=\"middle\" x=\"137.35\" y=\"-12.95\" font-family=\"Times New Roman,serif\" font-size=\"14.00\">3</text>\n",
       "</g>\n",
       "<!-- 0&#45;&gt;3 -->\n",
       "<g id=\"edge3\" class=\"edge\">\n",
       "<title>0-&gt;3</title>\n",
       "<path fill=\"none\" stroke=\"black\" d=\"M75.88,-39.27C85.58,-35.86 98.14,-31.44 109.3,-27.52\"/>\n",
       "<polygon fill=\"black\" stroke=\"black\" points=\"110.13,-30.93 118.4,-24.31 107.81,-24.33 110.13,-30.93\"/>\n",
       "<text text-anchor=\"middle\" x=\"97.98\" y=\"-35.51\" font-family=\"Times New Roman,serif\" font-size=\"14.00\">b</text>\n",
       "</g>\n",
       "<!-- 1 -->\n",
       "<g id=\"node3\" class=\"node\">\n",
       "<title>1</title>\n",
       "<ellipse fill=\"none\" stroke=\"black\" cx=\"220.1\" cy=\"-45\" rx=\"18\" ry=\"18\"/>\n",
       "<ellipse fill=\"none\" stroke=\"black\" cx=\"220.1\" cy=\"-45\" rx=\"22\" ry=\"22\"/>\n",
       "<text text-anchor=\"middle\" x=\"220.1\" y=\"-39.95\" font-family=\"Times New Roman,serif\" font-size=\"14.00\">1</text>\n",
       "</g>\n",
       "<!-- 2&#45;&gt;1 -->\n",
       "<g id=\"edge4\" class=\"edge\">\n",
       "<title>2-&gt;1</title>\n",
       "<path fill=\"none\" stroke=\"black\" d=\"M154.69,-66.54C164.23,-63.35 176.58,-59.22 187.92,-55.43\"/>\n",
       "<polygon fill=\"black\" stroke=\"black\" points=\"188.96,-58.77 197.33,-52.28 186.74,-52.13 188.96,-58.77\"/>\n",
       "<text text-anchor=\"middle\" x=\"176.73\" y=\"-63.32\" font-family=\"Times New Roman,serif\" font-size=\"14.00\">b</text>\n",
       "</g>\n",
       "<!-- 3&#45;&gt;1 -->\n",
       "<g id=\"edge5\" class=\"edge\">\n",
       "<title>3-&gt;1</title>\n",
       "<path fill=\"none\" stroke=\"black\" d=\"M154.69,-23.46C164.23,-26.65 176.58,-30.78 187.92,-34.57\"/>\n",
       "<polygon fill=\"black\" stroke=\"black\" points=\"186.74,-37.87 197.33,-37.72 188.96,-31.23 186.74,-37.87\"/>\n",
       "<text text-anchor=\"middle\" x=\"176.73\" y=\"-34.7\" font-family=\"Times New Roman,serif\" font-size=\"14.00\">a</text>\n",
       "</g>\n",
       "</g>\n",
       "</svg>"
      ],
      "text/plain": [
       "<IPython.core.display.SVG object>"
      ]
     },
     "metadata": {},
     "output_type": "display_data"
    }
   ],
   "source": [
    "sigma = \"ab\"\n",
    "kp = \"ab|ba\"\n",
    "ng = NFA()\n",
    "ng.setSigma(sigma)\n",
    "meta_transitions = []\n",
    "\n",
    "# add first paths\n",
    "splt = kp.split(\"|\")\n",
    "initial_state = ng.addState()\n",
    "last_state = 0\n",
    "final_state = ng.addState()\n",
    "ng.addFinal(final_state)\n",
    "for s in splt:\n",
    "\tck=0\n",
    "\tfor k in s:\n",
    "\t\tif ck == 0:\n",
    "\t\t\tlast_state = ng.addState()\n",
    "\t\t\tng.addTransition(initial_state, k, last_state)\n",
    "\t\t\tmeta_transitions.append((initial_state, k, last_state, 1))\n",
    "\t\telif ck == len(s)-1:\n",
    "\t\t\tng.addTransition(last_state, k, final_state)\n",
    "\t\t\tmeta_transitions.append((last_state, k, final_state, ck+1))\n",
    "\t\telse:\n",
    "\t\t\told_state = last_state\n",
    "\t\t\tlast_state = ng.addState()\n",
    "\t\t\tng.addTransition(old_state, k, last_state)\n",
    "\t\t\tmeta_transitions.append((old_state, k, last_state, ck+1))\n",
    "\t\tck+=1\n",
    "\n",
    "# inter states\n",
    "ts_to_add = []\n",
    "for j in meta_transitions:\n",
    "\tf_state_dist = j[3]\n",
    "# for j in ng.transitions():\n",
    "# \tinput_sym = j[1]\n",
    "# \tf_state = j[0]\n",
    "\n",
    "\n",
    "\t# for k in ng.transitions():\n",
    "\t# \tif k!=j:\n",
    "\t# \t\tif k[1] == input_sym:\n",
    "\t# \t\t\tts_to_add.append((j[0], input_sym, k[2]))\n",
    "\n",
    "# for t in ts_to_add:\n",
    "# \tprint(t)\n",
    "\t#ng.addTransition(t[0], t[1], t[2])\n",
    "\n",
    "ng.addInitial(0)\n",
    "\n",
    "ng.display()"
   ]
  },
  {
   "cell_type": "code",
   "execution_count": 91,
   "metadata": {},
   "outputs": [
    {
     "name": "stdout",
     "output_type": "stream",
     "text": [
      "(0, 'a', 2, 1)\n",
      "(2, 'b', 1, 2)\n",
      "(0, 'b', 3, 1)\n",
      "(3, 'a', 1, 2)\n"
     ]
    }
   ],
   "source": [
    "for i in meta_transitions:\n",
    "\tprint(i)"
   ]
  },
  {
   "cell_type": "code",
   "execution_count": 92,
   "metadata": {},
   "outputs": [
    {
     "data": {
      "text/plain": [
       "1"
      ]
     },
     "execution_count": 92,
     "metadata": {},
     "output_type": "execute_result"
    }
   ],
   "source": [
    "cnt(ng, 'ababab')"
   ]
  },
  {
   "cell_type": "code",
   "execution_count": 62,
   "metadata": {},
   "outputs": [
    {
     "name": "stdout",
     "output_type": "stream",
     "text": [
      "(1, 'b', 2)\n",
      "(1, 'a', 2)\n"
     ]
    }
   ],
   "source": [
    "# add inter\n",
    "for j in ng.transitions():\n",
    "\tif j[0] != 0:\n",
    "\t\tprint(j)"
   ]
  },
  {
   "cell_type": "code",
   "execution_count": 60,
   "metadata": {},
   "outputs": [
    {
     "name": "stdout",
     "output_type": "stream",
     "text": [
      "(0, 'a', 1)\n",
      "(0, 'b', 1)\n",
      "(1, 'b', 2)\n",
      "(1, 'a', 2)\n"
     ]
    }
   ],
   "source": [
    "for t in ng.transitions():\n",
    "\tprint(t)"
   ]
  }
 ],
 "metadata": {
  "kernelspec": {
   "display_name": "Python 3",
   "language": "python",
   "name": "python3"
  },
  "language_info": {
   "codemirror_mode": {
    "name": "ipython",
    "version": 3
   },
   "file_extension": ".py",
   "mimetype": "text/x-python",
   "name": "python",
   "nbconvert_exporter": "python",
   "pygments_lexer": "ipython3",
   "version": "3.12.4"
  }
 },
 "nbformat": 4,
 "nbformat_minor": 2
}
